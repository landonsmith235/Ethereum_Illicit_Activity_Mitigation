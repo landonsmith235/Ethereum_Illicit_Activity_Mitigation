{
 "cells": [
  {
   "cell_type": "markdown",
   "id": "4761ad1e-4fe2-419f-8e66-976797926371",
   "metadata": {},
   "source": [
    "# Categorical Model (Phishing vs Non-Phishing)"
   ]
  },
  {
   "cell_type": "code",
   "execution_count": 17,
   "id": "b15e3750-b757-42b1-9e94-aaf76781717e",
   "metadata": {},
   "outputs": [
    {
     "name": "stdout",
     "output_type": "stream",
     "text": [
      "X shape: (1993, 22)\n",
      "y shape: (1993,)\n",
      "X_train shape: (1594, 22)\n",
      "y_train shape: (1594,)\n",
      "X_test shape: (399, 22)\n",
      "y_test shape: (399,)\n"
     ]
    }
   ],
   "source": [
    "import pandas as pd\n",
    "import numpy as np\n",
    "from sklearn.metrics import confusion_matrix, roc_auc_score, accuracy_score, classification_report\n",
    "from sklearn.feature_selection import SelectKBest, f_classif\n",
    "from sklearn.ensemble import VotingClassifier, RandomForestClassifier, GradientBoostingClassifier, AdaBoostClassifier\n",
    "from sklearn.tree import DecisionTreeClassifier\n",
    "from sklearn.model_selection import train_test_split, GridSearchCV\n",
    "from sklearn.preprocessing import StandardScaler, LabelEncoder\n",
    "\n",
    "# Load and clean data\n",
    "data = pd.read_csv('Cleaned_Merged_Featured_Eng_and_Phishing_Data.csv')\n",
    "\n",
    "# Recode the 'Scam_Types' column to binary\n",
    "data['Scam_Types'] = data['Scam_Types'].apply(lambda x: 1 if x == 'PHISHING' else 0)\n",
    "\n",
    "# Remove non-numeric columns except for 'Scam_Types'\n",
    "data_numeric = data.select_dtypes(include=[np.number])\n",
    "\n",
    "# Replacing the 'Scam_Types' column back into the data\n",
    "data_numeric['Scam_Types'] = data['Scam_Types']\n",
    "\n",
    "# Filling missing values with the median of each column\n",
    "data_numeric.fillna(data_numeric.median(), inplace=True)\n",
    "\n",
    "# Splitting data into training and testing sets\n",
    "X = data_numeric.drop('Scam_Types', axis=1)\n",
    "y = data_numeric['Scam_Types']\n",
    "\n",
    "# Before splitting data\n",
    "print(\"X shape:\", X.shape)\n",
    "print(\"y shape:\", y.shape)\n",
    "\n",
    "# Data splitting\n",
    "X_train, X_test, y_train, y_test = train_test_split(X, y, test_size=0.2, random_state=42)\n",
    "\n",
    "# Scaling the features\n",
    "scaler = StandardScaler()\n",
    "X_train_scaled = scaler.fit_transform(X_train)\n",
    "X_test_scaled = scaler.transform(X_test)\n",
    "\n",
    "# Data splitting\n",
    "X_train, X_test, y_train, y_test = train_test_split(X, y, test_size=0.2, random_state=42)\n",
    "\n",
    "# After splitting data\n",
    "print(\"X_train shape:\", X_train.shape)\n",
    "print(\"y_train shape:\", y_train.shape)\n",
    "print(\"X_test shape:\", X_test.shape)\n",
    "print(\"y_test shape:\", y_test.shape)\n",
    "\n"
   ]
  },
  {
   "cell_type": "code",
   "execution_count": 2,
   "id": "c496ba9f-6f5c-4e99-891e-36c63e7079cb",
   "metadata": {},
   "outputs": [],
   "source": [
    "# Model initialization\n",
    "rf_model = RandomForestClassifier(random_state=42)\n",
    "gb_model = GradientBoostingClassifier(random_state=42)\n",
    "ab_model = AdaBoostClassifier(random_state=42)\n",
    "dt_model = DecisionTreeClassifier(random_state=42)\n"
   ]
  },
  {
   "cell_type": "code",
   "execution_count": 3,
   "id": "119e95f4-b41d-41b0-bb77-7f218e82c072",
   "metadata": {
    "tags": []
   },
   "outputs": [
    {
     "name": "stdout",
     "output_type": "stream",
     "text": [
      "Fitting 3 folds for each of 2 candidates, totalling 6 fits\n",
      "Intel MKL WARNING: Support of Intel(R) Streaming SIMD Extensions 4.2 (Intel(R) SSE4.2) enabled only processors has been deprecated. Intel oneAPI Math Kernel Library 2025.0 will require Intel(R) Advanced Vector Extensions (Intel(R) AVX) instructions.\n",
      "Intel MKL WARNING: Support of Intel(R) Streaming SIMD Extensions 4.2 (Intel(R) SSE4.2) enabled only processors has been deprecated. Intel oneAPI Math Kernel Library 2025.0 will require Intel(R) Advanced Vector Extensions (Intel(R) AVX) instructions.\n",
      "Intel MKL WARNING: Support of Intel(R) Streaming SIMD Extensions 4.2 (Intel(R) SSE4.2) enabled only processors has been deprecated. Intel oneAPI Math Kernel Library 2025.0 will require Intel(R) Advanced Vector Extensions (Intel(R) AVX) instructions.\n",
      "Intel MKL WARNING: Support of Intel(R) Streaming SIMD Extensions 4.2 (Intel(R) SSE4.2) enabled only processors has been deprecated. Intel oneAPI Math Kernel Library 2025.0 will require Intel(R) Advanced Vector Extensions (Intel(R) AVX) instructions.\n",
      "Intel MKL WARNING: Support of Intel(R) Streaming SIMD Extensions 4.2 (Intel(R) SSE4.2) enabled only processors has been deprecated. Intel oneAPI Math Kernel Library 2025.0 will require Intel(R) Advanced Vector Extensions (Intel(R) AVX) instructions.\n",
      "Intel MKL WARNING: Support of Intel(R) Streaming SIMD Extensions 4.2 (Intel(R) SSE4.2) enabled only processors has been deprecated. Intel oneAPI Math Kernel Library 2025.0 will require Intel(R) Advanced Vector Extensions (Intel(R) AVX) instructions.\n",
      "Intel MKL WARNING: Support of Intel(R) Streaming SIMD Extensions 4.2 (Intel(R) SSE4.2) enabled only processors has been deprecated. Intel oneAPI Math Kernel Library 2025.0 will require Intel(R) Advanced Vector Extensions (Intel(R) AVX) instructions.\n",
      "Intel MKL WARNING: Support of Intel(R) Streaming SIMD Extensions 4.2 (Intel(R) SSE4.2) enabled only processors has been deprecated. Intel oneAPI Math Kernel Library 2025.0 will require Intel(R) Advanced Vector Extensions (Intel(R) AVX) instructions.\n",
      "Intel MKL WARNING: Support of Intel(R) Streaming SIMD Extensions 4.2 (Intel(R) SSE4.2) enabled only processors has been deprecated. Intel oneAPI Math Kernel Library 2025.0 will require Intel(R) Advanced Vector Extensions (Intel(R) AVX) instructions.\n",
      "Intel MKL WARNING: Support of Intel(R) Streaming SIMD Extensions 4.2 (Intel(R) SSE4.2) enabled only processors has been deprecated. Intel oneAPI Math Kernel Library 2025.0 will require Intel(R) Advanced Vector Extensions (Intel(R) AVX) instructions.\n",
      "Intel MKL WARNING: Support of Intel(R) Streaming SIMD Extensions 4.2 (Intel(R) SSE4.2) enabled only processors has been deprecated. Intel oneAPI Math Kernel Library 2025.0 will require Intel(R) Advanced Vector Extensions (Intel(R) AVX) instructions.\n",
      "Intel MKL WARNING: Support of Intel(R) Streaming SIMD Extensions 4.2 (Intel(R) SSE4.2) enabled only processors has been deprecated. Intel oneAPI Math Kernel Library 2025.0 will require Intel(R) Advanced Vector Extensions (Intel(R) AVX) instructions.\n",
      "Intel MKL WARNING: Support of Intel(R) Streaming SIMD Extensions 4.2 (Intel(R) SSE4.2) enabled only processors has been deprecated. Intel oneAPI Math Kernel Library 2025.0 will require Intel(R) Advanced Vector Extensions (Intel(R) AVX) instructions.\n",
      "Intel MKL WARNING: Support of Intel(R) Streaming SIMD Extensions 4.2 (Intel(R) SSE4.2) enabled only processors has been deprecated. Intel oneAPI Math Kernel Library 2025.0 will require Intel(R) Advanced Vector Extensions (Intel(R) AVX) instructions.\n",
      "Intel MKL WARNING: Support of Intel(R) Streaming SIMD Extensions 4.2 (Intel(R) SSE4.2) enabled only processors has been deprecated. Intel oneAPI Math Kernel Library 2025.0 will require Intel(R) Advanced Vector Extensions (Intel(R) AVX) instructions.\n",
      "Intel MKL WARNING: Support of Intel(R) Streaming SIMD Extensions 4.2 (Intel(R) SSE4.2) enabled only processors has been deprecated. Intel oneAPI Math Kernel Library 2025.0 will require Intel(R) Advanced Vector Extensions (Intel(R) AVX) instructions.\n",
      "Intel MKL WARNING: Support of Intel(R) Streaming SIMD Extensions 4.2 (Intel(R) SSE4.2) enabled only processors has been deprecated. Intel oneAPI Math Kernel Library 2025.0 will require Intel(R) Advanced Vector Extensions (Intel(R) AVX) instructions.\n",
      "Intel MKL WARNING: Support of Intel(R) Streaming SIMD Extensions 4.2 (Intel(R) SSE4.2) enabled only processors has been deprecated. Intel oneAPI Math Kernel Library 2025.0 will require Intel(R) Advanced Vector Extensions (Intel(R) AVX) instructions.\n",
      "Best parameters for Decision Tree: {'max_depth': 5}\n",
      "Accuracy for Decision Tree: 0.7819548872180451\n",
      "Classification Report for Decision Tree:\n",
      "              precision    recall  f1-score   support\n",
      "\n",
      "           0       0.81      0.72      0.76       192\n",
      "           1       0.76      0.84      0.80       207\n",
      "\n",
      "    accuracy                           0.78       399\n",
      "   macro avg       0.79      0.78      0.78       399\n",
      "weighted avg       0.78      0.78      0.78       399\n",
      "\n"
     ]
    }
   ],
   "source": [
    "# Grid Search for Decision Tree\n",
    "param_grid_dt = {'max_depth': [3, 5]}\n",
    "grid_search_dt = GridSearchCV(dt_model, param_grid_dt, cv=3, n_jobs=-1, verbose=2)\n",
    "grid_search_dt.fit(X_train_scaled, y_train)\n",
    "\n",
    "# Evaluation for Decision Tree\n",
    "best_dt_model = grid_search_dt.best_estimator_\n",
    "y_pred_dt = best_dt_model.predict(X_test_scaled)\n",
    "print(f\"Best parameters for Decision Tree: {grid_search_dt.best_params_}\")\n",
    "print(f\"Accuracy for Decision Tree: {accuracy_score(y_test, y_pred_dt)}\")\n",
    "print(f\"Classification Report for Decision Tree:\\n{classification_report(y_test, y_pred_dt)}\")\n"
   ]
  },
  {
   "cell_type": "code",
   "execution_count": 4,
   "id": "f4ed7bf7-0a8c-4da2-ac01-be6bd95674d3",
   "metadata": {},
   "outputs": [
    {
     "name": "stdout",
     "output_type": "stream",
     "text": [
      "Fitting 3 folds for each of 1 candidates, totalling 3 fits\n",
      "Best parameters for Gradient Boosting: {'learning_rate': 0.01, 'max_depth': 3, 'n_estimators': 50}\n",
      "Accuracy for Gradient Boosting: 0.7243107769423559\n",
      "Classification Report for Gradient Boosting:\n",
      "              precision    recall  f1-score   support\n",
      "\n",
      "           0       0.69      0.77      0.73       192\n",
      "           1       0.76      0.69      0.72       207\n",
      "\n",
      "    accuracy                           0.72       399\n",
      "   macro avg       0.73      0.73      0.72       399\n",
      "weighted avg       0.73      0.72      0.72       399\n",
      "\n"
     ]
    }
   ],
   "source": [
    "# Grid Search for Gradient Boosting\n",
    "param_grid_gb = {'n_estimators': [50], 'max_depth': [3], 'learning_rate': [0.01]}\n",
    "grid_search_gb = GridSearchCV(gb_model, param_grid_gb, cv=3, n_jobs=-1, verbose=2)\n",
    "grid_search_gb.fit(X_train_scaled, y_train)\n",
    "\n",
    "# Evaluation for Gradient Boosting\n",
    "best_gb_model = grid_search_gb.best_estimator_\n",
    "y_pred_gb = best_gb_model.predict(X_test_scaled)\n",
    "print(f\"Best parameters for Gradient Boosting: {grid_search_gb.best_params_}\")\n",
    "print(f\"Accuracy for Gradient Boosting: {accuracy_score(y_test, y_pred_gb)}\")\n",
    "print(f\"Classification Report for Gradient Boosting:\\n{classification_report(y_test, y_pred_gb)}\")\n"
   ]
  },
  {
   "cell_type": "code",
   "execution_count": 5,
   "id": "0443cf17-b971-44a8-8941-cc8eb409fc01",
   "metadata": {},
   "outputs": [
    {
     "name": "stdout",
     "output_type": "stream",
     "text": [
      "Fitting 3 folds for each of 1 candidates, totalling 3 fits\n",
      "Best parameters for AdaBoost: {'learning_rate': 0.01, 'n_estimators': 50}\n",
      "Accuracy for AdaBoost: 0.6641604010025063\n",
      "Classification Report for AdaBoost:\n",
      "              precision    recall  f1-score   support\n",
      "\n",
      "           0       0.62      0.81      0.70       192\n",
      "           1       0.75      0.53      0.62       207\n",
      "\n",
      "    accuracy                           0.66       399\n",
      "   macro avg       0.68      0.67      0.66       399\n",
      "weighted avg       0.68      0.66      0.66       399\n",
      "\n"
     ]
    }
   ],
   "source": [
    "# Grid Search for AdaBoost\n",
    "param_grid_ab = {'n_estimators': [50], 'learning_rate': [0.01]}\n",
    "grid_search_ab = GridSearchCV(ab_model, param_grid_ab, cv=3, n_jobs=-1, verbose=2)\n",
    "grid_search_ab.fit(X_train_scaled, y_train)\n",
    "\n",
    "# Evaluation for AdaBoost\n",
    "best_ab_model = grid_search_ab.best_estimator_\n",
    "y_pred_ab = best_ab_model.predict(X_test_scaled)\n",
    "print(f\"Best parameters for AdaBoost: {grid_search_ab.best_params_}\")\n",
    "print(f\"Accuracy for AdaBoost: {accuracy_score(y_test, y_pred_ab)}\")\n",
    "print(f\"Classification Report for AdaBoost:\\n{classification_report(y_test, y_pred_ab)}\")\n"
   ]
  },
  {
   "cell_type": "code",
   "execution_count": 6,
   "id": "4ad8f6a8-d65c-4fc1-9cb2-ebbac113e34b",
   "metadata": {},
   "outputs": [
    {
     "name": "stdout",
     "output_type": "stream",
     "text": [
      "Fitting 3 folds for each of 1 candidates, totalling 3 fits\n",
      "Best parameters for Random Forest: {'max_depth': 10, 'n_estimators': 50}\n",
      "Accuracy for Random Forest: 0.7769423558897243\n",
      "Classification Report for Random Forest:\n",
      "              precision    recall  f1-score   support\n",
      "\n",
      "           0       0.75      0.81      0.78       192\n",
      "           1       0.81      0.74      0.78       207\n",
      "\n",
      "    accuracy                           0.78       399\n",
      "   macro avg       0.78      0.78      0.78       399\n",
      "weighted avg       0.78      0.78      0.78       399\n",
      "\n"
     ]
    }
   ],
   "source": [
    "# Grid Search for Random Forest\n",
    "param_grid_rf = {'n_estimators': [50], 'max_depth': [10]}\n",
    "grid_search_rf = GridSearchCV(rf_model, param_grid_rf, cv=3, n_jobs=-1, verbose=2)\n",
    "grid_search_rf.fit(X_train_scaled, y_train)\n",
    "\n",
    "# Evaluation for Random Forest\n",
    "best_rf_model = grid_search_rf.best_estimator_\n",
    "y_pred_rf = best_rf_model.predict(X_test_scaled)\n",
    "print(f\"Best parameters for Random Forest: {grid_search_rf.best_params_}\")\n",
    "print(f\"Accuracy for Random Forest: {accuracy_score(y_test, y_pred_rf)}\")\n",
    "print(f\"Classification Report for Random Forest:\\n{classification_report(y_test, y_pred_rf)}\")\n"
   ]
  },
  {
   "cell_type": "code",
   "execution_count": 7,
   "id": "ecee603e-ab4f-41b2-833c-7e0be16ee5ca",
   "metadata": {},
   "outputs": [
    {
     "name": "stdout",
     "output_type": "stream",
     "text": [
      "Accuracy for Voting Classifier: 0.7418546365914787\n",
      "Classification Report for Voting Classifier:\n",
      "              precision    recall  f1-score   support\n",
      "\n",
      "           0       0.69      0.84      0.76       192\n",
      "           1       0.81      0.65      0.72       207\n",
      "\n",
      "    accuracy                           0.74       399\n",
      "   macro avg       0.75      0.75      0.74       399\n",
      "weighted avg       0.75      0.74      0.74       399\n",
      "\n",
      "Confusion Matrix for Voting Classifier:\n",
      "[[161  31]\n",
      " [ 72 135]]\n",
      "ROC-AUC for Voting Classifier: 0.7453577898550724\n"
     ]
    }
   ],
   "source": [
    "# Voting Classifier\n",
    "voting_clf = VotingClassifier(estimators=[\n",
    "    ('rf', best_rf_model), \n",
    "    ('gb', best_gb_model), \n",
    "    ('ab', best_ab_model), \n",
    "    ('dt', best_dt_model)], \n",
    "    voting='hard')\n",
    "\n",
    "voting_clf.fit(X_train_scaled, y_train)\n",
    "\n",
    "# Evaluation for Voting classifier\n",
    "y_pred_voting = voting_clf.predict(X_test_scaled)\n",
    "print(f\"Accuracy for Voting Classifier: {accuracy_score(y_test, y_pred_voting)}\")\n",
    "print(f\"Classification Report for Voting Classifier:\\n{classification_report(y_test, y_pred_voting)}\")\n",
    "print(f\"Confusion Matrix for Voting Classifier:\\n{confusion_matrix(y_test, y_pred_voting)}\")\n",
    "print(f\"ROC-AUC for Voting Classifier: {roc_auc_score(y_test, y_pred_voting)}\")\n"
   ]
  },
  {
   "cell_type": "code",
   "execution_count": 8,
   "id": "d28e131c-22c2-4fda-a776-564fd63cf962",
   "metadata": {},
   "outputs": [
    {
     "name": "stdout",
     "output_type": "stream",
     "text": [
      "Accuracy for Stacking Classifier: 0.7794486215538847\n",
      "Classification Report for Stacking Classifier:\n",
      "              precision    recall  f1-score   support\n",
      "\n",
      "           0       0.74      0.83      0.78       192\n",
      "           1       0.82      0.73      0.78       207\n",
      "\n",
      "    accuracy                           0.78       399\n",
      "   macro avg       0.78      0.78      0.78       399\n",
      "weighted avg       0.78      0.78      0.78       399\n",
      "\n"
     ]
    }
   ],
   "source": [
    "from sklearn.ensemble import StackingClassifier\n",
    "from sklearn.linear_model import LogisticRegression\n",
    "\n",
    "# Define the base learners\n",
    "base_learners = [\n",
    "                 ('rf', RandomForestClassifier(n_estimators=50, max_depth=10, random_state=42)),\n",
    "                 ('gb', GradientBoostingClassifier(n_estimators=50, max_depth=3, learning_rate=0.01, random_state=42)),\n",
    "                 ('ab', AdaBoostClassifier(n_estimators=50, learning_rate=0.01, random_state=42)),\n",
    "                 ('dt', DecisionTreeClassifier(max_depth=5, random_state=42))\n",
    "                ]\n",
    "\n",
    "# Initialize the stacking classifier with a logistic regression as the meta-learner\n",
    "stacking_clf = StackingClassifier(estimators=base_learners, final_estimator=LogisticRegression())\n",
    "\n",
    "# Train the stacking classifier\n",
    "stacking_clf.fit(X_train_scaled, y_train)\n",
    "\n",
    "# Evaluate the stacking classifier\n",
    "y_pred_stacking = stacking_clf.predict(X_test_scaled)\n",
    "print(f\"Accuracy for Stacking Classifier: {accuracy_score(y_test, y_pred_stacking)}\")\n",
    "print(f\"Classification Report for Stacking Classifier:\\n{classification_report(y_test, y_pred_stacking)}\")\n"
   ]
  },
  {
   "cell_type": "code",
   "execution_count": 9,
   "id": "0a59e2a6-b504-4299-88f7-f5aea6d492ba",
   "metadata": {},
   "outputs": [
    {
     "name": "stdout",
     "output_type": "stream",
     "text": [
      "Accuracy for Stacking Classifier: 0.7819548872180451\n",
      "Classification Report for Stacking Classifier:\n",
      "              precision    recall  f1-score   support\n",
      "\n",
      "           0       0.76      0.81      0.78       192\n",
      "           1       0.81      0.76      0.78       207\n",
      "\n",
      "    accuracy                           0.78       399\n",
      "   macro avg       0.78      0.78      0.78       399\n",
      "weighted avg       0.78      0.78      0.78       399\n",
      "\n"
     ]
    }
   ],
   "source": [
    "# Fine-tune hyperparameters (Random Forest, Gradient Boosting, AdaBoost)\n",
    "\n",
    "# Create the base models for the StackingClassifier\n",
    "base_learners = [\n",
    "    ('rf', RandomForestClassifier(n_estimators=100, max_depth=15, random_state=42)),\n",
    "    ('gb', GradientBoostingClassifier(n_estimators=100, max_depth=5, learning_rate=0.1, random_state=42)),\n",
    "    ('ab', AdaBoostClassifier(n_estimators=100, learning_rate=0.1, random_state=42)),\n",
    "    ('dt', best_dt_model)\n",
    "]\n",
    "\n",
    "# Initialize the StackingClassifier with a logistic regression final estimator\n",
    "stacking_clf = StackingClassifier(estimators=base_learners, final_estimator=LogisticRegression())\n",
    "\n",
    "# Train the Stacking Classifier\n",
    "stacking_clf.fit(X_train_scaled, y_train)\n",
    "\n",
    "# Evaluate the Stacking Classifier\n",
    "y_pred_stacking = stacking_clf.predict(X_test_scaled)\n",
    "print(f\"Accuracy for Stacking Classifier: {accuracy_score(y_test, y_pred_stacking)}\")\n",
    "print(f\"Classification Report for Stacking Classifier:\\n{classification_report(y_test, y_pred_stacking)}\")\n"
   ]
  },
  {
   "cell_type": "code",
   "execution_count": 16,
   "id": "b798a95f-8ab8-4f30-ab4a-54a768663d8c",
   "metadata": {},
   "outputs": [],
   "source": [
    "## Using a random search on Stacking classifier in an attempt to gain a better accuracy. The code is running but is taking too much compute power. \n",
    "## It will likely take several hours to run unless on a VM.\n",
    "\n",
    "\n",
    "\n",
    "\n",
    "## ________\n",
    "# from sklearn.datasets import load_iris\n",
    "# from sklearn.model_selection import train_test_split\n",
    "# from sklearn.preprocessing import StandardScaler\n",
    "# from sklearn.ensemble import StackingClassifier, RandomForestClassifier, GradientBoostingClassifier, AdaBoostClassifier\n",
    "# from sklearn.tree import DecisionTreeClassifier\n",
    "# from sklearn.linear_model import LogisticRegression\n",
    "# from sklearn.metrics import accuracy_score, classification_report\n",
    "# from sklearn.model_selection import RandomizedSearchCV\n",
    "# import numpy as np\n",
    "\n",
    "# # Load and clean data\n",
    "# data = pd.read_csv('Cleaned_Merged_Featured_Eng_and_Phishing_Data.csv')\n",
    "\n",
    "# # Recode the 'Scam_Types' column to binary\n",
    "# data['Scam_Types'] = data['Scam_Types'].apply(lambda x: 1 if x == 'PHISHING' else 0)\n",
    "\n",
    "# # Remove non-numeric columns except for 'Scam_Types'\n",
    "# data_numeric = data.select_dtypes(include=[np.number])\n",
    "\n",
    "# # Replacing the 'Scam_Types' column back into the data\n",
    "# data_numeric['Scam_Types'] = data['Scam_Types']\n",
    "\n",
    "# # Filling missing values with the median of each column\n",
    "# data_numeric.fillna(data_numeric.median(), inplace=True)\n",
    "\n",
    "# # Splitting data into training and testing sets\n",
    "# X = data_numeric.drop('Scam_Types', axis=1)\n",
    "# y = data_numeric['Scam_Types']\n",
    "# # Standardize features\n",
    "# scaler = StandardScaler()\n",
    "# X_train_scaled = scaler.fit_transform(X_train)\n",
    "# X_test_scaled = scaler.transform(X_test)\n",
    "\n",
    "# # Select a subset of base learners\n",
    "# base_learners = [\n",
    "#     ('rf', RandomForestClassifier(n_estimators=100, max_depth=10, random_state=42)),\n",
    "#     ('gb', GradientBoostingClassifier(n_estimators=100, max_depth=5, learning_rate=0.1, random_state=42)),\n",
    "#     ('dt', DecisionTreeClassifier(max_depth=5, random_state=42)),  # Include DecisionTreeClassifier\n",
    "# ]\n",
    "\n",
    "# # Initialize the StackingClassifier with a logistic regression final estimator\n",
    "# stacking_clf = StackingClassifier(estimators=base_learners, final_estimator=LogisticRegression())\n",
    "\n",
    "# # Define hyperparameter distribution for RandomizedSearchCV\n",
    "# param_dist_stacking = {\n",
    "#     'final_estimator__C': [0.001, 0.01, 0.1, 1, 10],  # C parameter for LogisticRegression\n",
    "#     'rf__n_estimators': [50, 100, 200],  # Hyperparameters for RandomForest\n",
    "#     'rf__max_depth': [5, 10, 15],  # Add other RandomForest hyperparameters if needed\n",
    "#     'gb__n_estimators': [50, 100, 200],  # Hyperparameters for GradientBoosting\n",
    "#     'gb__max_depth': [3, 5, 7],  # Add other GradientBoosting hyperparameters if needed\n",
    "#     'ab__n_estimators': [50, 100, 200],  # Hyperparameters for AdaBoost\n",
    "#     'ab__learning_rate': [0.01, 0.1, 0.2],  # Add other AdaBoost hyperparameters if needed\n",
    "#     'dt__max_depth': [3, 5, 7],  # Hyperparameters for Decision Tree\n",
    "#     'dt__min_samples_split': [2, 5, 10],  # Add other Decision Tree hyperparameters if needed\n",
    "# }\n",
    "\n",
    "# # Initialize RandomizedSearchCV with reduced candidates\n",
    "# random_search_stacking = RandomizedSearchCV(\n",
    "#     stacking_clf, param_dist_stacking, n_iter=100, cv=3, n_jobs=-1, verbose=2, random_state=42)\n",
    "\n",
    "# # Fit the RandomizedSearchCV\n",
    "# random_search_stacking.fit(X_train_scaled, y_train)\n",
    "\n",
    "# # Get the best stacking classifier\n",
    "# best_stacking_model = random_search_stacking.best_estimator_\n",
    "\n",
    "# # Evaluate the best stacking model\n",
    "# y_pred_best_stacking = best_stacking_model.predict(X_test_scaled)\n",
    "# print(f\"Best parameters for Stacking Classifier: {random_search_stacking.best_params_}\")\n",
    "# print(f\"Accuracy for Best Stacking Classifier: {accuracy_score(y_test, y_pred_best_stacking)}\")\n",
    "# print(f\"Classification Report for Best Stacking Classifier:\\n{classification_report(y_test, y_pred_best_stacking)}\")\n"
   ]
  },
  {
   "cell_type": "code",
   "execution_count": null,
   "id": "daf9c8b1-afbc-4571-9895-5f6c53b4fda9",
   "metadata": {},
   "outputs": [],
   "source": []
  },
  {
   "cell_type": "markdown",
   "id": "fed37d47-7ba4-4177-9186-2cacb878d217",
   "metadata": {},
   "source": [
    "# Further Categorization"
   ]
  },
  {
   "cell_type": "code",
   "execution_count": null,
   "id": "2644fd78-cf99-4773-89ed-345bd7783939",
   "metadata": {},
   "outputs": [],
   "source": []
  },
  {
   "cell_type": "code",
   "execution_count": 18,
   "id": "51e83e34-ec62-4365-a48c-02afe5be0c8b",
   "metadata": {},
   "outputs": [
    {
     "name": "stdout",
     "output_type": "stream",
     "text": [
      "Datasets merged and saved to 'merged_dataset.csv'\n",
      "Test data saved to 'test_data.csv'\n"
     ]
    }
   ],
   "source": [
    "# Sorting and merging datasets into \n",
    "\n",
    "import pandas as pd\n",
    "\n",
    "# Load the datasets\n",
    "df1 = pd.read_csv('Cleaned_Merged_Featured_Eng_and_Phishing_Data.csv')\n",
    "df2 = pd.read_csv('final_dataset_coinbase_illict.csv')\n",
    "\n",
    "# Step 1: Rename 'Scam_Types' to 'Scam_Type' and combine lesser frequent scam types into 'OTHER_SCAM'\n",
    "df1.rename(columns={'Scam_Types': 'Scam_Type'}, inplace=True)\n",
    "df1['Scam_Type'] = df1['Scam_Type'].replace(\n",
    "    ['OTHER_BLACKMAIL', 'CONTRACT_EXPLOIT', 'OTHER_HACK', 'FAKE_RETURNS', 'AIRDROP', 'PIGBUTCHERING', \n",
    "     'RUG_PULL', 'FAKE_PROJECT', 'ROMANCE', 'DONATION_SCAM', 'SEXTORTION', 'SIM_SWAP', \n",
    "     'RANSOMWARE', 'OTHER_INVESTMENT_SCAM', 'OTHER'], \n",
    "    'OTHER_SCAM'\n",
    ")\n",
    "\n",
    "# Step 2: Extract 1000 licit and 1000 illicit samples from df2\n",
    "licit_sample = df2[df2['FLAG'] == 0].sample(n=1000, random_state=1)\n",
    "illicit_sample = df2[df2['FLAG'] == 1].sample(n=1000, random_state=1)\n",
    "\n",
    "# Step 3: Set 'Scam_Type' for the samples from df2\n",
    "licit_sample['Scam_Type'] = 'LICIT'\n",
    "illicit_sample['Scam_Type'] = 'NA'\n",
    "\n",
    "# Step 4: Merge the dataframes into a new dataframe\n",
    "merged_df = pd.concat([df1, licit_sample, illicit_sample], ignore_index=True)\n",
    "\n",
    "# Step 5: Remove the 'Unnamed: 0' column if it exists\n",
    "if 'Unnamed: 0' in merged_df.columns:\n",
    "    merged_df.drop('Unnamed: 0', axis=1, inplace=True)\n",
    "\n",
    "# Step 6: Correct the FLAG values for all rows except LICIT\n",
    "merged_df.loc[merged_df['Scam_Type'] != 'LICIT', 'FLAG'] = 1\n",
    "\n",
    "# # Step to drop 'Unnamed: 0' column from test_data if it exists (many occurances of this)\n",
    "# if 'Unnamed: 0' in test_data.columns:\n",
    "#     test_data.drop('Unnamed: 0', axis=1, inplace=True)\n",
    "# test_data.to_csv('test_data.csv', index=False)\n",
    "\n",
    "# Step 7: Save a part of the data for testing\n",
    "test_data = illicit_sample.sample(n=200, random_state=1)\n",
    "test_data.to_csv('test_data.csv', index=False)\n",
    "\n",
    "# Step 8: Sort the dataset based on Scam_Type column\n",
    "merged_df.sort_values(by='Scam_Type', key=lambda x: x.map({'PHISHING': 0, 'IMPERSONATION': 1, 'OTHER_SCAM': 2, 'NA': 3, 'LICIT': 4}), inplace=True)\n",
    "\n",
    "# Step 9: Save the merged dataset to a new CSv file\n",
    "merged_df.to_csv('merged_dataset.csv', index=False)\n",
    "\n",
    "print(\"Datasets merged and saved to 'merged_dataset.csv'\")\n",
    "print(\"Test data saved to 'test_data.csv'\")\n"
   ]
  },
  {
   "cell_type": "code",
   "execution_count": null,
   "id": "6ecbd481-3fff-43a5-872a-64aa6ccd56bf",
   "metadata": {},
   "outputs": [],
   "source": [
    "import pandas as pd\n",
    "from sklearn.model_selection import train_test_split\n",
    "from sklearn.preprocessing import LabelEncoder\n",
    "from sklearn.ensemble import RandomForestClassifier\n",
    "from sklearn.metrics import classification_report, accuracy_score\n",
    "\n",
    "# Load dataset\n",
    "merged_df = pd.read_csv('merged_dataset.csv')\n",
    "\n",
    "# Filtering the dataset\n",
    "filtered_df = merged_df[merged_df['Scam_Type'].isin(['PHISHING', 'IMPERSONATION', 'OTHER_SCAM'])]\n",
    "\n",
    "# Encoding the Scam_Type column to convert categorical labels to numerical labels\n",
    "label_encoder = LabelEncoder()\n",
    "filtered_df['Scam_Type'] = label_encoder.fit_transform(filtered_df['Scam_Type'])\n",
    "\n",
    "# Getting the class mappings\n",
    "label_mappings = {index: label for index, label in enumerate(label_encoder.classes_)}\n",
    "print(label_mappings)\n",
    "\n",
    "# Selecting features and target variable\n",
    "X = filtered_df.drop(columns=['Scam_Type', 'FLAG', 'Address']) \n",
    "y = filtered_df['Scam_Type']\n",
    "\n",
    "# Splitting the data into training and validation sets (80% train, 20% test)\n",
    "X_train, X_val, y_train, y_val = train_test_split(X, y, test_size=0.2, random_state=42, stratify=y)\n",
    "\n",
    "# Train the Random Forest Classifier\n",
    "model = RandomForestClassifier(random_state=42)\n",
    "model.fit(X_train, y_train)\n",
    "\n",
    "# Evaluate the model on the validation set\n",
    "y_val_pred = model.predict(X_val)\n",
    "print(\"Validation Accuracy: \", accuracy_score(y_val, y_val_pred))\n",
    "\n",
    "# Getting string class labels\n",
    "str_labels = label_encoder.inverse_transform(range(len(label_encoder.classes_)))\n",
    "\n",
    "# Print the classification report\n",
    "print(classification_report(y_val, y_val_pred, target_names=str_labels))\n"
   ]
  },
  {
   "cell_type": "code",
   "execution_count": 19,
   "id": "b7f46236-9a11-47a2-ac53-291b2ad89d0e",
   "metadata": {},
   "outputs": [
    {
     "name": "stderr",
     "output_type": "stream",
     "text": [
      "/var/folders/8m/677yqgtn29qgkc_d90d2qrtm0000gn/T/ipykernel_57044/676165166.py:15: SettingWithCopyWarning: \n",
      "A value is trying to be set on a copy of a slice from a DataFrame.\n",
      "Try using .loc[row_indexer,col_indexer] = value instead\n",
      "\n",
      "See the caveats in the documentation: https://pandas.pydata.org/pandas-docs/stable/user_guide/indexing.html#returning-a-view-versus-a-copy\n",
      "  filtered_df['Scam_Type'] = label_encoder.fit_transform(filtered_df['Scam_Type'])\n"
     ]
    },
    {
     "name": "stdout",
     "output_type": "stream",
     "text": [
      "{0: 'IMPERSONATION', 1: 'OTHER_SCAM', 2: 'PHISHING'}\n",
      "Validation Accuracy:  0.7819548872180451\n",
      "               precision    recall  f1-score   support\n",
      "\n",
      "IMPERSONATION       0.41      0.13      0.19        55\n",
      "   OTHER_SCAM       0.86      0.88      0.87       144\n",
      "     PHISHING       0.76      0.90      0.82       200\n",
      "\n",
      "     accuracy                           0.78       399\n",
      "    macro avg       0.68      0.63      0.63       399\n",
      " weighted avg       0.75      0.78      0.75       399\n",
      "\n"
     ]
    }
   ],
   "source": [
    "import pandas as pd\n",
    "from sklearn.model_selection import train_test_split\n",
    "from sklearn.preprocessing import LabelEncoder\n",
    "from sklearn.ensemble import RandomForestClassifier\n",
    "from sklearn.metrics import classification_report, accuracy_score\n",
    "\n",
    "# Load dataset\n",
    "merged_df = pd.read_csv('merged_dataset.csv')\n",
    "\n",
    "# Filtering the dataset\n",
    "filtered_df = merged_df[merged_df['Scam_Type'].isin(['PHISHING', 'IMPERSONATION', 'OTHER_SCAM'])]\n",
    "\n",
    "# Convert categorical labels to numerical labels in Scam_Type\n",
    "label_encoder = LabelEncoder()\n",
    "filtered_df['Scam_Type'] = label_encoder.fit_transform(filtered_df['Scam_Type'])\n",
    "\n",
    "# Getting the class mappings\n",
    "label_mappings = {index: label for index, label in enumerate(label_encoder.classes_)}\n",
    "print(label_mappings)\n",
    "\n",
    "# Selecting features and target variable\n",
    "X = filtered_df.drop(columns=['Scam_Type', 'FLAG', 'Address']) \n",
    "y = filtered_df['Scam_Type']\n",
    "\n",
    "# Splitting the data into training and validation sets (80% train, 20% test)\n",
    "X_train, X_val, y_train, y_val = train_test_split(X, y, test_size=0.2, random_state=42, stratify=y)\n",
    "\n",
    "# Initialize and train the Random Forest Classifier\n",
    "model = RandomForestClassifier(random_state=42)\n",
    "model.fit(X_train, y_train)\n",
    "\n",
    "# Evaluate the model on the validation set\n",
    "y_val_pred = model.predict(X_val)\n",
    "print(\"Validation Accuracy: \", accuracy_score(y_val, y_val_pred))\n",
    "\n",
    "# Getting string class labels\n",
    "str_labels = label_encoder.inverse_transform(range(len(label_encoder.classes_)))\n",
    "\n",
    "# Printing the classification report\n",
    "print(classification_report(y_val, y_val_pred, target_names=str_labels))\n"
   ]
  },
  {
   "cell_type": "code",
   "execution_count": 20,
   "id": "78cd538b-7230-4620-8a9c-1ab13e257bcc",
   "metadata": {},
   "outputs": [
    {
     "data": {
      "image/png": "[encoded data removed]",
      "text/plain": [
       "<Figure size 800x600 with 2 Axes>"
      ]
     },
     "metadata": {},
     "output_type": "display_data"
    }
   ],
   "source": [
    "import seaborn as sns\n",
    "import matplotlib.pyplot as plt\n",
    "from sklearn.metrics import confusion_matrix\n",
    "\n",
    "# Get the confusion matrix\n",
    "cm = confusion_matrix(y_val, y_val_pred)\n",
    "\n",
    "# Plot the confusion matrix as a heatmap\n",
    "plt.figure(figsize=(8,6))\n",
    "sns.heatmap(cm, annot=True, fmt='d', cmap='Blues', \n",
    "            xticklabels=label_encoder.classes_, \n",
    "            yticklabels=label_encoder.classes_)\n",
    "\n",
    "# Set labels and title\n",
    "plt.xlabel('Predicted')\n",
    "plt.ylabel('True')\n",
    "plt.title('Confusion Matrix')\n",
    "plt.show()"
   ]
  },
  {
   "cell_type": "code",
   "execution_count": 21,
   "id": "bd55da8e-bdba-41da-afe0-976c4e06b6d6",
   "metadata": {},
   "outputs": [
    {
     "name": "stdout",
     "output_type": "stream",
     "text": [
      "+--------------------+---------------+------------+----------+\n",
      "| Actual \\ Predicted | Impersonation | Other Scam | Phishing |\n",
      "+--------------------+---------------+------------+----------+\n",
      "|   Impersonation    |       7       |     10     |    38    |\n",
      "|     Other Scam     |       0       |    126     |    18    |\n",
      "|      Phishing      |      10       |     11     |   179    |\n",
      "+--------------------+---------------+------------+----------+\n"
     ]
    }
   ],
   "source": [
    "from tabulate import tabulate\n",
    "\n",
    "# Confusion matrix info\n",
    "matrix_data = [\n",
    "    [\"Actual \\ Predicted\", \"Impersonation\", \"Other Scam\", \"Phishing\"],\n",
    "    [\"Impersonation\", 7, 10, 38],\n",
    "    [\"Other Scam\", 0, 126, 18],\n",
    "    [\"Phishing\", 10, 11, 179]\n",
    "]\n",
    "\n",
    "# Generate table\n",
    "matrix_table = tabulate(matrix_data, headers='firstrow', tablefmt='pretty')\n",
    "\n",
    "# Print\n",
    "print(matrix_table)\n",
    "\n"
   ]
  },
  {
   "cell_type": "code",
   "execution_count": 22,
   "id": "19b042e3-3734-4873-b619-8eef368a7dd8",
   "metadata": {},
   "outputs": [
    {
     "name": "stdout",
     "output_type": "stream",
     "text": [
      "Stacked Model Validation Accuracy:  0.7969924812030075\n",
      "               precision    recall  f1-score   support\n",
      "\n",
      "IMPERSONATION       0.53      0.16      0.25        55\n",
      "   OTHER_SCAM       0.86      0.88      0.87       144\n",
      "     PHISHING       0.78      0.92      0.84       200\n",
      "\n",
      "     accuracy                           0.80       399\n",
      "    macro avg       0.72      0.65      0.65       399\n",
      " weighted avg       0.77      0.80      0.77       399\n",
      "\n"
     ]
    }
   ],
   "source": [
    "from sklearn.ensemble import StackingClassifier\n",
    "from sklearn.ensemble import RandomForestClassifier, GradientBoostingClassifier\n",
    "from sklearn.svm import SVC\n",
    "from sklearn.metrics import classification_report, accuracy_score\n",
    "\n",
    "# Creating instances of base models\n",
    "rf_model = RandomForestClassifier(random_state=42)\n",
    "gb_model = GradientBoostingClassifier(random_state=42)\n",
    "svm_model = SVC(probability=True, random_state=42)\n",
    "\n",
    "# StackingClassifier\n",
    "stacked_model = StackingClassifier(\n",
    "    estimators=[('rf', rf_model), ('gb', gb_model), ('svm', svm_model)],\n",
    "    final_estimator=RandomForestClassifier(random_state=42)\n",
    ")\n",
    "\n",
    "# Train the stacking model on the training data\n",
    "stacked_model.fit(X_train, y_train)\n",
    "\n",
    "# Evaluate the stacking model on the validation set\n",
    "y_val_pred_stacked = stacked_model.predict(X_val)\n",
    "print(\"Stacked Model Validation Accuracy: \", accuracy_score(y_val, y_val_pred_stacked))\n",
    "print(classification_report(y_val, y_val_pred_stacked, target_names=str_labels))\n"
   ]
  },
  {
   "cell_type": "code",
   "execution_count": 23,
   "id": "378a81a7-0172-4ac7-bcca-d543c77ed5d4",
   "metadata": {},
   "outputs": [
    {
     "name": "stdout",
     "output_type": "stream",
     "text": [
      "{0: 'IMPERSONATION', 1: 'LICIT', 2: 'OTHER_SCAM', 3: 'PHISHING', 4: nan}\n"
     ]
    }
   ],
   "source": [
    "# Loading dataset\n",
    "merged_df = pd.read_csv('merged_dataset.csv')\n",
    "\n",
    "label_encoder = LabelEncoder()\n",
    "merged_df['Scam_Type'] = label_encoder.fit_transform(merged_df['Scam_Type'])\n",
    "\n",
    "# Getting the class mappings\n",
    "label_mappings = {index: label for index, label in enumerate(label_encoder.classes_)}\n",
    "print(label_mappings)\n",
    "\n",
    "# List of scam types to keep\n",
    "scam_types_to_keep = ['PHISHING', 'IMPERSONATION', 'OTHER_SCAM']\n",
    "\n",
    "# Filtering the dataset to only include rows with the scam types\n",
    "filtered_df = merged_df[merged_df['Scam_Type'].isin(scam_types_to_keep)]\n"
   ]
  },
  {
   "cell_type": "code",
   "execution_count": 2,
   "id": "4a87047d-3025-4c96-bedb-35b30767e869",
   "metadata": {},
   "outputs": [
    {
     "name": "stdout",
     "output_type": "stream",
     "text": [
      "Intel MKL WARNING: Support of Intel(R) Streaming SIMD Extensions 4.2 (Intel(R) SSE4.2) enabled only processors has been deprecated. Intel oneAPI Math Kernel Library 2025.0 will require Intel(R) Advanced Vector Extensions (Intel(R) AVX) instructions.\n",
      "Intel MKL WARNING: Support of Intel(R) Streaming SIMD Extensions 4.2 (Intel(R) SSE4.2) enabled only processors has been deprecated. Intel oneAPI Math Kernel Library 2025.0 will require Intel(R) Advanced Vector Extensions (Intel(R) AVX) instructions.\n"
     ]
    },
    {
     "name": "stderr",
     "output_type": "stream",
     "text": [
      "/var/folders/8m/677yqgtn29qgkc_d90d2qrtm0000gn/T/ipykernel_29052/4008404.py:17: SettingWithCopyWarning: \n",
      "A value is trying to be set on a copy of a slice from a DataFrame.\n",
      "Try using .loc[row_indexer,col_indexer] = value instead\n",
      "\n",
      "See the caveats in the documentation: https://pandas.pydata.org/pandas-docs/stable/user_guide/indexing.html#returning-a-view-versus-a-copy\n",
      "  filtered_df['Scam_Type'] = label_encoder.fit_transform(filtered_df['Scam_Type'])\n"
     ]
    },
    {
     "name": "stdout",
     "output_type": "stream",
     "text": [
      "Validation Accuracy:  0.88\n",
      "               precision    recall  f1-score   support\n",
      "\n",
      "IMPERSONATION       0.82      0.98      0.90       200\n",
      "   OTHER_SCAM       0.89      0.93      0.91       200\n",
      "     PHISHING       0.96      0.73      0.83       200\n",
      "\n",
      "     accuracy                           0.88       600\n",
      "    macro avg       0.89      0.88      0.88       600\n",
      " weighted avg       0.89      0.88      0.88       600\n",
      "\n"
     ]
    }
   ],
   "source": [
    "import pandas as pd\n",
    "from sklearn.model_selection import train_test_split\n",
    "from sklearn.preprocessing import LabelEncoder\n",
    "from sklearn.ensemble import RandomForestClassifier\n",
    "from sklearn.metrics import classification_report, accuracy_score\n",
    "from imblearn.over_sampling import RandomOverSampler\n",
    "\n",
    "# Load dataset\n",
    "merged_df = pd.read_csv('merged_dataset.csv')\n",
    "\n",
    "# Filtering the dataset to only include rows with the scam types I'm interested in\n",
    "scam_types = ['PHISHING', 'IMPERSONATION', 'OTHER_SCAM']\n",
    "filtered_df = merged_df[merged_df['Scam_Type'].isin(scam_types)]\n",
    "\n",
    "# Encoding the Scam_Type column to convert categorical labels to numerical labels\n",
    "label_encoder = LabelEncoder()\n",
    "filtered_df['Scam_Type'] = label_encoder.fit_transform(filtered_df['Scam_Type'])\n",
    "\n",
    "# Selecting features and target variable\n",
    "X = filtered_df.drop(columns=['Scam_Type', 'FLAG', 'Address']) \n",
    "y = filtered_df['Scam_Type']\n",
    "\n",
    "# Oversampling the minority class ('LICIT')\n",
    "oversampler = RandomOverSampler(random_state=42)\n",
    "X_resampled, y_resampled = oversampler.fit_resample(X, y)\n",
    "\n",
    "# Splitting the resampled data into training and validation sets (80% train, 20% test)\n",
    "X_train, X_val, y_train, y_val = train_test_split(X_resampled, y_resampled, test_size=0.2, random_state=42, stratify=y_resampled)\n",
    "\n",
    "# Train Random Forest Classifier\n",
    "model = RandomForestClassifier(random_state=42)\n",
    "model.fit(X_train, y_train)\n",
    "\n",
    "# Evaluate the model on the test dataset\n",
    "y_val_pred = model.predict(X_val)\n",
    "print(\"Validation Accuracy: \", accuracy_score(y_val, y_val_pred))\n",
    "\n",
    "# Getting string class labels\n",
    "str_labels = label_encoder.inverse_transform(range(len(label_encoder.classes_)))\n",
    "\n",
    "# Printing the classification report\n",
    "print(classification_report(y_val, y_val_pred, target_names=str_labels))\n"
   ]
  },
  {
   "cell_type": "code",
   "execution_count": 4,
   "id": "d7ec0bce-ac51-4ea2-8809-93632701aa19",
   "metadata": {},
   "outputs": [
    {
     "name": "stdout",
     "output_type": "stream",
     "text": [
      "Binary Model Validation Accuracy:  0.9549436795994993\n",
      "Binary Model Classification Report:\n",
      "              precision    recall  f1-score   support\n",
      "\n",
      "     ILlicit       0.96      0.98      0.97       599\n",
      "       LICIT       0.94      0.88      0.91       200\n",
      "\n",
      "    accuracy                           0.95       799\n",
      "   macro avg       0.95      0.93      0.94       799\n",
      "weighted avg       0.95      0.95      0.95       799\n",
      "\n",
      "\n",
      "Multiclass Model Validation Accuracy:  0.7312186978297162\n",
      "Multiclass Model Classification Report:\n",
      "               precision    recall  f1-score   support\n",
      "\n",
      "IMPERSONATION       0.35      0.15      0.21        55\n",
      "   OTHER_SCAM       0.76      0.88      0.81       144\n",
      "     PHISHING       0.64      0.81      0.72       200\n",
      "      Unknown       0.90      0.71      0.79       200\n",
      "\n",
      "     accuracy                           0.73       599\n",
      "    macro avg       0.66      0.64      0.63       599\n",
      " weighted avg       0.73      0.73      0.72       599\n",
      "\n"
     ]
    }
   ],
   "source": [
    "import pandas as pd\n",
    "from sklearn.model_selection import train_test_split\n",
    "from sklearn.ensemble import RandomForestClassifier\n",
    "from sklearn.metrics import classification_report, accuracy_score\n",
    "\n",
    "# Loading dataset\n",
    "merged_df = pd.read_csv('merged_dataset.csv')\n",
    "\n",
    "# Convert 'NA' values in 'Scam_Type' to 'Illicit' for the binary classification\n",
    "merged_df['Scam_Type'] = merged_df['Scam_Type'].apply(lambda x: 'ILlicit' if x == 'NA' else x)\n",
    "\n",
    "# Handle NaN values\n",
    "# For numeric columns: filling NaN values with the mean\n",
    "for col in merged_df.select_dtypes(include=['float64', 'int64']).columns:\n",
    "    merged_df[col].fillna(merged_df[col].mean(), inplace=True)\n",
    "\n",
    "# For object dtype columns: filling NaN values with 'Unknown' \n",
    "for col in merged_df.select_dtypes(include=['object']).columns:\n",
    "    merged_df[col].fillna('Unknown', inplace=True)\n",
    "\n",
    "# Add a binary column to distinguish between lict and all forms of Illicit\n",
    "merged_df['Binary_Scam_Type'] = merged_df['Scam_Type'].apply(lambda x: 'LICIT' if x == 'LICIT' else 'ILlicit')\n",
    "\n",
    "# Split the data for binary classification\n",
    "X = merged_df.drop(columns=['Scam_Type', 'FLAG', 'Address', 'Binary_Scam_Type'])\n",
    "y_binary = merged_df['Binary_Scam_Type']\n",
    "\n",
    "X_train_binary, X_val_binary, y_train_binary, y_val_binary = train_test_split(X, y_binary, test_size=0.2, random_state=42, stratify=y_binary)\n",
    "\n",
    "# Train a binary classifier\n",
    "binary_model = RandomForestClassifier(random_state=42)\n",
    "binary_model.fit(X_train_binary, y_train_binary)\n",
    "\n",
    "# Evaluate the binary classifier\n",
    "y_val_pred_binary = binary_model.predict(X_val_binary)\n",
    "print(\"Binary Model Validation Accuracy: \", accuracy_score(y_val_binary, y_val_pred_binary))\n",
    "print(\"Binary Model Classification Report:\")\n",
    "print(classification_report(y_val_binary, y_val_pred_binary))\n",
    "\n",
    "# For multiclass classification, filter out licit and split the data\n",
    "multiclass_df = merged_df[merged_df['Scam_Type'] != 'LICIT']\n",
    "X_multiclass = multiclass_df.drop(columns=['Scam_Type', 'FLAG', 'Address', 'Binary_Scam_Type'])\n",
    "y_multiclass = multiclass_df['Scam_Type']\n",
    "\n",
    "X_train_multiclass, X_val_multiclass, y_train_multiclass, y_val_multiclass = train_test_split(X_multiclass, y_multiclass, test_size=0.2, random_state=42, stratify=y_multiclass)\n",
    "\n",
    "# Train a multiclass classifier\n",
    "multiclass_model = RandomForestClassifier(random_state=42)\n",
    "multiclass_model.fit(X_train_multiclass, y_train_multiclass)\n",
    "\n",
    "# Evaluate the multiclass classifier\n",
    "y_val_pred_multiclass = multiclass_model.predict(X_val_multiclass)\n",
    "print(\"\\nMulticlass Model Validation Accuracy: \", accuracy_score(y_val_multiclass, y_val_pred_multiclass))\n",
    "print(\"Multiclass Model Classification Report:\")\n",
    "print(classification_report(y_val_multiclass, y_val_pred_multiclass))\n"
   ]
  },
  {
   "cell_type": "code",
   "execution_count": 5,
   "id": "84858ff6-c3ec-4236-be3a-c51b2d9bfada",
   "metadata": {},
   "outputs": [
    {
     "data": {
      "image/png": "[encoded data removed]",
      "text/plain": [
       "<Figure size 800x600 with 2 Axes>"
      ]
     },
     "metadata": {},
     "output_type": "display_data"
    },
    {
     "data": {
      "image/png": "[encoded data removed]",
      "text/plain": [
       "<Figure size 1000x800 with 2 Axes>"
      ]
     },
     "metadata": {},
     "output_type": "display_data"
    }
   ],
   "source": [
    "import numpy as np\n",
    "import matplotlib.pyplot as plt\n",
    "from sklearn.metrics import confusion_matrix\n",
    "import seaborn as sns\n",
    "\n",
    "# Compute the confusion matrix\n",
    "cm_binary = confusion_matrix(y_val_binary, y_val_pred_binary)\n",
    "\n",
    "# Plot the binary classifier confusion matrix\n",
    "plt.figure(figsize=(8,6))\n",
    "sns.heatmap(cm_binary, annot=True, fmt=\"d\", cmap=\"Oranges\", xticklabels=[\"ILlicit\", \"LICIT\"], yticklabels=[\"ILlicit\", \"LICIT\"])\n",
    "plt.ylabel('Actual')\n",
    "plt.xlabel('Predicted')\n",
    "plt.title(\"Binary Classifier Confusion Matrix\")\n",
    "plt.show()\n",
    "\n",
    "# Compute the confusion matrix for multiclass\n",
    "cm_multiclass = confusion_matrix(y_val_multiclass, y_val_pred_multiclass)\n",
    "\n",
    "# Plot the multiclass classifier confusion \n",
    "plt.figure(figsize=(10,8))\n",
    "sns.heatmap(cm_multiclass, annot=True, fmt=\"d\", cmap=\"Greens\")\n",
    "plt.ylabel('Actual')\n",
    "plt.xlabel('Predicted')\n",
    "plt.title(\"Multiclass Classifier Confusion Matrix\")\n",
    "plt.show()\n"
   ]
  },
  {
   "cell_type": "code",
   "execution_count": 6,
   "id": "b6965dbc-81e3-469e-8564-ebcd330ec00c",
   "metadata": {},
   "outputs": [
    {
     "name": "stdout",
     "output_type": "stream",
     "text": [
      "\n",
      "Binary Classifier Confusion Matrix in LaTeX:\n",
      "\n",
      "\\begin{tabular}{lrr}\n",
      "\\hline\n",
      "                &   Predicted ILlicit &   Predicted LICIT \\\\\n",
      "\\hline\n",
      " Actual Illicit &                 587 &                12 \\\\\n",
      " Actual LICIT   &                  24 &               176 \\\\\n",
      "\\hline\n",
      "\\end{tabular}\n",
      "\n",
      "Multiclass Classifier Confusion Matrix in LaTeX:\n",
      "\n",
      "\\begin{tabular}{lrrrr}\n",
      "\\hline\n",
      "                      &   Predicted IMPERSONATION &   Predicted OTHER\\_SCAM &   Predicted PHISHING &   Predicted Unknown \\\\\n",
      "\\hline\n",
      " Actual IMPERSONATION &                         8 &                      8 &                   37 &                   2 \\\\\n",
      " Actual OTHER\\_SCAM    &                         1 &                    127 &                   13 &                   3 \\\\\n",
      " Actual PHISHING      &                        11 &                     17 &                  161 &                  11 \\\\\n",
      " Actual Unknown       &                         3 &                     16 &                   39 &                 142 \\\\\n",
      "\\hline\n",
      "\\end{tabular}\n"
     ]
    }
   ],
   "source": [
    "from tabulate import tabulate\n",
    "\n",
    "headers_binary = [\"\", \"Predicted ILlicit\", \"Predicted LICIT\"]\n",
    "table_binary = [[\"Actual Illicit\"] + list(cm_binary[0]), [\"Actual LICIT\"] + list(cm_binary[1])]\n",
    "latex_table_binary = tabulate(table_binary, headers=headers_binary, tablefmt=\"latex\")\n",
    "print(\"\\nBinary Classifier Confusion Matrix in LaTeX:\\n\")\n",
    "print(latex_table_binary)\n",
    "\n",
    "headers_multiclass = [\"\", \"Predicted IMPERSONATION\", \"Predicted OTHER_SCAM\", \"Predicted PHISHING\", \"Predicted Unknown\"]\n",
    "table_multiclass = [\n",
    "    [\"Actual IMPERSONATION\"] + list(cm_multiclass[0]),\n",
    "    [\"Actual OTHER_SCAM\"] + list(cm_multiclass[1]),\n",
    "    [\"Actual PHISHING\"] + list(cm_multiclass[2]),\n",
    "    [\"Actual Unknown\"] + list(cm_multiclass[3])\n",
    "]\n",
    "latex_table_multiclass = tabulate(table_multiclass, headers=headers_multiclass, tablefmt=\"latex\")\n",
    "print(\"\\nMulticlass Classifier Confusion Matrix in LaTeX:\\n\")\n",
    "print(latex_table_multiclass)\n"
   ]
  },
  {
   "cell_type": "code",
   "execution_count": 7,
   "id": "5a437080-c8ff-4719-940c-c311bec5e7e9",
   "metadata": {},
   "outputs": [
    {
     "data": {
      "text/plain": [
       "['label_encoder.joblib']"
      ]
     },
     "execution_count": 7,
     "metadata": {},
     "output_type": "execute_result"
    }
   ],
   "source": [
    "# Using joblib to store model\n",
    "\n",
    "import joblib\n",
    "\n",
    "# Save the model and the label encoder for future use\n",
    "joblib.dump(model, 'scam_type_classifier.joblib')\n",
    "joblib.dump(label_encoder, 'label_encoder.joblib')\n"
   ]
  }
 ],
 "metadata": {
  "kernelspec": {
   "display_name": "Python 3 (ipykernel)",
   "language": "python",
   "name": "python3"
  },
  "language_info": {
   "codemirror_mode": {
    "name": "ipython",
    "version": 3
   },
   "file_extension": ".py",
   "mimetype": "text/x-python",
   "name": "python",
   "nbconvert_exporter": "python",
   "pygments_lexer": "ipython3",
   "version": "3.10.11"
  }
 },
 "nbformat": 4,
 "nbformat_minor": 5
}
