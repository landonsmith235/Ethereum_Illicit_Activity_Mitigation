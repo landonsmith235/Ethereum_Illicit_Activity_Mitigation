{
 "cells": [
  {
   "cell_type": "markdown",
   "id": "cae7d570-7d6a-4a3f-8bb9-29c898ab1b7c",
   "metadata": {},
   "source": [
    "# Address Acquisition: Real-Time Mempool Deployment Datasets"
   ]
  },
  {
   "cell_type": "markdown",
   "id": "b1e36e4e-325e-4b97-b7cd-cced2e707546",
   "metadata": {},
   "source": [
    "## Import Required Libraries"
   ]
  },
  {
   "cell_type": "code",
   "execution_count": null,
   "id": "0e27c7d3-b1ce-4fb7-97a0-5b78be39d2c4",
   "metadata": {},
   "outputs": [],
   "source": [
    "from IPython.core.interactiveshell import InteractiveShell\n",
    "InteractiveShell.ast_node_interactivity = \"all\"\n",
    "\n",
    "import pandas as pd\n",
    "import numpy as np\n",
    "from etherscan import Etherscan\n",
    "\n",
    "from selenium import webdriver\n",
    "from selenium.webdriver.common.by import By\n",
    "from selenium.webdriver import Keys, ActionChains\n",
    "import time\n",
    "import random "
   ]
  },
  {
   "cell_type": "code",
   "execution_count": null,
   "id": "b0aab8a3-4cd7-497f-9ee2-1a7675724609",
   "metadata": {},
   "outputs": [],
   "source": [
    "#Etherscan API Key\n",
    "eth = Etherscan('API_KEY')"
   ]
  },
  {
   "cell_type": "markdown",
   "id": "94d201ca-7f2c-484e-a57e-fadb55d8c3e5",
   "metadata": {},
   "source": [
    "## Illicit Addresses"
   ]
  },
  {
   "cell_type": "markdown",
   "id": "fb8786c8-40bf-4442-a70c-a9338676f77c",
   "metadata": {},
   "source": [
    "### Import Prior Datasets with Illicit Ethereum Addresses"
   ]
  },
  {
   "cell_type": "code",
   "execution_count": null,
   "id": "4e4cba0e-b8d5-45a9-8b74-47137cd7177e",
   "metadata": {},
   "outputs": [],
   "source": [
    "#Import Datasets/Files\n",
    "\n",
    "#https://github.com/sfarrugia15/Ethereum_Fraud_Detection/blob/master/Account_Stats/Complete.csv\n",
    "farrugia = pd.read_csv('Github Farrugia.csv')\n",
    "\n",
    "#https://www.kaggle.com/datasets/vagifa/ethereum-frauddetection-dataset\n",
    "aliyev = pd.read_csv('Kaggle Aliyev.csv')\n",
    "\n",
    "#https://www.kaggle.com/datasets/gescobero/ethereum-fraud-dataset\n",
    "escobero = pd.read_csv('Kaggle Escobero.csv')"
   ]
  },
  {
   "cell_type": "code",
   "execution_count": null,
   "id": "86ac7821-22f9-40de-bfbc-db150616e778",
   "metadata": {},
   "outputs": [],
   "source": [
    "#Drop Legal Addresses from Datasets\n",
    "farrugia_illicit = farrugia[farrugia['FLAG']==1]\n",
    "aliyev_illict = aliyev[aliyev['FLAG']==1]\n",
    "escobero_illicit = escobero[escobero['flag']==1]\n",
    "\n",
    "#Isolate Addresses\n",
    "farrugia_addresses = list(farrugia_illicit['Address'])\n",
    "aliyev_addresses = list(aliyev_illict['Address'])\n",
    "escobero_addresses = list(escobero_illicit['address'])"
   ]
  },
  {
   "cell_type": "markdown",
   "id": "98ea17d5-b091-41e9-96bb-4c09180d9001",
   "metadata": {},
   "source": [
    "### Scrape OFAC SDN List Text File"
   ]
  },
  {
   "cell_type": "code",
   "execution_count": null,
   "id": "0e90ea91-718a-4922-9992-b32a45039222",
   "metadata": {},
   "outputs": [],
   "source": [
    "#https://www.treasury.gov/ofac/downloads/sdnlist.txt\n",
    "ofac = open('ofac_sdnlist.txt','r')\n",
    "lines = ofac.readlines()\n",
    "\n",
    "#Extract Ethereum Addresses\n",
    "address_lines = []\n",
    "for i in lines:\n",
    "    if 'ETH' in i:\n",
    "        address_lines.append(i)\n",
    "        \n",
    "intermediate_addresses = []\n",
    "clean_addresses = []\n",
    "for line in address_lines:\n",
    "    index = line.find('ETH')\n",
    "    intermediate_addresses.append(line[index:index+46])\n",
    "\n",
    "for string in intermediate_addresses:\n",
    "    if 'ETH 0x' in string:\n",
    "        clean_addresses.append(string)\n",
    "        \n",
    "clean_addresses_no_eth = []\n",
    "\n",
    "for i in clean_addresses:\n",
    "    clean_addresses_no_eth.append(i[4:])\n",
    "    \n",
    "clean_df = pd.DataFrame(clean_addresses_no_eth, columns=['Address'])\n",
    "clean_df = clean_df.drop_duplicates()\n",
    "ofac_addresses = [i.lower() for i in clean_df['Address']]\n",
    "\n",
    "#Identify & Remove Addresses with Only Internal Transactions\n",
    "start_block = 1\n",
    "end_block = 18000000\n",
    "zero_ex_tx = []\n",
    "for i in ofac_addresses:\n",
    "    try:\n",
    "        tx = eth.get_normal_txs_by_address(i, start_block, end_block, 'asc')\n",
    "    except:\n",
    "        zero_ex_tx.append(i)\n",
    "        continue\n",
    "        \n",
    "ofac_ex_accounts = []\n",
    "for i in ofac_addresses:\n",
    "    if i not in zero_ex_tx:\n",
    "        ofac_ex_accounts.append(i)\n",
    "        \n",
    "#ofac_ex_accounts"
   ]
  },
  {
   "cell_type": "markdown",
   "id": "4cf4b66c-3ff6-42b9-80b5-9a000ccd90ca",
   "metadata": {},
   "source": [
    "### Scrape CryptoScamDB Text File"
   ]
  },
  {
   "cell_type": "code",
   "execution_count": null,
   "id": "27c95f71-8b4a-4b08-8702-68052a0f3fd3",
   "metadata": {},
   "outputs": [],
   "source": [
    "#https://github.com/CryptoScamDB/EtherScamDB/blob/master/_data/scams.yaml\n",
    "file = open('scams.yaml','r')\n",
    "lines = file.readlines()\n",
    "\n",
    "#Extract Ethereum Addresses\n",
    "address_lines = []\n",
    "for i in lines:\n",
    "    if '0x' in i:\n",
    "        address_lines.append(i)\n",
    "\n",
    "trimmed = []\n",
    "for i in address_lines:\n",
    "    trimmed.append(i[11:53])\n",
    "    \n",
    "cryptoscam_only_0x = []\n",
    "for i in trimmed:\n",
    "    if i[0:2]=='0x':\n",
    "        cryptoscam_only_0x.append(i)\n",
    "\n",
    "#Identify & Remove Addresses with Only Internal Transactions\n",
    "start_block = 1\n",
    "end_block = 18000000\n",
    "zero_ex_tx = []\n",
    "for i in cryptoscam_only_0x:\n",
    "    try:\n",
    "        tx = eth.get_normal_txs_by_address(i, start_block, end_block, 'asc')\n",
    "    except:\n",
    "        zero_ex_tx.append(i)\n",
    "        continue\n",
    "\n",
    "cryptoscam_ex_accounts = []\n",
    "for i in cryptoscam_only_0x:\n",
    "    if i not in zero_ex_tx:\n",
    "        etherscam_ex_accounts.append(i)\n",
    "\n",
    "#cryptoscam_ex_accounts"
   ]
  },
  {
   "cell_type": "markdown",
   "id": "0410d992-7ff7-453a-95d1-634b1ea1a733",
   "metadata": {},
   "source": [
    "### Webscrape Etherscan Website for Fake_Phishing Tagged Addresses"
   ]
  },
  {
   "cell_type": "code",
   "execution_count": null,
   "id": "61f9d9c9-dd7e-4a87-9fac-fa474f35266e",
   "metadata": {},
   "outputs": [],
   "source": [
    "def random_sleep_time():\n",
    "    r_num = np.random.uniform(2,4)\n",
    "    r_num = round(r_num, 4)\n",
    "    time.sleep(r_num)\n",
    "\n",
    "#Iterativly Scrapes Fake Phishing Tags    \n",
    "driver = webdriver.Chrome()\n",
    "\n",
    "driver.get('https://etherscan.io/')\n",
    "time.sleep(3)\n",
    "etherscan_scam_addresses = []\n",
    "driver.execute_script('return navigator.userAgent')\n",
    "\n",
    "def random_sleep_time():\n",
    "    r_num = np.random.uniform(2,4)\n",
    "    r_num = round(r_num, 4)\n",
    "    time.sleep(r_num)\n",
    "\n",
    "for i in range(2,5):\n",
    "    driver.find_element(By.XPATH, '/html/body/main/section[1]/div/div/div[1]/form/div/div[2]/input[1]').click()\n",
    "    random_sleep_time()\n",
    "    driver.find_element(By.XPATH, '/html/body/main/section[1]/div/div/div[1]/form/div/div[2]/input[1]').send_keys('Fake_Phishing'+str(i))\n",
    "    random_sleep_time()\n",
    "    ActionChains(driver).key_down(Keys.ENTER).perform()\n",
    "    try:\n",
    "        text = driver.find_element(By.XPATH, '/html/body/main/section[1]/div/div[1]/div/div[2]/span/span').text\n",
    "        etherscan_scam_addresses.append(text)\n",
    "        random_sleep_time()\n",
    "        driver.back()\n",
    "    except:\n",
    "        random_sleep_time()\n",
    "        driver.back()\n",
    "    random_sleep_time()\n",
    "    driver.find_element(By.XPATH, '/html/body/main/section[1]/div/div/div[1]/form/div/div[2]/input[1]').click()\n",
    "    random_sleep_time()\n",
    "    driver.find_element(By.XPATH, '/html/body/main/section[1]/div/div/div[1]/form/div/div[2]/input[1]').clear()\n",
    "    random_sleep_time()\n",
    "    \n",
    "#etherscan_scam_addresses"
   ]
  },
  {
   "cell_type": "markdown",
   "id": "fb99b715-df7e-4d6d-8f66-b7f989d4cbb8",
   "metadata": {},
   "source": [
    "### Combine Illicit Addresses Together "
   ]
  },
  {
   "cell_type": "code",
   "execution_count": null,
   "id": "7d56f04f-cb54-43c4-abbb-d09eb43b2bb8",
   "metadata": {},
   "outputs": [],
   "source": [
    "all_illicit_addresses = farrugia_addresses + aliyev_addresses + escobero_addresses + ofac_ex_accounts + cryptoscam_ex_accounts + etherscan_scam_addresses\n",
    "all_illicit_addresses = [i.lower() for i in all_illicit_addresses]\n",
    "all_illicit_addresses = list(set(all_illicit_addresses))\n",
    "#all_illicit_addreses.to_csv('all_illicit_addresses.csv')"
   ]
  },
  {
   "cell_type": "markdown",
   "id": "c8ba0272-985d-4511-b34b-7516a6393f66",
   "metadata": {},
   "source": [
    "## Legal Addresses: Randomly Sampled "
   ]
  },
  {
   "cell_type": "code",
   "execution_count": null,
   "id": "0222e08d-6cb4-4214-ab42-ab8d89085682",
   "metadata": {},
   "outputs": [],
   "source": [
    "%%time\n",
    "#Get Randomly Sampled Legal Addresses\n",
    "\n",
    "block_range = range(17999900, 18000000, 1)\n",
    "random_sample_accounts = []\n",
    "\n",
    "for i in block_range:\n",
    "    try:\n",
    "        block = eth.get_proxy_block_by_number(tag = hex(i))\n",
    "        block_txs = block['transactions']\n",
    "        for i in block_txs:\n",
    "            random_sample_accounts.append(i['from'])\n",
    "            random_sample_accounts.append(i['to'])\n",
    "    except:\n",
    "        continue\n",
    "\n",
    "#Take random sample of acquired accounts (number of addresses acquired would make dataset imbalanced, must trim to match illicit accounts)        \n",
    "random_sample_accounts = random.sample(random_sample_accounts, 15000)\n",
    "random_sample_accounts = [i.lower() for i in random_sample_accounts]"
   ]
  },
  {
   "cell_type": "code",
   "execution_count": null,
   "id": "38665e2d-7a90-4888-bc19-080d2026a42e",
   "metadata": {},
   "outputs": [],
   "source": [
    "#Check to make sure there is no overlap with illict addresses\n",
    "all_illicit = pd.read_csv('all_illicit_addresses.csv')\n",
    "all_illicit_list = all_illicit['0'].tolist()\n",
    "\n",
    "accounts_no_overlap = []\n",
    "for i in random_sample_accounts:\n",
    "    if i not in all_illicit_list:\n",
    "        accounts_no_overlap.append(i)\n",
    "\n",
    "#Convert to Dataframe and Drop Duplicates\n",
    "random_sample_addresses = accounts_no_overlap\n",
    "random_sample_addresses_df = pd.DataFrame(random_sample_addresses, columns = ['Address'])\n",
    "random_sample_addresses_df = random_sample_addresses_df.drop_duplicates()\n",
    "#random_sample_addresses_df.to_csv('random_sample_addresses.csv')"
   ]
  },
  {
   "cell_type": "markdown",
   "id": "1bfa9fe2-2374-4fce-954c-543a102a585c",
   "metadata": {},
   "source": [
    "## Legal Addresses: Addresses with Coinbase Interaction"
   ]
  },
  {
   "cell_type": "code",
   "execution_count": null,
   "id": "4e8db7cd-46b9-4a18-aab9-a2a205cdbb00",
   "metadata": {},
   "outputs": [],
   "source": [
    "#Accounts with Coinbase Interaction: https://etherscan.io/accounts/label/coinbase?subcatid=undefined&size=50&start=0&col=1&order=asc\n",
    "coinbase_address_list = ['0x00000000219ab540356cBB839Cbe05303d7705Fa',\n",
    "                         '0xC02aaA39b223FE8D0A0e5C4F27eAD9083C756Cc2',\n",
    "                         '0x71660c4005BA85c37ccec55d0C4493E66Fe775d3',\n",
    "                         '0x503828976D22510aad0201ac7EC88293211D23Da',\n",
    "                         '0xddfAbCdc4D8FfC6d5beaf154f18B778f892A0740',\n",
    "                         '0x3cD751E6b0078Be393132286c442345e5DC49699',\n",
    "                         '0xb5d85CBf7cB3EE0D56b3bB207D5Fc4B82f43F511',\n",
    "                         '0xeB2629a2734e272Bcc07BDA959863f316F4bD4Cf',\n",
    "                         '0xD688AEA8f7d450909AdE10C47FaA95707b0682d9',\n",
    "                         '0x02466E547BFDAb679fC49e96bBfc62B9747D997C',\n",
    "                         '0x6b76F8B1e9E59913BfE758821887311bA1805cAB',\n",
    "                         '0xA9D1e08C7793af67e9d92fe308d5697FB81d3E43',\n",
    "                         '0x77696bb39917C91A0c3908D577d5e322095425cA',\n",
    "                         '0x7c195D981AbFdC3DDecd2ca0Fed0958430488e34',\n",
    "                         '0x95A9bd206aE52C4BA8EecFc93d18EACDd41C88CC',\n",
    "                         '0xb739D0895772DBB71A89A3754A160269068f0D45',\n",
    "                         '0xf6874c88757721a02f47592140905c4336DfBc61',\n",
    "                         '0x881D4032abe4188e2237eFCD27aB435E81FC6bb1',\n",
    "                         '0x6c8dd0e9cC58c07429e065178d88444B60e60b80',\n",
    "                         '0xBc8Ec259E3026aE0D87bc442D034d6882ce4a35C',\n",
    "                         '0x02d24cAB4f2c3Bf6e6EB07ea07e45F96baccFfE7',\n",
    "                         '0xCe352e98934499be70F641353f16A47D9E1E3aBd',\n",
    "                         '0x90E18a6920985DBACc3d76Cf27a3F2131923C720',\n",
    "                         '0x4B23d52eFf7C67F5992C2aB6D3f69b13a6a33561',\n",
    "                         '0xd2276aF80582CAc230EDC4c42e9a9C096F3C09AA',\n",
    "                         '0xA090e606E30bD747d4E6245a1517EbE430F0057e']\n",
    "\n",
    "coinbase_address_list = [i.lower() for i in coinbase_address_list]"
   ]
  },
  {
   "cell_type": "code",
   "execution_count": null,
   "id": "9fac2342-ed5d-41aa-88f4-9d807d3889c4",
   "metadata": {},
   "outputs": [],
   "source": [
    "%%time\n",
    "#Utilize Accounts Interacting with Coinbase As Legal\n",
    "#Get Legal ETH Accounts: Etherscan API\n",
    "\n",
    "block_range = range(17995000,18000000,1)\n",
    "coinbase_interaction_addresses = []\n",
    "for i in block_range:\n",
    "    try:\n",
    "        block = eth.get_proxy_block_by_number(tag = hex(i))\n",
    "        block_txs = block['transactions']\n",
    "        for i in block_txs:\n",
    "            if i['from'] in coinbase_address_list:\n",
    "                coinbase_interaction_addresses.append(i['to'])\n",
    "            if i['to'] in coinbase_address_list:\n",
    "                coinbase_interaction_addresses.append(i['from'])\n",
    "    except:\n",
    "        continue\n",
    "        \n",
    "#Convert to Dataframe and Drop Duplicates\n",
    "coinbase_df = pd.DataFrame(coinbase_interaction_addresses, columns = ['Address'])\n",
    "coinbase_df = coinbase_df.drop_duplicates()\n",
    "#coinbase_df.to_csv('legal_coinbase_addresses.csv')"
   ]
  }
 ],
 "metadata": {
  "kernelspec": {
   "display_name": "Python 3 (ipykernel)",
   "language": "python",
   "name": "python3"
  },
  "language_info": {
   "codemirror_mode": {
    "name": "ipython",
    "version": 3
   },
   "file_extension": ".py",
   "mimetype": "text/x-python",
   "name": "python",
   "nbconvert_exporter": "python",
   "pygments_lexer": "ipython3",
   "version": "3.10.11"
  }
 },
 "nbformat": 4,
 "nbformat_minor": 5
}
