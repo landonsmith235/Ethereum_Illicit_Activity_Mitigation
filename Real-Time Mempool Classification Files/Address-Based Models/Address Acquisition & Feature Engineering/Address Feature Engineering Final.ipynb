{
 "cells": [
  {
   "cell_type": "markdown",
   "id": "e593334f-e429-47b9-9d47-4be47789f11b",
   "metadata": {},
   "source": [
    "# Feature Engineering: Account-Based Dataset Creation"
   ]
  },
  {
   "cell_type": "markdown",
   "id": "5818379a-61aa-4400-841a-5437ade81b99",
   "metadata": {},
   "source": [
    "### Import Required Libraries"
   ]
  },
  {
   "cell_type": "code",
   "execution_count": null,
   "id": "8a6621c1-8a07-4c3c-a854-e11e717d3e1f",
   "metadata": {},
   "outputs": [],
   "source": [
    "from IPython.core.interactiveshell import InteractiveShell\n",
    "InteractiveShell.ast_node_interactivity = \"all\"\n",
    "\n",
    "#Etherscan API Python Library: https://github.com/pcko1/etherscan-python/tree/master/logs/standard\n",
    "from etherscan import Etherscan\n",
    "#Import Custom Functions Created to Help Engineer Features\n",
    "import custom_functions as cf\n",
    "import pandas as pd"
   ]
  },
  {
   "cell_type": "code",
   "execution_count": null,
   "id": "bf32a336-4761-4085-ba4e-961b17ebcbf8",
   "metadata": {},
   "outputs": [],
   "source": [
    "#API Key\n",
    "eth = Etherscan('API KEY')"
   ]
  },
  {
   "cell_type": "markdown",
   "id": "24cc13b3-e291-4add-8ca3-62761b5cc1ed",
   "metadata": {},
   "source": [
    "### View Etherscan API Output Format "
   ]
  },
  {
   "cell_type": "code",
   "execution_count": null,
   "id": "f0b02066-c044-4f93-a0f1-766283f3c4b4",
   "metadata": {},
   "outputs": [],
   "source": [
    "#Define Block Range\n",
    "start_block = 1\n",
    "end_block = 18000000"
   ]
  },
  {
   "cell_type": "code",
   "execution_count": null,
   "id": "22b1a9f9-7a3d-40e4-82eb-2470c544e184",
   "metadata": {
    "scrolled": true,
    "tags": []
   },
   "outputs": [],
   "source": [
    "%%time\n",
    "#Get Normal Transactions by Account\n",
    "#Use .lower() method on accounts, Etherscan explorer supports Checksum addresses but the API doesn't return Checksummed addresses \n",
    "txs = eth.get_normal_txs_by_address('0x0eD78CCA6cdfa68e08b85C463F29Dd8741Ff06ad'.lower(), start_block, end_block, 'asc')"
   ]
  },
  {
   "cell_type": "code",
   "execution_count": null,
   "id": "1e81f310-043f-4c9e-a494-7a1177ff31dc",
   "metadata": {},
   "outputs": [],
   "source": [
    "#Get ER20 Token Transactions by Account\n",
    "erc20_txs = eth.get_erc20_token_transfer_events_by_address('0x002Bf459dC58584D58886169EA0E80f3Ca95FFAF'.lower(), start_block, end_block, 'asc')"
   ]
  },
  {
   "cell_type": "markdown",
   "id": "f2d77a27-78d8-46f9-9a8a-77a8f06bd003",
   "metadata": {},
   "source": [
    "# Feature Engineering On a Single Address"
   ]
  },
  {
   "cell_type": "code",
   "execution_count": null,
   "id": "89495c94-0043-4275-a347-360f0b32976f",
   "metadata": {},
   "outputs": [],
   "source": [
    "#Define List of Output Features\n",
    "feature_list = ['Sent_tnx',\n",
    "                'Received_tnx',\n",
    "                'Total_Ether_Balance',\n",
    "                'Max_Val_Received',\n",
    "                'Min_Val_Received',\n",
    "                'Total_Ether_Received',\n",
    "                'Time_Diff_between_first_and_last_(Mins)',\n",
    "                'Total_Transactions_(Including_Tnx_to_Create_Contract)',\n",
    "                'Avg_Val_Received',\n",
    "                'Max_Val_Sent',\n",
    "                'Min_Val_Sent',\n",
    "                'Total_Ether_Sent',\n",
    "                'Avg_Val_Sent',\n",
    "                'Avg_min_between_sent_tnx',\n",
    "                'Avg_min_between_received_tnx',\n",
    "                'ERC20_Total_Ether_Received',\n",
    "                'ERC20_Total_Ether_Sent',\n",
    "                'ERC20_Min_Val_Rec',\n",
    "                'ERC20_Max_Val_Rec',\n",
    "                'ERC20_Min_Val_Sent',\n",
    "                'ERC20_Max_Val_Sent',\n",
    "                'Total_ERC20_Tnxs',\n",
    "                'ERC20_Avg_Time_Between_Sent_Tnx',\n",
    "                'ERC20_Avg_Time_Between_Rec_Tnx',\n",
    "                'Unique_Received_From_Addresses',\n",
    "                'Unique_Sent_To_Addresses',\n",
    "                'ERC20_Uniq_Sent_Addr',\n",
    "                'ERC20_Uniq_Rec_Addr',\n",
    "                'ERC20_Avg_Val_Sent',\n",
    "                'ERC20_Avg_Val_Rec']"
   ]
  },
  {
   "cell_type": "code",
   "execution_count": null,
   "id": "a61387f1-6147-4a65-a9b6-db189bdda523",
   "metadata": {
    "scrolled": true,
    "tags": []
   },
   "outputs": [],
   "source": [
    "%%time\n",
    "#Automate Feature Generation\n",
    "address = '0x0002b44ddb1476db43c868bd494422ee4c136fed'\n",
    "df1 = cf.automate_feature_generation_single(address.lower(), feature_list, start_block, end_block)\n",
    "\n",
    "#Display Output in Readable Manner\n",
    "pd.options.display.float_format = '{:.3f}'.format\n",
    "pd.set_option('display.max_columns', None)\n",
    "\n",
    "df1"
   ]
  },
  {
   "cell_type": "markdown",
   "id": "3d90444c-984b-468c-aff4-98dc4ac4ee8d",
   "metadata": {},
   "source": [
    "# Feature Engineering on Multiple Addresses"
   ]
  },
  {
   "cell_type": "code",
   "execution_count": null,
   "id": "762c775a-fc18-4ef1-a23e-b418ca6c7f4e",
   "metadata": {},
   "outputs": [],
   "source": [
    "%%time\n",
    "#Automate Feature Generation\n",
    "addresses = ['0x0002b44ddb1476db43c868bd494422ee4c136fed','0x1d6065940bfd6ac7c4ec1e2a35e1420e0a9c1bff','0x1cdcec6630c99863fb1307c812691bc688f3e92e']\n",
    "addresses_lower = [i.lower() for i in addresses]\n",
    "\n",
    "df2 = cf.automate_feature_generation_multiple(addresses_lower, feature_list, start_block, end_block)\n",
    "df2"
   ]
  },
  {
   "cell_type": "markdown",
   "id": "80df9fe8-6e73-4e0c-8351-28efef128a88",
   "metadata": {},
   "source": [
    "# Batch Feature Engineering: Large Amount of Addresses"
   ]
  },
  {
   "cell_type": "code",
   "execution_count": null,
   "id": "80c6dbee-1ccf-439d-baa8-b2c72c2c9c16",
   "metadata": {},
   "outputs": [],
   "source": [
    "#Create Batches to Query Etherscan\n",
    "df_list = cf.batch_creator(random_sample_accounts,200)"
   ]
  },
  {
   "cell_type": "code",
   "execution_count": null,
   "id": "e755f20d-71a8-465e-b4c4-14538c93e492",
   "metadata": {},
   "outputs": [],
   "source": [
    "%%time\n",
    "#Query Etherscan Batch by Batch\n",
    "result_dataset, missed_addresses = cf.batch_feature_engineering(df_list, feature_list, start_block, end_block)\n",
    "result_dataset\n",
    "missed_addresses"
   ]
  }
 ],
 "metadata": {
  "kernelspec": {
   "display_name": "Python 3 (ipykernel)",
   "language": "python",
   "name": "python3"
  },
  "language_info": {
   "codemirror_mode": {
    "name": "ipython",
    "version": 3
   },
   "file_extension": ".py",
   "mimetype": "text/x-python",
   "name": "python",
   "nbconvert_exporter": "python",
   "pygments_lexer": "ipython3",
   "version": "3.10.11"
  }
 },
 "nbformat": 4,
 "nbformat_minor": 5
}
