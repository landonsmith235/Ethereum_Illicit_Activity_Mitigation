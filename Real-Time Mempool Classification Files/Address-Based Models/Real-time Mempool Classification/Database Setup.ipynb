{
 "cells": [
  {
   "cell_type": "markdown",
   "id": "dd2aa42c-86cb-469c-a607-00a0d621b13c",
   "metadata": {},
   "source": [
    "# Initial Database Setup"
   ]
  },
  {
   "cell_type": "code",
   "execution_count": null,
   "id": "ad133b28-e70e-4cbd-9e48-2113ce1f94ee",
   "metadata": {},
   "outputs": [],
   "source": [
    "from IPython.core.interactiveshell import InteractiveShell\n",
    "InteractiveShell.ast_node_interactivity = \"all\"\n",
    "\n",
    "import psycopg2\n",
    "import pandas as pd\n",
    "import datetime"
   ]
  },
  {
   "cell_type": "code",
   "execution_count": null,
   "id": "7eeec7cb-a7db-4180-9989-78e7cae3a96f",
   "metadata": {},
   "outputs": [],
   "source": [
    "#Connect to Database\n",
    "conn = psycopg2.connect('Database Credentials')"
   ]
  },
  {
   "cell_type": "code",
   "execution_count": null,
   "id": "fd4284a1-7e1f-4228-a711-b3b376319553",
   "metadata": {},
   "outputs": [],
   "source": [
    "cur = conn.cursor()"
   ]
  },
  {
   "cell_type": "code",
   "execution_count": null,
   "id": "77ec5bc8-e7d0-4de3-9c0d-2cc36df14fd5",
   "metadata": {},
   "outputs": [],
   "source": [
    "cur.execute('SELECT version()')"
   ]
  },
  {
   "cell_type": "code",
   "execution_count": null,
   "id": "950a13f1-b78c-4e92-963c-a6f2201b1842",
   "metadata": {},
   "outputs": [],
   "source": [
    "record = cur.fetchone()"
   ]
  },
  {
   "cell_type": "code",
   "execution_count": null,
   "id": "222a80cb-6d9c-411d-b226-82fc12c79650",
   "metadata": {},
   "outputs": [],
   "source": [
    "record"
   ]
  },
  {
   "cell_type": "code",
   "execution_count": null,
   "id": "e84859b8-52b1-48c9-b3b6-95a1b7ae2eb1",
   "metadata": {},
   "outputs": [],
   "source": [
    "#Query to Create Tables\n",
    "\n",
    "#Create Whitelist Table\n",
    "create_whitelist_table = '''CREATE TABLE whitelist\n",
    "          (address VARCHAR(42) PRIMARY KEY NOT NULL,\n",
    "          tag VARCHAR(42) NOT NULL,\n",
    "          flag INT NOT NULL); '''\n",
    "cur.execute(create_whitelist_table)\n",
    "conn.commit()\n",
    "\n",
    "#Create Legal Table\n",
    "create_legal_table = '''CREATE TABLE legal_addresses\n",
    "          (address VARCHAR(42) PRIMARY KEY NOT NULL,\n",
    "          flag INT NOT NULL,\n",
    "          timestamp timestamp NOT NULL); '''\n",
    "cur.execute(create_legal_table)\n",
    "conn.commit()\n",
    "\n",
    "#Create Illicit Table\n",
    "create_illicit_table = '''CREATE TABLE illicit_addresses\n",
    "          (address VARCHAR(42) PRIMARY KEY NOT NULL,\n",
    "          flag INT NOT NULL,\n",
    "          timestamp timestamp NOT NULL); '''\n",
    "cur.execute(create_illicit_table)\n",
    "conn.commit()"
   ]
  },
  {
   "cell_type": "code",
   "execution_count": null,
   "id": "003116f6-b2df-4880-b005-b92bc8c313f3",
   "metadata": {},
   "outputs": [],
   "source": [
    "#Query to Delete Tables\n",
    "\n",
    "#Delete Whitelist Table\n",
    "delete_whitelist_query = \"DROP TABLE whitelist\"\n",
    "cur.execute(delete_whitelist_query)\n",
    "conn.commit()\n",
    "\n",
    "#Delete Legal Table\n",
    "delete_legal_query = \"DROP TABLE legal_addresses\"\n",
    "cur.execute(delete_legal_query)\n",
    "conn.commit()\n",
    "\n",
    "#Delete Illicit Table\n",
    "delete_illicit_query = \"DROP TABLE illicit_addresses\"\n",
    "cur.execute(delete_illicit_query)\n",
    "conn.commit()"
   ]
  },
  {
   "cell_type": "code",
   "execution_count": null,
   "id": "c0713505-3282-4679-9ee4-6a0d7a022cfc",
   "metadata": {},
   "outputs": [],
   "source": [
    "#Import Whitelist Into the Whitelist Table\n",
    "whitelist = pd.read_csv('address_whitelist.csv', index_col=0)\n",
    "whitelist\n",
    "\n",
    "for i in range(len(whitelist)):\n",
    "    values = whitelist.loc[i].tolist()\n",
    "    insert_query = \"INSERT INTO whitelist (address, tag, flag) VALUES (%s,%s,%s)\"\n",
    "    insert_tuple = (values[1], values[0], int(values[2]))\n",
    "    cur.execute(insert_query,insert_tuple)\n",
    "    conn.commit()"
   ]
  },
  {
   "cell_type": "code",
   "execution_count": null,
   "id": "4d7037b1-f0a4-49f2-8675-2eb6578f95f1",
   "metadata": {},
   "outputs": [],
   "source": [
    "#Display Whitelist\n",
    "cur.execute(\"SELECT * from whitelist\")\n",
    "record = cur.fetchall()\n",
    "\n",
    "data = pd.DataFrame(record)\n",
    "data"
   ]
  },
  {
   "cell_type": "code",
   "execution_count": null,
   "id": "1660e602-a7be-451f-b188-13a406df1117",
   "metadata": {},
   "outputs": [],
   "source": [
    "#Query Legal Addresses\n",
    "query = \"\"\"select * from legal_addresses\"\"\"\n",
    "cur.execute(query)\n",
    "conn.commit()"
   ]
  },
  {
   "cell_type": "code",
   "execution_count": null,
   "id": "7fe6d046-f380-4289-8a90-627e26c5f464",
   "metadata": {},
   "outputs": [],
   "source": [
    "record = cur.fetchall()"
   ]
  },
  {
   "cell_type": "code",
   "execution_count": null,
   "id": "a2a73d9e-0912-4a69-9aed-35e2421ec935",
   "metadata": {
    "scrolled": true,
    "tags": []
   },
   "outputs": [],
   "source": [
    "legal = pd.DataFrame(record,columns = ['Address', 'Flag', 'Timestamp'])\n",
    "len(legal)\n",
    "legal"
   ]
  },
  {
   "cell_type": "code",
   "execution_count": null,
   "id": "896c1f26-194e-49d3-9c39-7653d74fc8ef",
   "metadata": {},
   "outputs": [],
   "source": [
    "#Query Illicit Addresses\n",
    "query = \"\"\"select * from illicit_addresses\"\"\"\n",
    "cur.execute(query)\n",
    "conn.commit()"
   ]
  },
  {
   "cell_type": "code",
   "execution_count": null,
   "id": "651282ad-52eb-401a-8277-8ca294138e70",
   "metadata": {},
   "outputs": [],
   "source": [
    "record = cur.fetchall()"
   ]
  },
  {
   "cell_type": "code",
   "execution_count": null,
   "id": "d958c967-43bf-4dcb-8590-4d6e4c2ddecf",
   "metadata": {
    "scrolled": true,
    "tags": []
   },
   "outputs": [],
   "source": [
    "illicit = pd.DataFrame(record, columns = ['Address', 'Flag', 'Timestamp'])\n",
    "len(illicit)\n",
    "illicit"
   ]
  },
  {
   "cell_type": "code",
   "execution_count": null,
   "id": "4474d206-3579-4a2b-9084-3ba0f7fdcefd",
   "metadata": {},
   "outputs": [],
   "source": [
    "#Calculate Percentage of Illicit Activity\n",
    "len(illicit) / (len(illicit) + len(legal))"
   ]
  },
  {
   "cell_type": "code",
   "execution_count": null,
   "id": "338ff1fc-85e0-4551-8b59-0bbfeb2fc0a0",
   "metadata": {},
   "outputs": [],
   "source": [
    "dfs = [legal, illicit]\n",
    "mempool_classifications = pd.concat(dfs)\n",
    "mempool_classifications"
   ]
  }
 ],
 "metadata": {
  "kernelspec": {
   "display_name": "Python 3 (ipykernel)",
   "language": "python",
   "name": "python3"
  },
  "language_info": {
   "codemirror_mode": {
    "name": "ipython",
    "version": 3
   },
   "file_extension": ".py",
   "mimetype": "text/x-python",
   "name": "python",
   "nbconvert_exporter": "python",
   "pygments_lexer": "ipython3",
   "version": "3.10.11"
  }
 },
 "nbformat": 4,
 "nbformat_minor": 5
}
