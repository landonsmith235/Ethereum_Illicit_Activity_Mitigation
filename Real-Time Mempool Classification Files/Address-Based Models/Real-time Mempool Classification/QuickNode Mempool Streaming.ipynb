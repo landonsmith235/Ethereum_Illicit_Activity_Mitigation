{
 "cells": [
  {
   "cell_type": "markdown",
   "id": "a7779527-d1fb-40b5-aba3-b72cad2112c3",
   "metadata": {},
   "source": [
    "# Real-Time Illicit Activity Classification: Proposed Blocks & Mempool"
   ]
  },
  {
   "cell_type": "markdown",
   "id": "1e1f6d9a-1308-4a3f-837a-048f64cc0b41",
   "metadata": {},
   "source": [
    "### Import Required Libraries"
   ]
  },
  {
   "cell_type": "code",
   "execution_count": null,
   "id": "23fc9026-e50b-4beb-bd0f-c979981e3010",
   "metadata": {},
   "outputs": [],
   "source": [
    "from IPython.core.interactiveshell import InteractiveShell\n",
    "InteractiveShell.ast_node_interactivity = \"all\"\n",
    "\n",
    "from web3 import Web3\n",
    "import psycopg2\n",
    "import pandas as pd\n",
    "import joblib\n",
    "from etherscan import Etherscan\n",
    "import custom_functions as cf\n",
    "import sklearn\n",
    "import datetime\n",
    "import traceback\n",
    "from hexbytes import HexBytes"
   ]
  },
  {
   "cell_type": "markdown",
   "id": "50e5ee22-9f63-4807-b545-bb003a0f6a3c",
   "metadata": {},
   "source": [
    "### Connect to Etherscan API"
   ]
  },
  {
   "cell_type": "code",
   "execution_count": null,
   "id": "d7fbd14f-7283-4b14-b6cc-0ed94028386f",
   "metadata": {
    "scrolled": true
   },
   "outputs": [],
   "source": [
    "#API Key\n",
    "eth = Etherscan('BCEMI7SNDV9VURA8WD16U9HZIQHRNPK59Z')\n",
    "eth.get_normal_txs_by_address('0x0eD78CCA6cdfa68e08b85C463F29Dd8741Ff06ad'.lower(), 1, 18000000, 'asc')[0]['hash']"
   ]
  },
  {
   "cell_type": "markdown",
   "id": "59ddc5ec-812c-4728-a52b-21c87eaa65eb",
   "metadata": {},
   "source": [
    "### Connect to Quicknode Geth Client (Ethereum Mempool Transactions)"
   ]
  },
  {
   "cell_type": "code",
   "execution_count": null,
   "id": "a3be2b14-8861-44e7-96f1-4eda050db88e",
   "metadata": {},
   "outputs": [],
   "source": [
    "#Node HTTP URL\n",
    "quicknode_url = 'https://wandering-proportionate-borough.discover.quiknode.pro/fb6dc3f6a93d9342b7b1f397599fdd5ecc80b370/'\n",
    "web3 = Web3(Web3.HTTPProvider(quicknode_url))\n",
    "web3.is_connected()\n",
    "web3.eth.get_block_number()"
   ]
  },
  {
   "cell_type": "markdown",
   "id": "4903b2b1-9589-49dd-bb74-ebbeff765ff0",
   "metadata": {},
   "source": [
    "### Connect to PostgreSQL Database"
   ]
  },
  {
   "cell_type": "code",
   "execution_count": null,
   "id": "350e0c54-8862-43e6-b85f-7444037eea6b",
   "metadata": {},
   "outputs": [],
   "source": [
    "#Ensure Connection to Google Cloud Database\n",
    "conn = psycopg2.connect(\n",
    "    host=\"34.134.242.102\",\n",
    "    database=\"addresses\",\n",
    "    user=\"postgres\",\n",
    "    password=\"AIChain\")\n",
    "\n",
    "cur = conn.cursor()\n",
    "cur.execute('SELECT version()')\n",
    "record = cur.fetchone()\n",
    "record"
   ]
  },
  {
   "cell_type": "markdown",
   "id": "d3afae6d-f9c5-40c9-ad9c-44abc5e796a7",
   "metadata": {},
   "source": [
    "### Import Ensemble Models (Random Sampling & Coinbase)"
   ]
  },
  {
   "cell_type": "code",
   "execution_count": null,
   "id": "e9039620-463c-46bd-9c56-46a8f02ca7c3",
   "metadata": {},
   "outputs": [],
   "source": [
    "#Import Random Sampling Based Ensemble Model (Currently a Simple Random Forest)\n",
    "random_sampling_model = joblib.load('v3_ensemble_model_random')\n",
    "\n",
    "#Import Coinbase Based Ensemble Model\n",
    "coinbase_model = joblib.load('v3_ensemble_model_coinbase')"
   ]
  },
  {
   "cell_type": "markdown",
   "id": "73299073-5ad6-45e8-b256-08b5be006977",
   "metadata": {},
   "source": [
    "### Define Nessesary Variables"
   ]
  },
  {
   "cell_type": "code",
   "execution_count": null,
   "id": "320c4236-8165-479c-81ed-d7ccd4fa7b37",
   "metadata": {},
   "outputs": [],
   "source": [
    "#Define Account-Based Features to Generate\n",
    "account_feature_list = ['Sent_tnx',\n",
    "                'Recieved_tnx',\n",
    "                'Total_Ether_Balance',\n",
    "                'Max_Value_Received',\n",
    "                'Min_Value_Received',\n",
    "                'Total_Ether_Received',\n",
    "                'Time_Diff_between_first_and_last_(Mins)',\n",
    "                'Total_Transactions(Including_Tnx_to_Create_Contract)',\n",
    "                'Avg_Value_Received',\n",
    "                'Max_Value_Sent',\n",
    "                'Min_Value_Sent',\n",
    "                'Total_Ether_Sent',\n",
    "                'Avg_Value_Sent',\n",
    "                'Avg_min_between_sent_tnx',\n",
    "                'Avg_min_between_received_tnx',\n",
    "                'ERC20_Total_Ether_Received',\n",
    "                'ERC20_Total_Ether_Sent',\n",
    "                'ERC20_Min_Value_Rec',\n",
    "                'ERC20_Max_Value_Rec',\n",
    "                'ERC20_Min_Value_Sent',\n",
    "                'ERC20_Max_Value_Sent',\n",
    "                'Total_ERC20_Tnxs',\n",
    "                'ERC20_Avg_Time_Between_Sent_Tnx',\n",
    "                'ERC20_Avg_Time_Between_Rec_Tnx',\n",
    "                'Unique_Received_From_Addresses',\n",
    "                'Unique_Sent_To_Addresses',\n",
    "                'ERC20_Uniq_Sent_Addr',\n",
    "                'ERC20_Uniq_Rec_Addr',\n",
    "                'ERC20_Avg_Value_Sent',\n",
    "                'ERC20_Avg_Value_Rec']\n",
    "\n",
    "account_feature_list = [i.upper() for i in account_feature_list]\n",
    "\n",
    "#Define Block Range to Generate Features Over\n",
    "start_block = 1\n",
    "end_block = 18000000"
   ]
  },
  {
   "cell_type": "markdown",
   "id": "0890bb5b-3717-4ae1-bfb3-790e96fbf936",
   "metadata": {},
   "source": [
    "### Get Total Number of Transactions in Mempool"
   ]
  },
  {
   "cell_type": "code",
   "execution_count": null,
   "id": "638e2ad2-bc38-4fd5-b8d6-73c79e04a63e",
   "metadata": {},
   "outputs": [],
   "source": [
    "mempool_count = web3.geth.txpool.status()\n",
    "int(mempool_count['pending'],16)"
   ]
  },
  {
   "cell_type": "markdown",
   "id": "01b16c27-fa2f-4c8a-8932-eeb42fe0e67f",
   "metadata": {},
   "source": [
    "### View All Mempool Transactions"
   ]
  },
  {
   "cell_type": "code",
   "execution_count": null,
   "id": "fc16afed-d717-4e8b-a678-04f0598618de",
   "metadata": {},
   "outputs": [],
   "source": [
    "mempool = web3.geth.txpool.content()\n",
    "#mempool"
   ]
  },
  {
   "cell_type": "markdown",
   "id": "bc6bd6a1-5901-42cb-9ae4-04938c79741e",
   "metadata": {},
   "source": [
    "### Define Function To Classify A Single Address Implicated in a Mempool Transaction"
   ]
  },
  {
   "cell_type": "code",
   "execution_count": null,
   "id": "c8a6f8b0-ef74-4b6f-9015-192c14285db0",
   "metadata": {},
   "outputs": [],
   "source": [
    "def process_proposed_tx(tx,sender_or_receiver):\n",
    "    try:\n",
    "        if sender_or_receiver == 'receiver':\n",
    "            address = tx['from'].lower()\n",
    "        if sender_or_receiver == 'sender':\n",
    "            address = tx['to'].lower()\n",
    "        whitelist_query = \"SELECT flag FROM whitelist WHERE address = \" + \"'\" + address + \"'\"\n",
    "        legal_query = \"SELECT flag FROM legal_addresses WHERE address = \" + \"'\" + address + \"'\"\n",
    "        illicit_query = \"SELECT flag FROM illicit_addresses WHERE address = \" + \"'\" + address + \"'\"\n",
    "        cur.execute(whitelist_query)\n",
    "        conn.commit()\n",
    "        whitelist_record = cur.fetchall()\n",
    "        #If address isn't in whitelist table, query legal table\n",
    "        if len(whitelist_record) == 0:\n",
    "            cur.execute(legal_query)\n",
    "            conn.commit()\n",
    "            legal_record = cur.fetchall()\n",
    "            #If address isn't in legal table, query illicit table\n",
    "            if len(legal_record) == 0:\n",
    "                cur.execute(illicit_query)\n",
    "                conn.commit()\n",
    "                illicit_record = cur.fetchall()\n",
    "                #If address isn't in illicit table, generate features & predict\n",
    "                if len(illicit_record) == 0:\n",
    "                    etherscan_ouput = cf.automate_feature_generation_single(address, account_feature_list, 1, int(web3.eth.get_block_number()))\n",
    "                    etherscan_ouput = etherscan_ouput.drop(columns = ['Address'])\n",
    "                    prediction = coinbase_model.predict(etherscan_ouput)[0]\n",
    "                    #If the model predicts the address is legal, approve the address & update database\n",
    "                    if prediction == 0:\n",
    "                        classification_time = datetime.datetime.now()\n",
    "                        insert_query = \"INSERT INTO legal_addresses (address, flag, timestamp) VALUES (%s,%s,%s)\"\n",
    "                        insert_tuple = (address, 0, classification_time)\n",
    "                        cur.execute(insert_query,insert_tuple)\n",
    "                        conn.commit()\n",
    "                        final_prediction = prediction\n",
    "                    #If the model predicts the address is illegal, reject the address & update the database\n",
    "                    if prediction == 1:\n",
    "                        classification_time = datetime.datetime.now()\n",
    "                        insert_query = \"INSERT INTO illicit_addresses (address, flag, timestamp) VALUES (%s,%s,%s)\"\n",
    "                        insert_tuple = (address, 1, classification_time)\n",
    "                        cur.execute(insert_query,insert_tuple)\n",
    "                        conn.commit()\n",
    "                        final_prediction = prediction\n",
    "                #If address is in the illicit table, reject the address\n",
    "                if len(illicit_record) == 1:\n",
    "                    final_prediction = 1\n",
    "            #If the address is in the legal table, approve the address\n",
    "            if len(legal_record) == 1:\n",
    "                final_prediction = 0\n",
    "        #If sender address is in the whitelist table, approve the address\n",
    "        if len(whitelist_record) == 1:\n",
    "            final_prediction = 0\n",
    "    except:\n",
    "        traceback.print_exc()\n",
    "        conn.rollback()\n",
    "    return final_prediction"
   ]
  },
  {
   "cell_type": "markdown",
   "id": "1aed9fc8-163e-41b5-829d-11fb075e3690",
   "metadata": {},
   "source": [
    "### Define Function to Classify Both Addresses Implicated in a Mempool Transaction"
   ]
  },
  {
   "cell_type": "code",
   "execution_count": null,
   "id": "61104112-15d7-4100-bc16-b5b2a45a8fb4",
   "metadata": {},
   "outputs": [],
   "source": [
    "#Approval For Individial Mempool Transactions to Be Added to Proposed Blocks\n",
    "def mempool_tx_classifier(tx):\n",
    "    sender_flag = process_proposed_tx(tx,'sender')\n",
    "    receiver_flag = process_proposed_tx(tx,'receiver')\n",
    "    tx_flags = [sender_flag, receiver_flag]\n",
    "    return tx_flags\n",
    "\n",
    "transaction = web3.eth.get_transaction('0x8bd2785c93871b8e42b02b0d79150f6657ea44d1ddce8a631f9515981de735d6')\n",
    "mempool_tx_classifier(transaction)"
   ]
  },
  {
   "cell_type": "markdown",
   "id": "d93964d1-f84f-442a-ab3f-9e7ecb46bc7c",
   "metadata": {},
   "source": [
    "### Stream Real-Time Mempool Transactions (No Classification)"
   ]
  },
  {
   "cell_type": "code",
   "execution_count": null,
   "id": "b074edb6-921d-42f8-a4c6-8bf2462ef67a",
   "metadata": {},
   "outputs": [],
   "source": [
    "from web3.auto import Web3\n",
    "import asyncio\n",
    "import json\n",
    "\n",
    "# enter your web socket node credentials here\n",
    "# this will allow us to stream transactions\n",
    "wss = 'wss://wandering-proportionate-borough.discover.quiknode.pro/fb6dc3f6a93d9342b7b1f397599fdd5ecc80b370/'\n",
    "web3 = Web3(Web3.WebsocketProvider(wss))\n",
    "\n",
    "\n",
    "# test to see if you are connected to your node\n",
    "# this will print out True if you are successfully connected to a node\n",
    "print(web3.is_connected())\n",
    "\n",
    "\n",
    "def handle_event(event):\n",
    "    # print the transaction hash\n",
    "    # print(Web3.to_json(event))\n",
    "\n",
    "    # use a try / except to have the program continue if there is a bad transaction in the list\n",
    "    try:\n",
    "        # remove the quotes in the transaction hash\n",
    "        transaction = Web3.to_json(event).strip('\"')\n",
    "        # use the transaction hash that we removed the '\"' from to get the details of the transaction\n",
    "        transaction = web3.eth.get_transaction(transaction)\n",
    "        # print the transaction and its details\n",
    "        print(transaction)\n",
    "\n",
    "    except Exception as err:\n",
    "        # print transactions with errors. Expect to see transactions people submitted with errors \n",
    "        print(f'error: {err}')\n",
    "\n",
    "\n",
    "async def log_loop(event_filter, poll_interval):\n",
    "    while True:\n",
    "        for event in event_filter.get_new_entries():\n",
    "            handle_event(event)\n",
    "        await asyncio.sleep(poll_interval)\n",
    "\n",
    "\n",
    "def main():\n",
    "    # filter for pending transactions\n",
    "    tx_filter = web3.eth.filter('pending')\n",
    "    loop = asyncio.get_event_loop()\n",
    "    try:\n",
    "        loop.run_until_complete(\n",
    "            asyncio.gather(\n",
    "                log_loop(tx_filter, 2)))\n",
    "    finally:\n",
    "        loop.close()\n",
    "\n",
    "\n",
    "if __name__ == '__main__':\n",
    "    main()"
   ]
  },
  {
   "cell_type": "markdown",
   "id": "23ac2c03-ccb7-43fa-bd4f-f2db02c762cb",
   "metadata": {},
   "source": [
    "### Preform Real-Time Illicit Activity Detection on Mempool Transactions"
   ]
  },
  {
   "cell_type": "code",
   "execution_count": null,
   "id": "776d60ce-c8fb-4650-a011-8e67fd960aa6",
   "metadata": {},
   "outputs": [],
   "source": [
    "from web3.auto import Web3\n",
    "import asyncio\n",
    "import json\n",
    "\n",
    "wss = 'wss://wandering-proportionate-borough.discover.quiknode.pro/fb6dc3f6a93d9342b7b1f397599fdd5ecc80b370/'\n",
    "web3 = Web3(Web3.WebsocketProvider(wss))\n",
    "print(web3.is_connected())\n",
    "\n",
    "def handle_event(event):\n",
    "    try:\n",
    "        transaction = Web3.to_json(event).strip('\"')\n",
    "        transaction = web3.eth.get_transaction(transaction)\n",
    "        output = mempool_tx_classifier(transaction)\n",
    "        print('Tx Hash ' + str(transaction['hash'].hex()) + ' has been processed.')\n",
    "        if (output[0] == 0) & (output[1] == 0):\n",
    "            print('Both addresses implicated were deemed to be legal. We approve the transaction for block inclusion.')\n",
    "        if (output[0] == 1) & (output[1] == 0):\n",
    "            print('The address of the sender was deemed to be illicit. We recommend against block inclusion for this transaction.')\n",
    "        if (output[0] == 0) & (output[1] == 1):\n",
    "            print('The address of the receiver was deemed to be illicit. We recommend against block inclusion for this transaction.')\n",
    "        if (output[0] == 1) & (output[1] == 1):\n",
    "            print('Both addresses implicated were deemed to be illicit. We recommend against block inclusion for this transaction.')\n",
    "            \n",
    "\n",
    "    except Exception as err:\n",
    "        print(f'error: {err}')\n",
    "\n",
    "\n",
    "async def log_loop(event_filter, poll_interval):\n",
    "    while True:\n",
    "        for event in event_filter.get_new_entries():\n",
    "            handle_event(event)\n",
    "        await asyncio.sleep(poll_interval)\n",
    "\n",
    "\n",
    "def main():\n",
    "    # filter for pending transactions\n",
    "    tx_filter = web3.eth.filter('pending')\n",
    "    loop = asyncio.get_event_loop()\n",
    "    loop.run_until_complete(asyncio.gather(log_loop(tx_filter, 2)))\n",
    "\n",
    "if __name__ == '__main__':\n",
    "    main()"
   ]
  }
 ],
 "metadata": {
  "kernelspec": {
   "display_name": "Python 3 (ipykernel)",
   "language": "python",
   "name": "python3"
  },
  "language_info": {
   "codemirror_mode": {
    "name": "ipython",
    "version": 3
   },
   "file_extension": ".py",
   "mimetype": "text/x-python",
   "name": "python",
   "nbconvert_exporter": "python",
   "pygments_lexer": "ipython3",
   "version": "3.11.4"
  }
 },
 "nbformat": 4,
 "nbformat_minor": 5
}
