{
 "cells": [
  {
   "cell_type": "markdown",
   "id": "db4d800b-0192-4531-b90f-0a2d1b66f4a5",
   "metadata": {},
   "source": [
    "# Ether Transaction-Based Model"
   ]
  },
  {
   "cell_type": "markdown",
   "id": "81f100f1-12e3-4300-bfc3-fd556243389a",
   "metadata": {},
   "source": [
    "### Import Required Libraries"
   ]
  },
  {
   "cell_type": "code",
   "execution_count": 1,
   "id": "44b4579a-2eba-48c3-b265-ba1d8f849ede",
   "metadata": {},
   "outputs": [],
   "source": [
    "from IPython.core.interactiveshell import InteractiveShell\n",
    "InteractiveShell.ast_node_interactivity = \"all\"\n",
    "\n",
    "import pandas as pd\n",
    "from sklearn.ensemble import RandomForestClassifier\n",
    "from sklearn.metrics import classification_report\n",
    "from sklearn.model_selection import train_test_split\n",
    "import time\n",
    "from etherscan import Etherscan\n",
    "import custom_functions as cf\n",
    "import datetime\n",
    "import numpy as np\n",
    "\n",
    "pd.options.display.float_format = '{:.3f}'.format"
   ]
  },
  {
   "cell_type": "code",
   "execution_count": 2,
   "id": "c920607c-625f-45b1-98ce-9b5049e6502d",
   "metadata": {},
   "outputs": [],
   "source": [
    "#API Key\n",
    "eth = Etherscan('API Key')"
   ]
  },
  {
   "cell_type": "markdown",
   "id": "5828d98e-71b5-481a-9b14-31537129c5b1",
   "metadata": {
    "tags": []
   },
   "source": [
    "### Transaction Acquisition"
   ]
  },
  {
   "cell_type": "code",
   "execution_count": 3,
   "id": "10f2b8fc-2739-4d5a-a208-dcc433bc0f29",
   "metadata": {},
   "outputs": [
    {
     "name": "stdout",
     "output_type": "stream",
     "text": [
      "CPU times: user 0 ns, sys: 0 ns, total: 0 ns\n",
      "Wall time: 1.91 µs\n"
     ]
    }
   ],
   "source": [
    "%%time\n",
    "#Get Illict ETH Transactions: Etherscan API \n",
    "\n",
    "#illicit = pd.read_csv('all_illicit_addresses_generated.csv', index_col=0)\n",
    "#illicit_addresses = illicit['Address'].tolist()\n",
    "#illicit_addresses\n",
    "\n",
    "#Define Block Range\n",
    "#start_block = 1\n",
    "#end_block = 18000000\n",
    "\n",
    "#illicit_addresses = [i.lower() for i in illicit_addresses]\n",
    "#illicit_txs_list = []\n",
    "#for i in illicit_addresses:\n",
    "#    try:\n",
    "#        txs = eth.get_normal_txs_by_address(i, start_block, end_block, 'asc')\n",
    "#        txs = [n for n in txs if n['isError'] == '0']\n",
    "#    except:\n",
    "#        txs = []\n",
    "#    for i in txs:\n",
    "#        illicit_txs_list.append(i)"
   ]
  },
  {
   "cell_type": "code",
   "execution_count": 4,
   "id": "2224442e-3f39-461a-a3e0-df1e5add67ed",
   "metadata": {},
   "outputs": [
    {
     "data": {
      "text/plain": [
       "420484"
      ]
     },
     "execution_count": 4,
     "metadata": {},
     "output_type": "execute_result"
    }
   ],
   "source": [
    "#illicit_txs = pd.DataFrame(illicit_txs_list)\n",
    "#illicit_txs.to_csv('all_illicit_transactions.csv')\n",
    "illicit_txs = pd.read_csv('all_illicit_transactions.csv')\n",
    "len(illicit_txs)"
   ]
  },
  {
   "cell_type": "code",
   "execution_count": 5,
   "id": "442f0389-1621-42d1-9b2c-8ed83b9f0a5d",
   "metadata": {},
   "outputs": [
    {
     "data": {
      "text/plain": [
       "1470134166"
      ]
     },
     "execution_count": 5,
     "metadata": {},
     "output_type": "execute_result"
    },
    {
     "data": {
      "text/plain": [
       "1693031063"
      ]
     },
     "execution_count": 5,
     "metadata": {},
     "output_type": "execute_result"
    },
    {
     "data": {
      "text/plain": [
       "datetime.datetime(2016, 8, 2, 3, 36, 6)"
      ]
     },
     "execution_count": 5,
     "metadata": {},
     "output_type": "execute_result"
    },
    {
     "data": {
      "text/plain": [
       "datetime.datetime(2023, 8, 25, 23, 24, 23)"
      ]
     },
     "execution_count": 5,
     "metadata": {},
     "output_type": "execute_result"
    },
    {
     "data": {
      "text/plain": [
       "'1997275'"
      ]
     },
     "execution_count": 5,
     "metadata": {},
     "output_type": "execute_result"
    },
    {
     "data": {
      "text/plain": [
       "'17997043'"
      ]
     },
     "execution_count": 5,
     "metadata": {},
     "output_type": "execute_result"
    }
   ],
   "source": [
    "#Gets Range of Illicit Transaction Timestamps\n",
    "import datetime\n",
    "illicit_txs.timeStamp.min()\n",
    "illicit_txs.timeStamp.max()\n",
    "\n",
    "datetime.datetime.fromtimestamp(int(illicit_txs.timeStamp.min()))\n",
    "datetime.datetime.fromtimestamp(int(illicit_txs.timeStamp.max()))\n",
    "\n",
    "eth.get_block_number_by_timestamp(illicit_txs.timeStamp.min(),'before')\n",
    "eth.get_block_number_by_timestamp(illicit_txs.timeStamp.max(),'before')"
   ]
  },
  {
   "cell_type": "code",
   "execution_count": 6,
   "id": "283acd97-300c-4a49-8f1e-db7c9249a7de",
   "metadata": {
    "scrolled": true,
    "tags": []
   },
   "outputs": [],
   "source": [
    "#Get Legal Transactions Based on Block Range\n",
    "import random\n",
    "#%%time\n",
    "#Get Legal ETH Transactions: Etherscan API\n",
    "# Number of Iterations Estimation (Number of Illicit Transactions / Average Tx per block)\n",
    "#iterations = int(420000/100)\n",
    "#block_range = range(0,iterations)\n",
    "#legal_txs_list = []\n",
    "#missed_blocks = []\n",
    "#block_timestamp_list = []\n",
    "\n",
    "#for i in block_range:\n",
    "#    chosen_block = random.randrange(1997275,17997043)\n",
    "#    print('Block # ' + str(chosen_block) + \" has been chosen.\")\n",
    "#    counter = 0\n",
    "#    try:\n",
    "#        block = eth.get_proxy_block_by_number(tag = hex(chosen_block))\n",
    "#        block_txs = block['transactions']\n",
    "#        for i in block_txs:\n",
    "#            legal_txs_list.append(i)\n",
    "#            block_timestamp_list.append(block['timestamp'])\n",
    "#        counter += 1\n",
    "#        print('Iteration ' + str(counter) + \" has been processed.\")\n",
    "#    except:\n",
    "#        print('Block # ' + str(chosen_block) + ' was unable to be captured.')\n",
    "#        missed_blocks.append(str(counter))\n",
    "#        time.sleep(20)\n",
    "#        continue"
   ]
  },
  {
   "cell_type": "code",
   "execution_count": 7,
   "id": "8222f2f3-8513-4823-b3b1-6250204df872",
   "metadata": {
    "scrolled": true,
    "tags": []
   },
   "outputs": [
    {
     "data": {
      "text/html": [
       "<div>\n",
       "<style scoped>\n",
       "    .dataframe tbody tr th:only-of-type {\n",
       "        vertical-align: middle;\n",
       "    }\n",
       "\n",
       "    .dataframe tbody tr th {\n",
       "        vertical-align: top;\n",
       "    }\n",
       "\n",
       "    .dataframe thead th {\n",
       "        text-align: right;\n",
       "    }\n",
       "</style>\n",
       "<table border=\"1\" class=\"dataframe\">\n",
       "  <thead>\n",
       "    <tr style=\"text-align: right;\">\n",
       "      <th></th>\n",
       "      <th>blockHash</th>\n",
       "      <th>blockNumber</th>\n",
       "      <th>from</th>\n",
       "      <th>gas</th>\n",
       "      <th>gasPrice</th>\n",
       "      <th>hash</th>\n",
       "      <th>input</th>\n",
       "      <th>nonce</th>\n",
       "      <th>to</th>\n",
       "      <th>transactionIndex</th>\n",
       "      <th>value</th>\n",
       "      <th>type</th>\n",
       "      <th>chainId</th>\n",
       "      <th>v</th>\n",
       "      <th>r</th>\n",
       "      <th>s</th>\n",
       "      <th>maxFeePerGas</th>\n",
       "      <th>maxPriorityFeePerGas</th>\n",
       "      <th>accessList</th>\n",
       "      <th>timeStamp</th>\n",
       "    </tr>\n",
       "  </thead>\n",
       "  <tbody>\n",
       "    <tr>\n",
       "      <th>0</th>\n",
       "      <td>0x8af16d2d93c55b37f631b856345037cb88f3f6a9f5f8...</td>\n",
       "      <td>0xa2464b</td>\n",
       "      <td>0x2fb9e343a8a2c4c4bcd4670ce61a14afe762c661</td>\n",
       "      <td>0x5208</td>\n",
       "      <td>0x1d1a94a200</td>\n",
       "      <td>0x377560e1d69b17d086d7b3924c50998718781d7e56ef...</td>\n",
       "      <td>0x</td>\n",
       "      <td>0xcb</td>\n",
       "      <td>0x42b210355761a5e13b20e28a9b31b96d497711c3</td>\n",
       "      <td>0x0</td>\n",
       "      <td>0x1b4fbd92b5f8000</td>\n",
       "      <td>0x0</td>\n",
       "      <td>0x1</td>\n",
       "      <td>0x25</td>\n",
       "      <td>0x80b0bc1f55d15255088c15d5b78b29f260372b5c90e2...</td>\n",
       "      <td>0x4c540873de0a6c48e543f55e54cc33f61bc79cf53565...</td>\n",
       "      <td>NaN</td>\n",
       "      <td>NaN</td>\n",
       "      <td>NaN</td>\n",
       "      <td>0x5f31c6ae</td>\n",
       "    </tr>\n",
       "    <tr>\n",
       "      <th>1</th>\n",
       "      <td>0x8af16d2d93c55b37f631b856345037cb88f3f6a9f5f8...</td>\n",
       "      <td>0xa2464b</td>\n",
       "      <td>0x06fda5b767c8b6171045e6549aab369a9dea36fc</td>\n",
       "      <td>0x51de0</td>\n",
       "      <td>0x1c5066dc7c</td>\n",
       "      <td>0xa726b798fab86c4cda6a0afa3d9949d9059501a72558...</td>\n",
       "      <td>0x000000d7000000000000000000000000000000000000...</td>\n",
       "      <td>0x5c61</td>\n",
       "      <td>0x7b2ef92fdecdf4a156365eb78c9e92b44588fe84</td>\n",
       "      <td>0x1</td>\n",
       "      <td>0x0</td>\n",
       "      <td>0x0</td>\n",
       "      <td>0x1</td>\n",
       "      <td>0x26</td>\n",
       "      <td>0x9fcf2ce42c2eb45f50d26257ade0fe03081ba0451d78...</td>\n",
       "      <td>0x23a1842b31492bce8dbe3da137f1b75176949ae458ba...</td>\n",
       "      <td>NaN</td>\n",
       "      <td>NaN</td>\n",
       "      <td>NaN</td>\n",
       "      <td>0x5f31c6ae</td>\n",
       "    </tr>\n",
       "    <tr>\n",
       "      <th>2</th>\n",
       "      <td>0x8af16d2d93c55b37f631b856345037cb88f3f6a9f5f8...</td>\n",
       "      <td>0xa2464b</td>\n",
       "      <td>0x00e43c0bfa2303310222e077ffa948bddf256848</td>\n",
       "      <td>0x2e3b4</td>\n",
       "      <td>0x1c5066d200</td>\n",
       "      <td>0xb20f892af8ea0f86557e55fd80985e54bf16e767a7a4...</td>\n",
       "      <td>0x8201aa3f000000000000000000000000c02aaa39b223...</td>\n",
       "      <td>0x36ee</td>\n",
       "      <td>0x1be21dd1fa2aced16656b7d765b88afa6853cc98</td>\n",
       "      <td>0x2</td>\n",
       "      <td>0x0</td>\n",
       "      <td>0x0</td>\n",
       "      <td>0x1</td>\n",
       "      <td>0x26</td>\n",
       "      <td>0x152fc0f9e5e5f1e8aa31bfc8d1f9abe300ae98ef38f5...</td>\n",
       "      <td>0x584c73e08d357cd2d1921c50fb81dcb94e3e22447a0c...</td>\n",
       "      <td>NaN</td>\n",
       "      <td>NaN</td>\n",
       "      <td>NaN</td>\n",
       "      <td>0x5f31c6ae</td>\n",
       "    </tr>\n",
       "    <tr>\n",
       "      <th>3</th>\n",
       "      <td>0x8af16d2d93c55b37f631b856345037cb88f3f6a9f5f8...</td>\n",
       "      <td>0xa2464b</td>\n",
       "      <td>0xfbb1b73c4f0bda4f67dca266ce6ef42f520fbb98</td>\n",
       "      <td>0x249f0</td>\n",
       "      <td>0x1a3185c500</td>\n",
       "      <td>0xe0c473717fcddf63076021c8c7ec6e233c7113b39242...</td>\n",
       "      <td>0xa9059cbb00000000000000000000000072aafba75261...</td>\n",
       "      <td>0x8df9d3</td>\n",
       "      <td>0x514910771af9ca656af840dff83e8264ecf986ca</td>\n",
       "      <td>0x3</td>\n",
       "      <td>0x0</td>\n",
       "      <td>0x0</td>\n",
       "      <td>0x1</td>\n",
       "      <td>0x26</td>\n",
       "      <td>0xac3f263b50eb8bfd02e9a6644fedaff5ef061f8a55af...</td>\n",
       "      <td>0x31b627cf6572112c4cecced592c180c01cbcbd86509a...</td>\n",
       "      <td>NaN</td>\n",
       "      <td>NaN</td>\n",
       "      <td>NaN</td>\n",
       "      <td>0x5f31c6ae</td>\n",
       "    </tr>\n",
       "    <tr>\n",
       "      <th>4</th>\n",
       "      <td>0x8af16d2d93c55b37f631b856345037cb88f3f6a9f5f8...</td>\n",
       "      <td>0xa2464b</td>\n",
       "      <td>0x274f3c32c90517975e29dfc209a23f315c1e5fc7</td>\n",
       "      <td>0x55f0</td>\n",
       "      <td>0x1a3185c500</td>\n",
       "      <td>0x4c363a483f31f9de0eab65cece8cdb6a2208e0df73ed...</td>\n",
       "      <td>0x</td>\n",
       "      <td>0x65639</td>\n",
       "      <td>0xadfbe7ebca364a3a1616136cfd7e0ea3a34cd18b</td>\n",
       "      <td>0x4</td>\n",
       "      <td>0x1839f8e6a0664000</td>\n",
       "      <td>0x0</td>\n",
       "      <td>NaN</td>\n",
       "      <td>0x1c</td>\n",
       "      <td>0xa3eb9f2ef06455c24254736c7e17b3a9da870f4b1fa9...</td>\n",
       "      <td>0x25ba2d6130aa87054e6c4163e62ee8a69f26e531ac11...</td>\n",
       "      <td>NaN</td>\n",
       "      <td>NaN</td>\n",
       "      <td>NaN</td>\n",
       "      <td>0x5f31c6ae</td>\n",
       "    </tr>\n",
       "    <tr>\n",
       "      <th>...</th>\n",
       "      <td>...</td>\n",
       "      <td>...</td>\n",
       "      <td>...</td>\n",
       "      <td>...</td>\n",
       "      <td>...</td>\n",
       "      <td>...</td>\n",
       "      <td>...</td>\n",
       "      <td>...</td>\n",
       "      <td>...</td>\n",
       "      <td>...</td>\n",
       "      <td>...</td>\n",
       "      <td>...</td>\n",
       "      <td>...</td>\n",
       "      <td>...</td>\n",
       "      <td>...</td>\n",
       "      <td>...</td>\n",
       "      <td>...</td>\n",
       "      <td>...</td>\n",
       "      <td>...</td>\n",
       "      <td>...</td>\n",
       "    </tr>\n",
       "    <tr>\n",
       "      <th>549240</th>\n",
       "      <td>0x754ed7c430cb9fafcec0fc65eb81c9c2b03c794cf615...</td>\n",
       "      <td>0xcb9061</td>\n",
       "      <td>0x29663f6c9077147e091646a1571604fa39f809b4</td>\n",
       "      <td>0x29810</td>\n",
       "      <td>0xff11a8eb9</td>\n",
       "      <td>0xa4a4c6c75640d027772d30a1f1c60b641e1f1546c5d8...</td>\n",
       "      <td>0xb1a1a882000000000000000000000000000000000000...</td>\n",
       "      <td>0x0</td>\n",
       "      <td>0x99c9fc46f92e8a1c0dec1b1747d010903e884be1</td>\n",
       "      <td>0xf8</td>\n",
       "      <td>0x71afd498d0000</td>\n",
       "      <td>0x2</td>\n",
       "      <td>0x1</td>\n",
       "      <td>0x0</td>\n",
       "      <td>0x7d3b254eff0195bf9c1564c86b099c1548d8771958bf...</td>\n",
       "      <td>0x7273aec7117be57bb9b3da9a363c912c2c45b2b92b85...</td>\n",
       "      <td>0x102ecca184</td>\n",
       "      <td>0x4effffc0</td>\n",
       "      <td>[]</td>\n",
       "      <td>0x61588083</td>\n",
       "    </tr>\n",
       "    <tr>\n",
       "      <th>549241</th>\n",
       "      <td>0x754ed7c430cb9fafcec0fc65eb81c9c2b03c794cf615...</td>\n",
       "      <td>0xcb9061</td>\n",
       "      <td>0x6f98bb078bf780f92b4104dc2ee4ecc6fc107aa9</td>\n",
       "      <td>0x5208</td>\n",
       "      <td>0xff11a8eb9</td>\n",
       "      <td>0x1e7983e0854075cd4da7640cc85cbcea03e636f722d7...</td>\n",
       "      <td>0x</td>\n",
       "      <td>0x0</td>\n",
       "      <td>0xb8f185487c84375594c44273c1b76ff40290ae47</td>\n",
       "      <td>0xf9</td>\n",
       "      <td>0x11b7bd92c4e3c0</td>\n",
       "      <td>0x2</td>\n",
       "      <td>0x1</td>\n",
       "      <td>0x0</td>\n",
       "      <td>0x2fe94d91ddbb88edeb2d3d811a027ab498f7458cff38...</td>\n",
       "      <td>0x2aed79c81de5dd010aa8afac7079e920aa81874d7782...</td>\n",
       "      <td>0x102ecca184</td>\n",
       "      <td>0x4effffc0</td>\n",
       "      <td>[]</td>\n",
       "      <td>0x61588083</td>\n",
       "    </tr>\n",
       "    <tr>\n",
       "      <th>549242</th>\n",
       "      <td>0x754ed7c430cb9fafcec0fc65eb81c9c2b03c794cf615...</td>\n",
       "      <td>0xcb9061</td>\n",
       "      <td>0x12a8a0b4c8c3f448131b999d683b55c668c1bed0</td>\n",
       "      <td>0x1eb70</td>\n",
       "      <td>0xfddb558f9</td>\n",
       "      <td>0xf608732efb31afe499e9573de61bf2420658ab655a93...</td>\n",
       "      <td>0xf3bd629a54524943455241544f505300000000000000...</td>\n",
       "      <td>0x3</td>\n",
       "      <td>0x8edf0426c0b0d10b50d72eb3f0c40985438cdaab</td>\n",
       "      <td>0xfa</td>\n",
       "      <td>0x4db732547630000</td>\n",
       "      <td>0x2</td>\n",
       "      <td>0x1</td>\n",
       "      <td>0x0</td>\n",
       "      <td>0x88df667267798173a4a2fe64a379fab48b70ca9ed2b0...</td>\n",
       "      <td>0x6b1f8c33ddf6dae901a0e1c487f2abd9f4e742e7a942...</td>\n",
       "      <td>0x1ab09a8246</td>\n",
       "      <td>0x3b9aca00</td>\n",
       "      <td>[]</td>\n",
       "      <td>0x61588083</td>\n",
       "    </tr>\n",
       "    <tr>\n",
       "      <th>549243</th>\n",
       "      <td>0x754ed7c430cb9fafcec0fc65eb81c9c2b03c794cf615...</td>\n",
       "      <td>0xcb9061</td>\n",
       "      <td>0x44e58743f9855c9ba574b768e8efa0338a009e03</td>\n",
       "      <td>0xaee8</td>\n",
       "      <td>0xfddb558f9</td>\n",
       "      <td>0xa0e933347f83f0133bc3b6f5adc91fd870e0e9f2cb3e...</td>\n",
       "      <td>0x095ea7b30000000000000000000000001f2403da6a03...</td>\n",
       "      <td>0x91</td>\n",
       "      <td>0x3fcbe808d1f1a46764ab839b722beb16c48a80cb</td>\n",
       "      <td>0xfb</td>\n",
       "      <td>0x0</td>\n",
       "      <td>0x2</td>\n",
       "      <td>0x1</td>\n",
       "      <td>0x1</td>\n",
       "      <td>0x219fd63489709d992598acca74f7a5a95d2579d06799...</td>\n",
       "      <td>0x52a5ba8cd497b0b1faf7475db47e574b6145a7c156ac...</td>\n",
       "      <td>0x1ab09a8246</td>\n",
       "      <td>0x3b9aca00</td>\n",
       "      <td>[]</td>\n",
       "      <td>0x61588083</td>\n",
       "    </tr>\n",
       "    <tr>\n",
       "      <th>549244</th>\n",
       "      <td>0x754ed7c430cb9fafcec0fc65eb81c9c2b03c794cf615...</td>\n",
       "      <td>0xcb9061</td>\n",
       "      <td>0x2383eb9a26e7d5aa70eb6c31e9c8c6fc5664061b</td>\n",
       "      <td>0x53249</td>\n",
       "      <td>0xfddb558f9</td>\n",
       "      <td>0x13f82a6a02c5b77cb98e16b95ff73bc01c1f43f6e5f2...</td>\n",
       "      <td>0x4ce6931a0000000000000000000000003b3ee1931dc3...</td>\n",
       "      <td>0x1e</td>\n",
       "      <td>0xcda72070e455bb31c7690a170224ce43623d0b6f</td>\n",
       "      <td>0xfc</td>\n",
       "      <td>0x0</td>\n",
       "      <td>0x2</td>\n",
       "      <td>0x1</td>\n",
       "      <td>0x1</td>\n",
       "      <td>0x3e317e438b2705b27e2bf28274fdecd32df9767e09a0...</td>\n",
       "      <td>0x57ef068796675294eeb35b0314dfedaae625d05e23f9...</td>\n",
       "      <td>0x1092b74e1f</td>\n",
       "      <td>0x3b9aca00</td>\n",
       "      <td>[]</td>\n",
       "      <td>0x61588083</td>\n",
       "    </tr>\n",
       "  </tbody>\n",
       "</table>\n",
       "<p>549245 rows × 20 columns</p>\n",
       "</div>"
      ],
      "text/plain": [
       "                                                blockHash blockNumber  \\\n",
       "0       0x8af16d2d93c55b37f631b856345037cb88f3f6a9f5f8...    0xa2464b   \n",
       "1       0x8af16d2d93c55b37f631b856345037cb88f3f6a9f5f8...    0xa2464b   \n",
       "2       0x8af16d2d93c55b37f631b856345037cb88f3f6a9f5f8...    0xa2464b   \n",
       "3       0x8af16d2d93c55b37f631b856345037cb88f3f6a9f5f8...    0xa2464b   \n",
       "4       0x8af16d2d93c55b37f631b856345037cb88f3f6a9f5f8...    0xa2464b   \n",
       "...                                                   ...         ...   \n",
       "549240  0x754ed7c430cb9fafcec0fc65eb81c9c2b03c794cf615...    0xcb9061   \n",
       "549241  0x754ed7c430cb9fafcec0fc65eb81c9c2b03c794cf615...    0xcb9061   \n",
       "549242  0x754ed7c430cb9fafcec0fc65eb81c9c2b03c794cf615...    0xcb9061   \n",
       "549243  0x754ed7c430cb9fafcec0fc65eb81c9c2b03c794cf615...    0xcb9061   \n",
       "549244  0x754ed7c430cb9fafcec0fc65eb81c9c2b03c794cf615...    0xcb9061   \n",
       "\n",
       "                                              from      gas      gasPrice  \\\n",
       "0       0x2fb9e343a8a2c4c4bcd4670ce61a14afe762c661   0x5208  0x1d1a94a200   \n",
       "1       0x06fda5b767c8b6171045e6549aab369a9dea36fc  0x51de0  0x1c5066dc7c   \n",
       "2       0x00e43c0bfa2303310222e077ffa948bddf256848  0x2e3b4  0x1c5066d200   \n",
       "3       0xfbb1b73c4f0bda4f67dca266ce6ef42f520fbb98  0x249f0  0x1a3185c500   \n",
       "4       0x274f3c32c90517975e29dfc209a23f315c1e5fc7   0x55f0  0x1a3185c500   \n",
       "...                                            ...      ...           ...   \n",
       "549240  0x29663f6c9077147e091646a1571604fa39f809b4  0x29810   0xff11a8eb9   \n",
       "549241  0x6f98bb078bf780f92b4104dc2ee4ecc6fc107aa9   0x5208   0xff11a8eb9   \n",
       "549242  0x12a8a0b4c8c3f448131b999d683b55c668c1bed0  0x1eb70   0xfddb558f9   \n",
       "549243  0x44e58743f9855c9ba574b768e8efa0338a009e03   0xaee8   0xfddb558f9   \n",
       "549244  0x2383eb9a26e7d5aa70eb6c31e9c8c6fc5664061b  0x53249   0xfddb558f9   \n",
       "\n",
       "                                                     hash  \\\n",
       "0       0x377560e1d69b17d086d7b3924c50998718781d7e56ef...   \n",
       "1       0xa726b798fab86c4cda6a0afa3d9949d9059501a72558...   \n",
       "2       0xb20f892af8ea0f86557e55fd80985e54bf16e767a7a4...   \n",
       "3       0xe0c473717fcddf63076021c8c7ec6e233c7113b39242...   \n",
       "4       0x4c363a483f31f9de0eab65cece8cdb6a2208e0df73ed...   \n",
       "...                                                   ...   \n",
       "549240  0xa4a4c6c75640d027772d30a1f1c60b641e1f1546c5d8...   \n",
       "549241  0x1e7983e0854075cd4da7640cc85cbcea03e636f722d7...   \n",
       "549242  0xf608732efb31afe499e9573de61bf2420658ab655a93...   \n",
       "549243  0xa0e933347f83f0133bc3b6f5adc91fd870e0e9f2cb3e...   \n",
       "549244  0x13f82a6a02c5b77cb98e16b95ff73bc01c1f43f6e5f2...   \n",
       "\n",
       "                                                    input     nonce  \\\n",
       "0                                                      0x      0xcb   \n",
       "1       0x000000d7000000000000000000000000000000000000...    0x5c61   \n",
       "2       0x8201aa3f000000000000000000000000c02aaa39b223...    0x36ee   \n",
       "3       0xa9059cbb00000000000000000000000072aafba75261...  0x8df9d3   \n",
       "4                                                      0x   0x65639   \n",
       "...                                                   ...       ...   \n",
       "549240  0xb1a1a882000000000000000000000000000000000000...       0x0   \n",
       "549241                                                 0x       0x0   \n",
       "549242  0xf3bd629a54524943455241544f505300000000000000...       0x3   \n",
       "549243  0x095ea7b30000000000000000000000001f2403da6a03...      0x91   \n",
       "549244  0x4ce6931a0000000000000000000000003b3ee1931dc3...      0x1e   \n",
       "\n",
       "                                                to transactionIndex  \\\n",
       "0       0x42b210355761a5e13b20e28a9b31b96d497711c3              0x0   \n",
       "1       0x7b2ef92fdecdf4a156365eb78c9e92b44588fe84              0x1   \n",
       "2       0x1be21dd1fa2aced16656b7d765b88afa6853cc98              0x2   \n",
       "3       0x514910771af9ca656af840dff83e8264ecf986ca              0x3   \n",
       "4       0xadfbe7ebca364a3a1616136cfd7e0ea3a34cd18b              0x4   \n",
       "...                                            ...              ...   \n",
       "549240  0x99c9fc46f92e8a1c0dec1b1747d010903e884be1             0xf8   \n",
       "549241  0xb8f185487c84375594c44273c1b76ff40290ae47             0xf9   \n",
       "549242  0x8edf0426c0b0d10b50d72eb3f0c40985438cdaab             0xfa   \n",
       "549243  0x3fcbe808d1f1a46764ab839b722beb16c48a80cb             0xfb   \n",
       "549244  0xcda72070e455bb31c7690a170224ce43623d0b6f             0xfc   \n",
       "\n",
       "                     value type chainId     v  \\\n",
       "0        0x1b4fbd92b5f8000  0x0     0x1  0x25   \n",
       "1                      0x0  0x0     0x1  0x26   \n",
       "2                      0x0  0x0     0x1  0x26   \n",
       "3                      0x0  0x0     0x1  0x26   \n",
       "4       0x1839f8e6a0664000  0x0     NaN  0x1c   \n",
       "...                    ...  ...     ...   ...   \n",
       "549240     0x71afd498d0000  0x2     0x1   0x0   \n",
       "549241    0x11b7bd92c4e3c0  0x2     0x1   0x0   \n",
       "549242   0x4db732547630000  0x2     0x1   0x0   \n",
       "549243                 0x0  0x2     0x1   0x1   \n",
       "549244                 0x0  0x2     0x1   0x1   \n",
       "\n",
       "                                                        r  \\\n",
       "0       0x80b0bc1f55d15255088c15d5b78b29f260372b5c90e2...   \n",
       "1       0x9fcf2ce42c2eb45f50d26257ade0fe03081ba0451d78...   \n",
       "2       0x152fc0f9e5e5f1e8aa31bfc8d1f9abe300ae98ef38f5...   \n",
       "3       0xac3f263b50eb8bfd02e9a6644fedaff5ef061f8a55af...   \n",
       "4       0xa3eb9f2ef06455c24254736c7e17b3a9da870f4b1fa9...   \n",
       "...                                                   ...   \n",
       "549240  0x7d3b254eff0195bf9c1564c86b099c1548d8771958bf...   \n",
       "549241  0x2fe94d91ddbb88edeb2d3d811a027ab498f7458cff38...   \n",
       "549242  0x88df667267798173a4a2fe64a379fab48b70ca9ed2b0...   \n",
       "549243  0x219fd63489709d992598acca74f7a5a95d2579d06799...   \n",
       "549244  0x3e317e438b2705b27e2bf28274fdecd32df9767e09a0...   \n",
       "\n",
       "                                                        s  maxFeePerGas  \\\n",
       "0       0x4c540873de0a6c48e543f55e54cc33f61bc79cf53565...           NaN   \n",
       "1       0x23a1842b31492bce8dbe3da137f1b75176949ae458ba...           NaN   \n",
       "2       0x584c73e08d357cd2d1921c50fb81dcb94e3e22447a0c...           NaN   \n",
       "3       0x31b627cf6572112c4cecced592c180c01cbcbd86509a...           NaN   \n",
       "4       0x25ba2d6130aa87054e6c4163e62ee8a69f26e531ac11...           NaN   \n",
       "...                                                   ...           ...   \n",
       "549240  0x7273aec7117be57bb9b3da9a363c912c2c45b2b92b85...  0x102ecca184   \n",
       "549241  0x2aed79c81de5dd010aa8afac7079e920aa81874d7782...  0x102ecca184   \n",
       "549242  0x6b1f8c33ddf6dae901a0e1c487f2abd9f4e742e7a942...  0x1ab09a8246   \n",
       "549243  0x52a5ba8cd497b0b1faf7475db47e574b6145a7c156ac...  0x1ab09a8246   \n",
       "549244  0x57ef068796675294eeb35b0314dfedaae625d05e23f9...  0x1092b74e1f   \n",
       "\n",
       "       maxPriorityFeePerGas accessList   timeStamp  \n",
       "0                       NaN        NaN  0x5f31c6ae  \n",
       "1                       NaN        NaN  0x5f31c6ae  \n",
       "2                       NaN        NaN  0x5f31c6ae  \n",
       "3                       NaN        NaN  0x5f31c6ae  \n",
       "4                       NaN        NaN  0x5f31c6ae  \n",
       "...                     ...        ...         ...  \n",
       "549240           0x4effffc0         []  0x61588083  \n",
       "549241           0x4effffc0         []  0x61588083  \n",
       "549242           0x3b9aca00         []  0x61588083  \n",
       "549243           0x3b9aca00         []  0x61588083  \n",
       "549244           0x3b9aca00         []  0x61588083  \n",
       "\n",
       "[549245 rows x 20 columns]"
      ]
     },
     "execution_count": 7,
     "metadata": {},
     "output_type": "execute_result"
    }
   ],
   "source": [
    "#legal_txs_df = pd.DataFrame(legal_txs_list)\n",
    "#legal_txs_df['timeStamp'] = block_timestamp_list\n",
    "#legal_txs_df.to_csv('all_legal_transactions_v3_timestamps')\n",
    "legal_txs = pd.read_csv('all_legal_transactions_v3_timestamps.csv', index_col=0)\n",
    "legal_txs "
   ]
  },
  {
   "cell_type": "markdown",
   "id": "ac81f504-4a4f-4d02-a3b4-3431e11ab9d8",
   "metadata": {},
   "source": [
    "### Data Wrangling"
   ]
  },
  {
   "cell_type": "code",
   "execution_count": 8,
   "id": "a2b83e73-808e-45a6-aab9-c1017279b183",
   "metadata": {},
   "outputs": [
    {
     "data": {
      "text/plain": [
       "420379"
      ]
     },
     "execution_count": 8,
     "metadata": {},
     "output_type": "execute_result"
    }
   ],
   "source": [
    "#Merge Dataframes & Drop Common Rows\n",
    "#Ensure no overlap with illicit transactions \n",
    "res = pd.merge(illicit_txs['hash'],legal_txs['hash'], indicator=True, how='outer').query('_merge==\"left_only\"').drop('_merge', axis=1)\n",
    "len(res)"
   ]
  },
  {
   "cell_type": "code",
   "execution_count": 9,
   "id": "a5298831-8ee7-454c-a34e-6258fc77bcac",
   "metadata": {},
   "outputs": [
    {
     "name": "stderr",
     "output_type": "stream",
     "text": [
      "/var/folders/2f/_dm57pgd7m7fnb0xgm506pbr0000gn/T/ipykernel_56033/2073901199.py:16: SettingWithCopyWarning: \n",
      "A value is trying to be set on a copy of a slice from a DataFrame.\n",
      "Try using .loc[row_indexer,col_indexer] = value instead\n",
      "\n",
      "See the caveats in the documentation: https://pandas.pydata.org/pandas-docs/stable/user_guide/indexing.html#returning-a-view-versus-a-copy\n",
      "  illicit_txs_trimmed['input'] = new_input\n",
      "/var/folders/2f/_dm57pgd7m7fnb0xgm506pbr0000gn/T/ipykernel_56033/2073901199.py:23: SettingWithCopyWarning: \n",
      "A value is trying to be set on a copy of a slice from a DataFrame.\n",
      "Try using .loc[row_indexer,col_indexer] = value instead\n",
      "\n",
      "See the caveats in the documentation: https://pandas.pydata.org/pandas-docs/stable/user_guide/indexing.html#returning-a-view-versus-a-copy\n",
      "  illicit_txs_trimmed['value'] = new_value\n"
     ]
    },
    {
     "data": {
      "text/html": [
       "<div>\n",
       "<style scoped>\n",
       "    .dataframe tbody tr th:only-of-type {\n",
       "        vertical-align: middle;\n",
       "    }\n",
       "\n",
       "    .dataframe tbody tr th {\n",
       "        vertical-align: top;\n",
       "    }\n",
       "\n",
       "    .dataframe thead th {\n",
       "        text-align: right;\n",
       "    }\n",
       "</style>\n",
       "<table border=\"1\" class=\"dataframe\">\n",
       "  <thead>\n",
       "    <tr style=\"text-align: right;\">\n",
       "      <th></th>\n",
       "      <th>hash</th>\n",
       "      <th>FLAG</th>\n",
       "      <th>timeStamp</th>\n",
       "      <th>nonce</th>\n",
       "      <th>value</th>\n",
       "      <th>gas</th>\n",
       "      <th>gasPrice</th>\n",
       "      <th>input</th>\n",
       "      <th>transactionIndex</th>\n",
       "    </tr>\n",
       "  </thead>\n",
       "  <tbody>\n",
       "    <tr>\n",
       "      <th>0</th>\n",
       "      <td>0x715a6e6551972d0700b8c0e0847fdd6bf012cf855208...</td>\n",
       "      <td>1</td>\n",
       "      <td>1677158939</td>\n",
       "      <td>1514</td>\n",
       "      <td>0.002</td>\n",
       "      <td>500000</td>\n",
       "      <td>31288047698</td>\n",
       "      <td>0</td>\n",
       "      <td>19</td>\n",
       "    </tr>\n",
       "    <tr>\n",
       "      <th>1</th>\n",
       "      <td>0x30c327125e3b39f28f2c78121fc4a875b55df6fc7c86...</td>\n",
       "      <td>1</td>\n",
       "      <td>1677158963</td>\n",
       "      <td>0</td>\n",
       "      <td>0.000</td>\n",
       "      <td>48561</td>\n",
       "      <td>28354303421</td>\n",
       "      <td>1</td>\n",
       "      <td>138</td>\n",
       "    </tr>\n",
       "    <tr>\n",
       "      <th>2</th>\n",
       "      <td>0x86f6ab03fb44f386bd4f4a4aed67a3d926d94269f2f2...</td>\n",
       "      <td>1</td>\n",
       "      <td>1533070589</td>\n",
       "      <td>0</td>\n",
       "      <td>0.559</td>\n",
       "      <td>21000</td>\n",
       "      <td>2000000000</td>\n",
       "      <td>0</td>\n",
       "      <td>27</td>\n",
       "    </tr>\n",
       "    <tr>\n",
       "      <th>3</th>\n",
       "      <td>0xe71cf9ede645595a4e025c5eb3de56a49713d3a3078f...</td>\n",
       "      <td>1</td>\n",
       "      <td>1533150153</td>\n",
       "      <td>0</td>\n",
       "      <td>0.551</td>\n",
       "      <td>21000</td>\n",
       "      <td>41000000000</td>\n",
       "      <td>0</td>\n",
       "      <td>3</td>\n",
       "    </tr>\n",
       "    <tr>\n",
       "      <th>4</th>\n",
       "      <td>0x1e79122507e9c17e57ed20795d22ee1527620fea0eac...</td>\n",
       "      <td>1</td>\n",
       "      <td>1533353315</td>\n",
       "      <td>462695</td>\n",
       "      <td>0.704</td>\n",
       "      <td>90000</td>\n",
       "      <td>22000000000</td>\n",
       "      <td>0</td>\n",
       "      <td>20</td>\n",
       "    </tr>\n",
       "    <tr>\n",
       "      <th>...</th>\n",
       "      <td>...</td>\n",
       "      <td>...</td>\n",
       "      <td>...</td>\n",
       "      <td>...</td>\n",
       "      <td>...</td>\n",
       "      <td>...</td>\n",
       "      <td>...</td>\n",
       "      <td>...</td>\n",
       "      <td>...</td>\n",
       "    </tr>\n",
       "    <tr>\n",
       "      <th>420479</th>\n",
       "      <td>0xe984ee7bf18fc7304a0ecf826f98284767aea726d263...</td>\n",
       "      <td>1</td>\n",
       "      <td>1539184605</td>\n",
       "      <td>10</td>\n",
       "      <td>0.000</td>\n",
       "      <td>250000</td>\n",
       "      <td>25000000000</td>\n",
       "      <td>1</td>\n",
       "      <td>6</td>\n",
       "    </tr>\n",
       "    <tr>\n",
       "      <th>420480</th>\n",
       "      <td>0x5573ea11a589291615a65e1d0fe807d63c8be0e42868...</td>\n",
       "      <td>1</td>\n",
       "      <td>1539184686</td>\n",
       "      <td>11</td>\n",
       "      <td>0.000</td>\n",
       "      <td>250000</td>\n",
       "      <td>25000000000</td>\n",
       "      <td>1</td>\n",
       "      <td>67</td>\n",
       "    </tr>\n",
       "    <tr>\n",
       "      <th>420481</th>\n",
       "      <td>0x54e9cf918fe07fd2b46e9b9443b0ac700a51c2925d1c...</td>\n",
       "      <td>1</td>\n",
       "      <td>1539186777</td>\n",
       "      <td>12</td>\n",
       "      <td>4.941</td>\n",
       "      <td>21000</td>\n",
       "      <td>99000000000</td>\n",
       "      <td>0</td>\n",
       "      <td>3</td>\n",
       "    </tr>\n",
       "    <tr>\n",
       "      <th>420482</th>\n",
       "      <td>0x8171ca4caad8fd06a70a406f55c1d651583e1a1e7b8a...</td>\n",
       "      <td>1</td>\n",
       "      <td>1677152963</td>\n",
       "      <td>750</td>\n",
       "      <td>0.002</td>\n",
       "      <td>500000</td>\n",
       "      <td>33980315579</td>\n",
       "      <td>0</td>\n",
       "      <td>42</td>\n",
       "    </tr>\n",
       "    <tr>\n",
       "      <th>420483</th>\n",
       "      <td>0x4525f0a8e435c11555e9b8f91cf0a45d3bfaf3ce5589...</td>\n",
       "      <td>1</td>\n",
       "      <td>1677152987</td>\n",
       "      <td>0</td>\n",
       "      <td>0.000</td>\n",
       "      <td>48561</td>\n",
       "      <td>31066902120</td>\n",
       "      <td>1</td>\n",
       "      <td>144</td>\n",
       "    </tr>\n",
       "  </tbody>\n",
       "</table>\n",
       "<p>420484 rows × 9 columns</p>\n",
       "</div>"
      ],
      "text/plain": [
       "                                                     hash  FLAG   timeStamp  \\\n",
       "0       0x715a6e6551972d0700b8c0e0847fdd6bf012cf855208...     1  1677158939   \n",
       "1       0x30c327125e3b39f28f2c78121fc4a875b55df6fc7c86...     1  1677158963   \n",
       "2       0x86f6ab03fb44f386bd4f4a4aed67a3d926d94269f2f2...     1  1533070589   \n",
       "3       0xe71cf9ede645595a4e025c5eb3de56a49713d3a3078f...     1  1533150153   \n",
       "4       0x1e79122507e9c17e57ed20795d22ee1527620fea0eac...     1  1533353315   \n",
       "...                                                   ...   ...         ...   \n",
       "420479  0xe984ee7bf18fc7304a0ecf826f98284767aea726d263...     1  1539184605   \n",
       "420480  0x5573ea11a589291615a65e1d0fe807d63c8be0e42868...     1  1539184686   \n",
       "420481  0x54e9cf918fe07fd2b46e9b9443b0ac700a51c2925d1c...     1  1539186777   \n",
       "420482  0x8171ca4caad8fd06a70a406f55c1d651583e1a1e7b8a...     1  1677152963   \n",
       "420483  0x4525f0a8e435c11555e9b8f91cf0a45d3bfaf3ce5589...     1  1677152987   \n",
       "\n",
       "         nonce  value     gas     gasPrice  input  transactionIndex  \n",
       "0         1514  0.002  500000  31288047698      0                19  \n",
       "1            0  0.000   48561  28354303421      1               138  \n",
       "2            0  0.559   21000   2000000000      0                27  \n",
       "3            0  0.551   21000  41000000000      0                 3  \n",
       "4       462695  0.704   90000  22000000000      0                20  \n",
       "...        ...    ...     ...          ...    ...               ...  \n",
       "420479      10  0.000  250000  25000000000      1                 6  \n",
       "420480      11  0.000  250000  25000000000      1                67  \n",
       "420481      12  4.941   21000  99000000000      0                 3  \n",
       "420482     750  0.002  500000  33980315579      0                42  \n",
       "420483       0  0.000   48561  31066902120      1               144  \n",
       "\n",
       "[420484 rows x 9 columns]"
      ]
     },
     "execution_count": 9,
     "metadata": {},
     "output_type": "execute_result"
    },
    {
     "name": "stderr",
     "output_type": "stream",
     "text": [
      "/var/folders/2f/_dm57pgd7m7fnb0xgm506pbr0000gn/T/ipykernel_56033/2073901199.py:48: SettingWithCopyWarning: \n",
      "A value is trying to be set on a copy of a slice from a DataFrame.\n",
      "Try using .loc[row_indexer,col_indexer] = value instead\n",
      "\n",
      "See the caveats in the documentation: https://pandas.pydata.org/pandas-docs/stable/user_guide/indexing.html#returning-a-view-versus-a-copy\n",
      "  illicit_txs_trimmed['nonce'] = illicit_txs_trimmed['nonce'].astype(int)\n",
      "/var/folders/2f/_dm57pgd7m7fnb0xgm506pbr0000gn/T/ipykernel_56033/2073901199.py:49: SettingWithCopyWarning: \n",
      "A value is trying to be set on a copy of a slice from a DataFrame.\n",
      "Try using .loc[row_indexer,col_indexer] = value instead\n",
      "\n",
      "See the caveats in the documentation: https://pandas.pydata.org/pandas-docs/stable/user_guide/indexing.html#returning-a-view-versus-a-copy\n",
      "  illicit_txs_trimmed['gas'] = illicit_txs_trimmed['gas'].astype(int)\n",
      "/var/folders/2f/_dm57pgd7m7fnb0xgm506pbr0000gn/T/ipykernel_56033/2073901199.py:50: SettingWithCopyWarning: \n",
      "A value is trying to be set on a copy of a slice from a DataFrame.\n",
      "Try using .loc[row_indexer,col_indexer] = value instead\n",
      "\n",
      "See the caveats in the documentation: https://pandas.pydata.org/pandas-docs/stable/user_guide/indexing.html#returning-a-view-versus-a-copy\n",
      "  illicit_txs_trimmed['gasPrice'] = illicit_txs_trimmed['gasPrice'].astype(int)\n",
      "/var/folders/2f/_dm57pgd7m7fnb0xgm506pbr0000gn/T/ipykernel_56033/2073901199.py:51: SettingWithCopyWarning: \n",
      "A value is trying to be set on a copy of a slice from a DataFrame.\n",
      "Try using .loc[row_indexer,col_indexer] = value instead\n",
      "\n",
      "See the caveats in the documentation: https://pandas.pydata.org/pandas-docs/stable/user_guide/indexing.html#returning-a-view-versus-a-copy\n",
      "  illicit_txs_trimmed['transactionIndex'] = illicit_txs_trimmed['transactionIndex'].astype(int)\n"
     ]
    },
    {
     "data": {
      "text/html": [
       "<div>\n",
       "<style scoped>\n",
       "    .dataframe tbody tr th:only-of-type {\n",
       "        vertical-align: middle;\n",
       "    }\n",
       "\n",
       "    .dataframe tbody tr th {\n",
       "        vertical-align: top;\n",
       "    }\n",
       "\n",
       "    .dataframe thead th {\n",
       "        text-align: right;\n",
       "    }\n",
       "</style>\n",
       "<table border=\"1\" class=\"dataframe\">\n",
       "  <thead>\n",
       "    <tr style=\"text-align: right;\">\n",
       "      <th></th>\n",
       "      <th>hash</th>\n",
       "      <th>FLAG</th>\n",
       "      <th>timeStamp</th>\n",
       "      <th>nonce</th>\n",
       "      <th>value</th>\n",
       "      <th>gas</th>\n",
       "      <th>gasPrice</th>\n",
       "      <th>input</th>\n",
       "      <th>transactionIndex</th>\n",
       "    </tr>\n",
       "  </thead>\n",
       "  <tbody>\n",
       "    <tr>\n",
       "      <th>0</th>\n",
       "      <td>0x377560e1d69b17d086d7b3924c50998718781d7e56ef...</td>\n",
       "      <td>0</td>\n",
       "      <td>1597097646</td>\n",
       "      <td>203</td>\n",
       "      <td>0.123</td>\n",
       "      <td>21000</td>\n",
       "      <td>125000000000</td>\n",
       "      <td>0</td>\n",
       "      <td>0</td>\n",
       "    </tr>\n",
       "    <tr>\n",
       "      <th>1</th>\n",
       "      <td>0xa726b798fab86c4cda6a0afa3d9949d9059501a72558...</td>\n",
       "      <td>0</td>\n",
       "      <td>1597097646</td>\n",
       "      <td>23649</td>\n",
       "      <td>0.000</td>\n",
       "      <td>335328</td>\n",
       "      <td>121608002684</td>\n",
       "      <td>1</td>\n",
       "      <td>1</td>\n",
       "    </tr>\n",
       "    <tr>\n",
       "      <th>2</th>\n",
       "      <td>0xb20f892af8ea0f86557e55fd80985e54bf16e767a7a4...</td>\n",
       "      <td>0</td>\n",
       "      <td>1597097646</td>\n",
       "      <td>14062</td>\n",
       "      <td>0.000</td>\n",
       "      <td>189364</td>\n",
       "      <td>121608000000</td>\n",
       "      <td>1</td>\n",
       "      <td>2</td>\n",
       "    </tr>\n",
       "    <tr>\n",
       "      <th>3</th>\n",
       "      <td>0xe0c473717fcddf63076021c8c7ec6e233c7113b39242...</td>\n",
       "      <td>0</td>\n",
       "      <td>1597097646</td>\n",
       "      <td>9304531</td>\n",
       "      <td>0.000</td>\n",
       "      <td>150000</td>\n",
       "      <td>112500000000</td>\n",
       "      <td>1</td>\n",
       "      <td>3</td>\n",
       "    </tr>\n",
       "    <tr>\n",
       "      <th>4</th>\n",
       "      <td>0x4c363a483f31f9de0eab65cece8cdb6a2208e0df73ed...</td>\n",
       "      <td>0</td>\n",
       "      <td>1597097646</td>\n",
       "      <td>415289</td>\n",
       "      <td>1.746</td>\n",
       "      <td>22000</td>\n",
       "      <td>112500000000</td>\n",
       "      <td>0</td>\n",
       "      <td>4</td>\n",
       "    </tr>\n",
       "    <tr>\n",
       "      <th>...</th>\n",
       "      <td>...</td>\n",
       "      <td>...</td>\n",
       "      <td>...</td>\n",
       "      <td>...</td>\n",
       "      <td>...</td>\n",
       "      <td>...</td>\n",
       "      <td>...</td>\n",
       "      <td>...</td>\n",
       "      <td>...</td>\n",
       "    </tr>\n",
       "    <tr>\n",
       "      <th>419995</th>\n",
       "      <td>0x89610e9ef69f567261452e8471030a4a90ff6d2bd567...</td>\n",
       "      <td>0</td>\n",
       "      <td>1572110993</td>\n",
       "      <td>96587</td>\n",
       "      <td>0.000</td>\n",
       "      <td>100000</td>\n",
       "      <td>22000000000</td>\n",
       "      <td>1</td>\n",
       "      <td>2</td>\n",
       "    </tr>\n",
       "    <tr>\n",
       "      <th>419996</th>\n",
       "      <td>0xd1571a2e1cd96094918452480b0bb231e89e3cbade3c...</td>\n",
       "      <td>0</td>\n",
       "      <td>1572110993</td>\n",
       "      <td>96588</td>\n",
       "      <td>0.000</td>\n",
       "      <td>100000</td>\n",
       "      <td>22000000000</td>\n",
       "      <td>1</td>\n",
       "      <td>3</td>\n",
       "    </tr>\n",
       "    <tr>\n",
       "      <th>419997</th>\n",
       "      <td>0x22bcaab963fbdbe6ba3e33139f3d4abf789b5f16bdaf...</td>\n",
       "      <td>0</td>\n",
       "      <td>1572110993</td>\n",
       "      <td>96589</td>\n",
       "      <td>0.000</td>\n",
       "      <td>100000</td>\n",
       "      <td>22000000000</td>\n",
       "      <td>1</td>\n",
       "      <td>4</td>\n",
       "    </tr>\n",
       "    <tr>\n",
       "      <th>419998</th>\n",
       "      <td>0x52d3a4eb5f36e63438101d2600056464cd72a85c7ab9...</td>\n",
       "      <td>0</td>\n",
       "      <td>1572110993</td>\n",
       "      <td>96590</td>\n",
       "      <td>0.000</td>\n",
       "      <td>100000</td>\n",
       "      <td>22000000000</td>\n",
       "      <td>1</td>\n",
       "      <td>5</td>\n",
       "    </tr>\n",
       "    <tr>\n",
       "      <th>419999</th>\n",
       "      <td>0x70b1abedf405ca4bb52258be6d841d5fbdf5481b007c...</td>\n",
       "      <td>0</td>\n",
       "      <td>1572110993</td>\n",
       "      <td>96591</td>\n",
       "      <td>0.000</td>\n",
       "      <td>100000</td>\n",
       "      <td>22000000000</td>\n",
       "      <td>1</td>\n",
       "      <td>6</td>\n",
       "    </tr>\n",
       "  </tbody>\n",
       "</table>\n",
       "<p>420000 rows × 9 columns</p>\n",
       "</div>"
      ],
      "text/plain": [
       "                                                     hash  FLAG   timeStamp  \\\n",
       "0       0x377560e1d69b17d086d7b3924c50998718781d7e56ef...     0  1597097646   \n",
       "1       0xa726b798fab86c4cda6a0afa3d9949d9059501a72558...     0  1597097646   \n",
       "2       0xb20f892af8ea0f86557e55fd80985e54bf16e767a7a4...     0  1597097646   \n",
       "3       0xe0c473717fcddf63076021c8c7ec6e233c7113b39242...     0  1597097646   \n",
       "4       0x4c363a483f31f9de0eab65cece8cdb6a2208e0df73ed...     0  1597097646   \n",
       "...                                                   ...   ...         ...   \n",
       "419995  0x89610e9ef69f567261452e8471030a4a90ff6d2bd567...     0  1572110993   \n",
       "419996  0xd1571a2e1cd96094918452480b0bb231e89e3cbade3c...     0  1572110993   \n",
       "419997  0x22bcaab963fbdbe6ba3e33139f3d4abf789b5f16bdaf...     0  1572110993   \n",
       "419998  0x52d3a4eb5f36e63438101d2600056464cd72a85c7ab9...     0  1572110993   \n",
       "419999  0x70b1abedf405ca4bb52258be6d841d5fbdf5481b007c...     0  1572110993   \n",
       "\n",
       "          nonce  value     gas      gasPrice  input  transactionIndex  \n",
       "0           203  0.123   21000  125000000000      0                 0  \n",
       "1         23649  0.000  335328  121608002684      1                 1  \n",
       "2         14062  0.000  189364  121608000000      1                 2  \n",
       "3       9304531  0.000  150000  112500000000      1                 3  \n",
       "4        415289  1.746   22000  112500000000      0                 4  \n",
       "...         ...    ...     ...           ...    ...               ...  \n",
       "419995    96587  0.000  100000   22000000000      1                 2  \n",
       "419996    96588  0.000  100000   22000000000      1                 3  \n",
       "419997    96589  0.000  100000   22000000000      1                 4  \n",
       "419998    96590  0.000  100000   22000000000      1                 5  \n",
       "419999    96591  0.000  100000   22000000000      1                 6  \n",
       "\n",
       "[420000 rows x 9 columns]"
      ]
     },
     "execution_count": 9,
     "metadata": {},
     "output_type": "execute_result"
    }
   ],
   "source": [
    "illicit_txs['FLAG'] = 1\n",
    "legal_txs['FLAG'] = 0\n",
    "\n",
    "illicit_txs_trimmed = illicit_txs[['hash', 'FLAG','timeStamp','nonce', 'value', 'gas', 'gasPrice', 'input', 'transactionIndex']]\n",
    "legal_txs_trimmed = legal_txs[['hash', 'FLAG','timeStamp','nonce', 'value', 'gas', 'gasPrice', 'input', 'transactionIndex']]\n",
    "legal_txs_trimmed = legal_txs_trimmed[:420000]\n",
    "#Clean Illicit \n",
    "#Convert Input Field into Binary Denoting Whether or Not there was Input Data\n",
    "new_input = []\n",
    "for i in illicit_txs_trimmed['input']:\n",
    "    if i == '0x':\n",
    "        new_input.append(0)\n",
    "    else:\n",
    "        new_input.append(1)\n",
    "        \n",
    "illicit_txs_trimmed['input'] = new_input\n",
    "\n",
    "#Convert Value Field from Wei to Ethereum\n",
    "new_value = []\n",
    "for i in illicit_txs_trimmed['value']:\n",
    "    new_value.append(cf.wei_converter(int(i)))\n",
    "\n",
    "illicit_txs_trimmed['value'] = new_value\n",
    "\n",
    "#Clean Legal\n",
    "#Convert Input Field into Binary Denoting Whether or Not there was Input Data\n",
    "new_input = []\n",
    "for i in legal_txs_trimmed['input']:\n",
    "    if i == '0x':\n",
    "        new_input.append(0)\n",
    "    else:\n",
    "        new_input.append(1)\n",
    "        \n",
    "legal_txs_trimmed['input'] = new_input\n",
    "\n",
    "#Convert Hexadecimal into Decimals\n",
    "legal_txs_trimmed['nonce'] = [int(i,16) for i in legal_txs_trimmed['nonce']]\n",
    "legal_txs_trimmed['value'] = [int(i,16) for i in legal_txs_trimmed['value']]\n",
    "legal_txs_trimmed['gas'] = [int(i,16) for i in legal_txs_trimmed['gas']]\n",
    "legal_txs_trimmed['gasPrice'] = [int(i,16) for i in legal_txs_trimmed['gasPrice']]\n",
    "legal_txs_trimmed['transactionIndex'] = [int(i,16) for i in legal_txs_trimmed['transactionIndex']]\n",
    "legal_txs_trimmed['timeStamp'] = [int(i,16) for i in legal_txs_trimmed['timeStamp']]\n",
    "\n",
    "##Convert Value Field from Wei to Ethereum\n",
    "legal_txs_trimmed['value'] = [cf.wei_converter(i) for i in legal_txs_trimmed['value']]\n",
    "\n",
    "illicit_txs_trimmed\n",
    "illicit_txs_trimmed['nonce'] = illicit_txs_trimmed['nonce'].astype(int)\n",
    "illicit_txs_trimmed['gas'] = illicit_txs_trimmed['gas'].astype(int)\n",
    "illicit_txs_trimmed['gasPrice'] = illicit_txs_trimmed['gasPrice'].astype(int)\n",
    "illicit_txs_trimmed['transactionIndex'] = illicit_txs_trimmed['transactionIndex'].astype(int)\n",
    "\n",
    "legal_txs_trimmed\n",
    "legal_txs_trimmed['nonce'] = legal_txs_trimmed['nonce'].astype(int)\n",
    "legal_txs_trimmed['gas'] = legal_txs_trimmed['gas'].astype(int)\n",
    "legal_txs_trimmed['gasPrice'] = legal_txs_trimmed['gasPrice'].astype(int)\n",
    "legal_txs_trimmed['transactionIndex'] = legal_txs_trimmed['transactionIndex'].astype(int)"
   ]
  },
  {
   "cell_type": "code",
   "execution_count": 10,
   "id": "d2de7f64-95ce-4370-98b8-304ed2220d70",
   "metadata": {},
   "outputs": [
    {
     "data": {
      "text/plain": [
       "840484"
      ]
     },
     "execution_count": 10,
     "metadata": {},
     "output_type": "execute_result"
    },
    {
     "data": {
      "text/plain": [
       "hash                 object\n",
       "FLAG                  int64\n",
       "timeStamp             int64\n",
       "nonce                 int64\n",
       "value               float64\n",
       "gas                   int64\n",
       "gasPrice              int64\n",
       "input                 int64\n",
       "transactionIndex      int64\n",
       "dtype: object"
      ]
     },
     "execution_count": 10,
     "metadata": {},
     "output_type": "execute_result"
    },
    {
     "data": {
      "text/plain": [
       "hash                 object\n",
       "FLAG                  int64\n",
       "timeStamp             int64\n",
       "nonce                 int64\n",
       "value               float64\n",
       "gas                   int64\n",
       "gasPrice              int64\n",
       "input                 int64\n",
       "transactionIndex      int64\n",
       "dtype: object"
      ]
     },
     "execution_count": 10,
     "metadata": {},
     "output_type": "execute_result"
    }
   ],
   "source": [
    "dfs = [illicit_txs_trimmed, legal_txs_trimmed]\n",
    "all_transactions = pd.concat(dfs)\n",
    "len(all_transactions)\n",
    "all_transactions.dtypes\n",
    "all_transactions['nonce'] = all_transactions['nonce'].astype(int)\n",
    "all_transactions['gas'] = all_transactions['gas'].astype(int)\n",
    "all_transactions['gasPrice'] = all_transactions['gasPrice'].astype(int)\n",
    "all_transactions['transactionIndex'] = all_transactions['transactionIndex'].astype(int)\n",
    "all_transactions.dtypes"
   ]
  },
  {
   "cell_type": "markdown",
   "id": "f78bd881-1f0f-43d8-99b4-033aa4e1b917",
   "metadata": {},
   "source": [
    "### Train Ether Transaction-Based Model"
   ]
  },
  {
   "cell_type": "code",
   "execution_count": 11,
   "id": "3d3ee534-6dbf-4f9a-aa42-a7b3b9b3ef06",
   "metadata": {},
   "outputs": [],
   "source": [
    "inital_column_drop = ['hash', 'FLAG']\n",
    "\n",
    "X=all_transactions.drop(columns=inital_column_drop)\n",
    "y=all_transactions['FLAG']\n",
    "X_train, X_test, y_train, y_test = train_test_split(X,y,test_size=0.30)"
   ]
  },
  {
   "cell_type": "code",
   "execution_count": 12,
   "id": "441a14c6-6948-47fc-bfb0-8824e76c33e4",
   "metadata": {},
   "outputs": [
    {
     "data": {
      "text/html": [
       "<style>#sk-container-id-1 {color: black;}#sk-container-id-1 pre{padding: 0;}#sk-container-id-1 div.sk-toggleable {background-color: white;}#sk-container-id-1 label.sk-toggleable__label {cursor: pointer;display: block;width: 100%;margin-bottom: 0;padding: 0.3em;box-sizing: border-box;text-align: center;}#sk-container-id-1 label.sk-toggleable__label-arrow:before {content: \"▸\";float: left;margin-right: 0.25em;color: #696969;}#sk-container-id-1 label.sk-toggleable__label-arrow:hover:before {color: black;}#sk-container-id-1 div.sk-estimator:hover label.sk-toggleable__label-arrow:before {color: black;}#sk-container-id-1 div.sk-toggleable__content {max-height: 0;max-width: 0;overflow: hidden;text-align: left;background-color: #f0f8ff;}#sk-container-id-1 div.sk-toggleable__content pre {margin: 0.2em;color: black;border-radius: 0.25em;background-color: #f0f8ff;}#sk-container-id-1 input.sk-toggleable__control:checked~div.sk-toggleable__content {max-height: 200px;max-width: 100%;overflow: auto;}#sk-container-id-1 input.sk-toggleable__control:checked~label.sk-toggleable__label-arrow:before {content: \"▾\";}#sk-container-id-1 div.sk-estimator input.sk-toggleable__control:checked~label.sk-toggleable__label {background-color: #d4ebff;}#sk-container-id-1 div.sk-label input.sk-toggleable__control:checked~label.sk-toggleable__label {background-color: #d4ebff;}#sk-container-id-1 input.sk-hidden--visually {border: 0;clip: rect(1px 1px 1px 1px);clip: rect(1px, 1px, 1px, 1px);height: 1px;margin: -1px;overflow: hidden;padding: 0;position: absolute;width: 1px;}#sk-container-id-1 div.sk-estimator {font-family: monospace;background-color: #f0f8ff;border: 1px dotted black;border-radius: 0.25em;box-sizing: border-box;margin-bottom: 0.5em;}#sk-container-id-1 div.sk-estimator:hover {background-color: #d4ebff;}#sk-container-id-1 div.sk-parallel-item::after {content: \"\";width: 100%;border-bottom: 1px solid gray;flex-grow: 1;}#sk-container-id-1 div.sk-label:hover label.sk-toggleable__label {background-color: #d4ebff;}#sk-container-id-1 div.sk-serial::before {content: \"\";position: absolute;border-left: 1px solid gray;box-sizing: border-box;top: 0;bottom: 0;left: 50%;z-index: 0;}#sk-container-id-1 div.sk-serial {display: flex;flex-direction: column;align-items: center;background-color: white;padding-right: 0.2em;padding-left: 0.2em;position: relative;}#sk-container-id-1 div.sk-item {position: relative;z-index: 1;}#sk-container-id-1 div.sk-parallel {display: flex;align-items: stretch;justify-content: center;background-color: white;position: relative;}#sk-container-id-1 div.sk-item::before, #sk-container-id-1 div.sk-parallel-item::before {content: \"\";position: absolute;border-left: 1px solid gray;box-sizing: border-box;top: 0;bottom: 0;left: 50%;z-index: -1;}#sk-container-id-1 div.sk-parallel-item {display: flex;flex-direction: column;z-index: 1;position: relative;background-color: white;}#sk-container-id-1 div.sk-parallel-item:first-child::after {align-self: flex-end;width: 50%;}#sk-container-id-1 div.sk-parallel-item:last-child::after {align-self: flex-start;width: 50%;}#sk-container-id-1 div.sk-parallel-item:only-child::after {width: 0;}#sk-container-id-1 div.sk-dashed-wrapped {border: 1px dashed gray;margin: 0 0.4em 0.5em 0.4em;box-sizing: border-box;padding-bottom: 0.4em;background-color: white;}#sk-container-id-1 div.sk-label label {font-family: monospace;font-weight: bold;display: inline-block;line-height: 1.2em;}#sk-container-id-1 div.sk-label-container {text-align: center;}#sk-container-id-1 div.sk-container {/* jupyter's `normalize.less` sets `[hidden] { display: none; }` but bootstrap.min.css set `[hidden] { display: none !important; }` so we also need the `!important` here to be able to override the default hidden behavior on the sphinx rendered scikit-learn.org. See: https://github.com/scikit-learn/scikit-learn/issues/21755 */display: inline-block !important;position: relative;}#sk-container-id-1 div.sk-text-repr-fallback {display: none;}</style><div id=\"sk-container-id-1\" class=\"sk-top-container\"><div class=\"sk-text-repr-fallback\"><pre>RandomForestClassifier()</pre><b>In a Jupyter environment, please rerun this cell to show the HTML representation or trust the notebook. <br />On GitHub, the HTML representation is unable to render, please try loading this page with nbviewer.org.</b></div><div class=\"sk-container\" hidden><div class=\"sk-item\"><div class=\"sk-estimator sk-toggleable\"><input class=\"sk-toggleable__control sk-hidden--visually\" id=\"sk-estimator-id-1\" type=\"checkbox\" checked><label for=\"sk-estimator-id-1\" class=\"sk-toggleable__label sk-toggleable__label-arrow\">RandomForestClassifier</label><div class=\"sk-toggleable__content\"><pre>RandomForestClassifier()</pre></div></div></div></div></div>"
      ],
      "text/plain": [
       "RandomForestClassifier()"
      ]
     },
     "execution_count": 12,
     "metadata": {},
     "output_type": "execute_result"
    },
    {
     "name": "stdout",
     "output_type": "stream",
     "text": [
      "              precision    recall  f1-score   support\n",
      "\n",
      "           0       0.93      0.93      0.93    125880\n",
      "           1       0.93      0.93      0.93    126266\n",
      "\n",
      "    accuracy                           0.93    252146\n",
      "   macro avg       0.93      0.93      0.93    252146\n",
      "weighted avg       0.93      0.93      0.93    252146\n",
      "\n",
      "              precision    recall  f1-score   support\n",
      "\n",
      "           0       1.00      1.00      1.00    294120\n",
      "           1       1.00      1.00      1.00    294218\n",
      "\n",
      "    accuracy                           1.00    588338\n",
      "   macro avg       1.00      1.00      1.00    588338\n",
      "weighted avg       1.00      1.00      1.00    588338\n",
      "\n"
     ]
    }
   ],
   "source": [
    "rfc = RandomForestClassifier()\n",
    "rfc.fit(X_train, y_train)\n",
    "\n",
    "#Test Data\n",
    "rfc_pred = rfc.predict(X_test)\n",
    "print(classification_report(y_test, rfc_pred))\n",
    "\n",
    "#Training Data\n",
    "rfc_pred_train = rfc.predict(X_train)\n",
    "print(classification_report(y_train, rfc_pred_train))"
   ]
  },
  {
   "cell_type": "code",
   "execution_count": 13,
   "id": "5f3b2a76-61b1-4e85-915b-e15fe6c734e0",
   "metadata": {},
   "outputs": [
    {
     "data": {
      "text/plain": [
       "array([0.29680279, 0.21904039, 0.10177063, 0.17378757, 0.10642006,\n",
       "       0.03368207, 0.06849647])"
      ]
     },
     "execution_count": 13,
     "metadata": {},
     "output_type": "execute_result"
    },
    {
     "data": {
      "text/plain": [
       "Index(['timeStamp', 'nonce', 'value', 'gas', 'gasPrice', 'input',\n",
       "       'transactionIndex'],\n",
       "      dtype='object')"
      ]
     },
     "execution_count": 13,
     "metadata": {},
     "output_type": "execute_result"
    },
    {
     "data": {
      "text/plain": [
       "<Figure size 1000x800 with 0 Axes>"
      ]
     },
     "execution_count": 13,
     "metadata": {},
     "output_type": "execute_result"
    },
    {
     "data": {
      "text/plain": [
       "<BarContainer object of 7 artists>"
      ]
     },
     "execution_count": 13,
     "metadata": {},
     "output_type": "execute_result"
    },
    {
     "data": {
      "text/plain": [
       "(array([0.  , 0.05, 0.1 , 0.15, 0.2 , 0.25, 0.3 , 0.35]),\n",
       " [Text(0.0, 0, '0.00'),\n",
       "  Text(0.05, 0, '0.05'),\n",
       "  Text(0.1, 0, '0.10'),\n",
       "  Text(0.15000000000000002, 0, '0.15'),\n",
       "  Text(0.2, 0, '0.20'),\n",
       "  Text(0.25, 0, '0.25'),\n",
       "  Text(0.30000000000000004, 0, '0.30'),\n",
       "  Text(0.35000000000000003, 0, '0.35')])"
      ]
     },
     "execution_count": 13,
     "metadata": {},
     "output_type": "execute_result"
    },
    {
     "data": {
      "image/png": "[encoded data removed]",
      "text/plain": [
       "<Figure size 1000x800 with 1 Axes>"
      ]
     },
     "metadata": {},
     "output_type": "display_data"
    }
   ],
   "source": [
    "rfc.feature_importances_\n",
    "X.columns\n",
    "\n",
    "from matplotlib import pyplot as plt\n",
    "plt.figure(figsize=(10,8))\n",
    "plt.barh(X.columns, rfc.feature_importances_)\n",
    "plt.xticks(rotation=90)"
   ]
  },
  {
   "cell_type": "markdown",
   "id": "a7ea6b9f-039c-45c4-93b8-e5ae09766b25",
   "metadata": {},
   "source": [
    "### Descriptive Statistics"
   ]
  },
  {
   "cell_type": "code",
   "execution_count": 14,
   "id": "98458631-6201-4863-b28e-12c53276a4b6",
   "metadata": {},
   "outputs": [
    {
     "data": {
      "text/html": [
       "<div>\n",
       "<style scoped>\n",
       "    .dataframe tbody tr th:only-of-type {\n",
       "        vertical-align: middle;\n",
       "    }\n",
       "\n",
       "    .dataframe tbody tr th {\n",
       "        vertical-align: top;\n",
       "    }\n",
       "\n",
       "    .dataframe thead th {\n",
       "        text-align: right;\n",
       "    }\n",
       "</style>\n",
       "<table border=\"1\" class=\"dataframe\">\n",
       "  <thead>\n",
       "    <tr style=\"text-align: right;\">\n",
       "      <th></th>\n",
       "      <th>Features</th>\n",
       "      <th>Legal</th>\n",
       "      <th>Illicit</th>\n",
       "    </tr>\n",
       "  </thead>\n",
       "  <tbody>\n",
       "    <tr>\n",
       "      <th>0</th>\n",
       "      <td>FLAG</td>\n",
       "      <td>0.000</td>\n",
       "      <td>1.000</td>\n",
       "    </tr>\n",
       "    <tr>\n",
       "      <th>1</th>\n",
       "      <td>timeStamp</td>\n",
       "      <td>1607302130.158</td>\n",
       "      <td>1589251402.342</td>\n",
       "    </tr>\n",
       "    <tr>\n",
       "      <th>2</th>\n",
       "      <td>nonce</td>\n",
       "      <td>1018104.986</td>\n",
       "      <td>58068.885</td>\n",
       "    </tr>\n",
       "    <tr>\n",
       "      <th>3</th>\n",
       "      <td>value</td>\n",
       "      <td>4.823</td>\n",
       "      <td>5.939</td>\n",
       "    </tr>\n",
       "    <tr>\n",
       "      <th>4</th>\n",
       "      <td>gas</td>\n",
       "      <td>187515.169</td>\n",
       "      <td>164449.349</td>\n",
       "    </tr>\n",
       "    <tr>\n",
       "      <th>5</th>\n",
       "      <td>gasPrice</td>\n",
       "      <td>54542682075.173</td>\n",
       "      <td>63252502804.944</td>\n",
       "    </tr>\n",
       "    <tr>\n",
       "      <th>6</th>\n",
       "      <td>input</td>\n",
       "      <td>0.606</td>\n",
       "      <td>0.390</td>\n",
       "    </tr>\n",
       "    <tr>\n",
       "      <th>7</th>\n",
       "      <td>transactionIndex</td>\n",
       "      <td>99.503</td>\n",
       "      <td>95.172</td>\n",
       "    </tr>\n",
       "  </tbody>\n",
       "</table>\n",
       "</div>"
      ],
      "text/plain": [
       "           Features           Legal         Illicit\n",
       "0              FLAG           0.000           1.000\n",
       "1         timeStamp  1607302130.158  1589251402.342\n",
       "2             nonce     1018104.986       58068.885\n",
       "3             value           4.823           5.939\n",
       "4               gas      187515.169      164449.349\n",
       "5          gasPrice 54542682075.173 63252502804.944\n",
       "6             input           0.606           0.390\n",
       "7  transactionIndex          99.503          95.172"
      ]
     },
     "execution_count": 14,
     "metadata": {},
     "output_type": "execute_result"
    }
   ],
   "source": [
    "cf.descriptive_statistics_transactions(legal_txs_trimmed, 'Legal', illicit_txs_trimmed, 'Illicit', 'mean')"
   ]
  },
  {
   "cell_type": "code",
   "execution_count": 15,
   "id": "fc5aa93b-822f-45b7-b3b2-2293e556572c",
   "metadata": {},
   "outputs": [
    {
     "data": {
      "text/html": [
       "<div>\n",
       "<style scoped>\n",
       "    .dataframe tbody tr th:only-of-type {\n",
       "        vertical-align: middle;\n",
       "    }\n",
       "\n",
       "    .dataframe tbody tr th {\n",
       "        vertical-align: top;\n",
       "    }\n",
       "\n",
       "    .dataframe thead th {\n",
       "        text-align: right;\n",
       "    }\n",
       "</style>\n",
       "<table border=\"1\" class=\"dataframe\">\n",
       "  <thead>\n",
       "    <tr style=\"text-align: right;\">\n",
       "      <th></th>\n",
       "      <th>Features</th>\n",
       "      <th>Legal</th>\n",
       "      <th>Illicit</th>\n",
       "    </tr>\n",
       "  </thead>\n",
       "  <tbody>\n",
       "    <tr>\n",
       "      <th>0</th>\n",
       "      <td>FLAG</td>\n",
       "      <td>0.000</td>\n",
       "      <td>1.000</td>\n",
       "    </tr>\n",
       "    <tr>\n",
       "      <th>1</th>\n",
       "      <td>timeStamp</td>\n",
       "      <td>1614760527.000</td>\n",
       "      <td>1600874677.000</td>\n",
       "    </tr>\n",
       "    <tr>\n",
       "      <th>2</th>\n",
       "      <td>nonce</td>\n",
       "      <td>275.000</td>\n",
       "      <td>29.000</td>\n",
       "    </tr>\n",
       "    <tr>\n",
       "      <th>3</th>\n",
       "      <td>value</td>\n",
       "      <td>0.000</td>\n",
       "      <td>0.009</td>\n",
       "    </tr>\n",
       "    <tr>\n",
       "      <th>4</th>\n",
       "      <td>gas</td>\n",
       "      <td>84277.000</td>\n",
       "      <td>46254.000</td>\n",
       "    </tr>\n",
       "    <tr>\n",
       "      <th>5</th>\n",
       "      <td>gasPrice</td>\n",
       "      <td>30000000000.000</td>\n",
       "      <td>40000000000.000</td>\n",
       "    </tr>\n",
       "    <tr>\n",
       "      <th>6</th>\n",
       "      <td>input</td>\n",
       "      <td>1.000</td>\n",
       "      <td>0.000</td>\n",
       "    </tr>\n",
       "    <tr>\n",
       "      <th>7</th>\n",
       "      <td>transactionIndex</td>\n",
       "      <td>81.000</td>\n",
       "      <td>77.000</td>\n",
       "    </tr>\n",
       "  </tbody>\n",
       "</table>\n",
       "</div>"
      ],
      "text/plain": [
       "           Features           Legal         Illicit\n",
       "0              FLAG           0.000           1.000\n",
       "1         timeStamp  1614760527.000  1600874677.000\n",
       "2             nonce         275.000          29.000\n",
       "3             value           0.000           0.009\n",
       "4               gas       84277.000       46254.000\n",
       "5          gasPrice 30000000000.000 40000000000.000\n",
       "6             input           1.000           0.000\n",
       "7  transactionIndex          81.000          77.000"
      ]
     },
     "execution_count": 15,
     "metadata": {},
     "output_type": "execute_result"
    }
   ],
   "source": [
    "cf.descriptive_statistics_transactions(legal_txs_trimmed, 'Legal', illicit_txs_trimmed, 'Illicit', 'median')"
   ]
  },
  {
   "cell_type": "markdown",
   "id": "0dfaf91e-3a0d-44c2-860c-c9b331cc1de2",
   "metadata": {},
   "source": [
    "### Split Train & Test by Timestamp"
   ]
  },
  {
   "cell_type": "code",
   "execution_count": 16,
   "id": "011806cc-5f35-4b35-990c-ec01dbe1c893",
   "metadata": {},
   "outputs": [
    {
     "data": {
      "text/plain": [
       "datetime.datetime(2016, 8, 2, 3, 36, 6)"
      ]
     },
     "execution_count": 16,
     "metadata": {},
     "output_type": "execute_result"
    },
    {
     "data": {
      "text/plain": [
       "datetime.datetime(2023, 8, 25, 23, 24, 23)"
      ]
     },
     "execution_count": 16,
     "metadata": {},
     "output_type": "execute_result"
    },
    {
     "data": {
      "text/plain": [
       "datetime.datetime(2016, 8, 7, 11, 49, 55)"
      ]
     },
     "execution_count": 16,
     "metadata": {},
     "output_type": "execute_result"
    },
    {
     "data": {
      "text/plain": [
       "datetime.datetime(2023, 8, 25, 2, 18, 35)"
      ]
     },
     "execution_count": 16,
     "metadata": {},
     "output_type": "execute_result"
    },
    {
     "data": {
      "text/plain": [
       "294339"
      ]
     },
     "execution_count": 16,
     "metadata": {},
     "output_type": "execute_result"
    },
    {
     "data": {
      "text/plain": [
       "126145"
      ]
     },
     "execution_count": 16,
     "metadata": {},
     "output_type": "execute_result"
    },
    {
     "data": {
      "text/plain": [
       "293984"
      ]
     },
     "execution_count": 16,
     "metadata": {},
     "output_type": "execute_result"
    },
    {
     "data": {
      "text/plain": [
       "125792"
      ]
     },
     "execution_count": 16,
     "metadata": {},
     "output_type": "execute_result"
    }
   ],
   "source": [
    "# Seperate Transactions By Timestamp\n",
    "\n",
    "datetime.datetime.fromtimestamp(illicit_txs_trimmed.timeStamp.min())\n",
    "datetime.datetime.fromtimestamp(illicit_txs_trimmed.timeStamp.max())\n",
    "\n",
    "datetime.datetime.fromtimestamp(legal_txs_trimmed.timeStamp.min())\n",
    "datetime.datetime.fromtimestamp(legal_txs_trimmed.timeStamp.max())\n",
    "\n",
    "illicit_train = illicit_txs_trimmed[illicit_txs_trimmed.timeStamp < np.percentile(illicit_txs_trimmed.timeStamp, 70)]\n",
    "len(illicit_train)\n",
    "illicit_test = illicit_txs_trimmed[illicit_txs_trimmed.timeStamp > np.percentile(illicit_txs_trimmed.timeStamp, 70)]\n",
    "len(illicit_test)\n",
    "\n",
    "legal_train = legal_txs_trimmed[legal_txs_trimmed.timeStamp < np.percentile(legal_txs_trimmed.timeStamp, 70)]\n",
    "len(legal_train)\n",
    "legal_test = legal_txs_trimmed[legal_txs_trimmed.timeStamp > np.percentile(legal_txs_trimmed.timeStamp, 70)]\n",
    "len(legal_test)\n",
    "\n",
    "train_dfs = [illicit_train,legal_train]\n",
    "all_train = pd.concat(train_dfs)\n",
    "\n",
    "test_dfs = [illicit_test, legal_test]\n",
    "all_test = pd.concat(test_dfs)"
   ]
  },
  {
   "cell_type": "markdown",
   "id": "937cd186-d5c8-484f-bb3b-8a10eae1ab40",
   "metadata": {},
   "source": [
    "### Train New Model Split on Older Transactions"
   ]
  },
  {
   "cell_type": "code",
   "execution_count": 17,
   "id": "bfdb8d4a-a9b0-4136-9da3-e4a35ab4ed81",
   "metadata": {},
   "outputs": [],
   "source": [
    "inital_column_drop = ['hash', 'FLAG', 'timeStamp']\n",
    "\n",
    "X_train = all_train.drop(columns=inital_column_drop)\n",
    "y_train = all_train['FLAG']\n",
    "X_test = all_test.drop(columns=inital_column_drop)\n",
    "y_test = all_test['FLAG']"
   ]
  },
  {
   "cell_type": "code",
   "execution_count": 18,
   "id": "95143090-2a61-434f-9f65-1b4bbe4ea17c",
   "metadata": {},
   "outputs": [
    {
     "data": {
      "text/html": [
       "<style>#sk-container-id-2 {color: black;}#sk-container-id-2 pre{padding: 0;}#sk-container-id-2 div.sk-toggleable {background-color: white;}#sk-container-id-2 label.sk-toggleable__label {cursor: pointer;display: block;width: 100%;margin-bottom: 0;padding: 0.3em;box-sizing: border-box;text-align: center;}#sk-container-id-2 label.sk-toggleable__label-arrow:before {content: \"▸\";float: left;margin-right: 0.25em;color: #696969;}#sk-container-id-2 label.sk-toggleable__label-arrow:hover:before {color: black;}#sk-container-id-2 div.sk-estimator:hover label.sk-toggleable__label-arrow:before {color: black;}#sk-container-id-2 div.sk-toggleable__content {max-height: 0;max-width: 0;overflow: hidden;text-align: left;background-color: #f0f8ff;}#sk-container-id-2 div.sk-toggleable__content pre {margin: 0.2em;color: black;border-radius: 0.25em;background-color: #f0f8ff;}#sk-container-id-2 input.sk-toggleable__control:checked~div.sk-toggleable__content {max-height: 200px;max-width: 100%;overflow: auto;}#sk-container-id-2 input.sk-toggleable__control:checked~label.sk-toggleable__label-arrow:before {content: \"▾\";}#sk-container-id-2 div.sk-estimator input.sk-toggleable__control:checked~label.sk-toggleable__label {background-color: #d4ebff;}#sk-container-id-2 div.sk-label input.sk-toggleable__control:checked~label.sk-toggleable__label {background-color: #d4ebff;}#sk-container-id-2 input.sk-hidden--visually {border: 0;clip: rect(1px 1px 1px 1px);clip: rect(1px, 1px, 1px, 1px);height: 1px;margin: -1px;overflow: hidden;padding: 0;position: absolute;width: 1px;}#sk-container-id-2 div.sk-estimator {font-family: monospace;background-color: #f0f8ff;border: 1px dotted black;border-radius: 0.25em;box-sizing: border-box;margin-bottom: 0.5em;}#sk-container-id-2 div.sk-estimator:hover {background-color: #d4ebff;}#sk-container-id-2 div.sk-parallel-item::after {content: \"\";width: 100%;border-bottom: 1px solid gray;flex-grow: 1;}#sk-container-id-2 div.sk-label:hover label.sk-toggleable__label {background-color: #d4ebff;}#sk-container-id-2 div.sk-serial::before {content: \"\";position: absolute;border-left: 1px solid gray;box-sizing: border-box;top: 0;bottom: 0;left: 50%;z-index: 0;}#sk-container-id-2 div.sk-serial {display: flex;flex-direction: column;align-items: center;background-color: white;padding-right: 0.2em;padding-left: 0.2em;position: relative;}#sk-container-id-2 div.sk-item {position: relative;z-index: 1;}#sk-container-id-2 div.sk-parallel {display: flex;align-items: stretch;justify-content: center;background-color: white;position: relative;}#sk-container-id-2 div.sk-item::before, #sk-container-id-2 div.sk-parallel-item::before {content: \"\";position: absolute;border-left: 1px solid gray;box-sizing: border-box;top: 0;bottom: 0;left: 50%;z-index: -1;}#sk-container-id-2 div.sk-parallel-item {display: flex;flex-direction: column;z-index: 1;position: relative;background-color: white;}#sk-container-id-2 div.sk-parallel-item:first-child::after {align-self: flex-end;width: 50%;}#sk-container-id-2 div.sk-parallel-item:last-child::after {align-self: flex-start;width: 50%;}#sk-container-id-2 div.sk-parallel-item:only-child::after {width: 0;}#sk-container-id-2 div.sk-dashed-wrapped {border: 1px dashed gray;margin: 0 0.4em 0.5em 0.4em;box-sizing: border-box;padding-bottom: 0.4em;background-color: white;}#sk-container-id-2 div.sk-label label {font-family: monospace;font-weight: bold;display: inline-block;line-height: 1.2em;}#sk-container-id-2 div.sk-label-container {text-align: center;}#sk-container-id-2 div.sk-container {/* jupyter's `normalize.less` sets `[hidden] { display: none; }` but bootstrap.min.css set `[hidden] { display: none !important; }` so we also need the `!important` here to be able to override the default hidden behavior on the sphinx rendered scikit-learn.org. See: https://github.com/scikit-learn/scikit-learn/issues/21755 */display: inline-block !important;position: relative;}#sk-container-id-2 div.sk-text-repr-fallback {display: none;}</style><div id=\"sk-container-id-2\" class=\"sk-top-container\"><div class=\"sk-text-repr-fallback\"><pre>RandomForestClassifier()</pre><b>In a Jupyter environment, please rerun this cell to show the HTML representation or trust the notebook. <br />On GitHub, the HTML representation is unable to render, please try loading this page with nbviewer.org.</b></div><div class=\"sk-container\" hidden><div class=\"sk-item\"><div class=\"sk-estimator sk-toggleable\"><input class=\"sk-toggleable__control sk-hidden--visually\" id=\"sk-estimator-id-2\" type=\"checkbox\" checked><label for=\"sk-estimator-id-2\" class=\"sk-toggleable__label sk-toggleable__label-arrow\">RandomForestClassifier</label><div class=\"sk-toggleable__content\"><pre>RandomForestClassifier()</pre></div></div></div></div></div>"
      ],
      "text/plain": [
       "RandomForestClassifier()"
      ]
     },
     "execution_count": 18,
     "metadata": {},
     "output_type": "execute_result"
    },
    {
     "name": "stdout",
     "output_type": "stream",
     "text": [
      "              precision    recall  f1-score   support\n",
      "\n",
      "           0       0.56      0.83      0.67    125792\n",
      "           1       0.67      0.35      0.46    126145\n",
      "\n",
      "    accuracy                           0.59    251937\n",
      "   macro avg       0.61      0.59      0.56    251937\n",
      "weighted avg       0.61      0.59      0.56    251937\n",
      "\n",
      "              precision    recall  f1-score   support\n",
      "\n",
      "           0       1.00      1.00      1.00    293984\n",
      "           1       1.00      1.00      1.00    294339\n",
      "\n",
      "    accuracy                           1.00    588323\n",
      "   macro avg       1.00      1.00      1.00    588323\n",
      "weighted avg       1.00      1.00      1.00    588323\n",
      "\n"
     ]
    }
   ],
   "source": [
    "rfc = RandomForestClassifier()\n",
    "rfc.fit(X_train, y_train)\n",
    "\n",
    "#Test Data\n",
    "rfc_pred = rfc.predict(X_test)\n",
    "print(classification_report(y_test, rfc_pred))\n",
    "\n",
    "#Training Data\n",
    "rfc_pred_train = rfc.predict(X_train)\n",
    "print(classification_report(y_train, rfc_pred_train))"
   ]
  },
  {
   "cell_type": "code",
   "execution_count": 19,
   "id": "d8d9b8c4-971b-4be2-9cab-912938bc141a",
   "metadata": {},
   "outputs": [
    {
     "data": {
      "text/plain": [
       "array([0.27902694, 0.15798149, 0.22383082, 0.17118558, 0.03429473,\n",
       "       0.13368045])"
      ]
     },
     "execution_count": 19,
     "metadata": {},
     "output_type": "execute_result"
    },
    {
     "data": {
      "text/plain": [
       "Index(['nonce', 'value', 'gas', 'gasPrice', 'input', 'transactionIndex'], dtype='object')"
      ]
     },
     "execution_count": 19,
     "metadata": {},
     "output_type": "execute_result"
    },
    {
     "data": {
      "text/plain": [
       "<Figure size 1000x800 with 0 Axes>"
      ]
     },
     "execution_count": 19,
     "metadata": {},
     "output_type": "execute_result"
    },
    {
     "data": {
      "text/plain": [
       "<BarContainer object of 6 artists>"
      ]
     },
     "execution_count": 19,
     "metadata": {},
     "output_type": "execute_result"
    },
    {
     "data": {
      "text/plain": [
       "(array([0.  , 0.05, 0.1 , 0.15, 0.2 , 0.25, 0.3 ]),\n",
       " [Text(0.0, 0, '0.00'),\n",
       "  Text(0.05, 0, '0.05'),\n",
       "  Text(0.1, 0, '0.10'),\n",
       "  Text(0.15000000000000002, 0, '0.15'),\n",
       "  Text(0.2, 0, '0.20'),\n",
       "  Text(0.25, 0, '0.25'),\n",
       "  Text(0.30000000000000004, 0, '0.30')])"
      ]
     },
     "execution_count": 19,
     "metadata": {},
     "output_type": "execute_result"
    },
    {
     "data": {
      "image/png": "[encoded data removed]",
      "text/plain": [
       "<Figure size 1000x800 with 1 Axes>"
      ]
     },
     "metadata": {},
     "output_type": "display_data"
    }
   ],
   "source": [
    "rfc.feature_importances_\n",
    "X_train.columns\n",
    "\n",
    "from matplotlib import pyplot as plt\n",
    "plt.figure(figsize=(10,8))\n",
    "plt.barh(X_train.columns, rfc.feature_importances_)\n",
    "plt.xticks(rotation=90)"
   ]
  }
 ],
 "metadata": {
  "kernelspec": {
   "display_name": "Python 3 (ipykernel)",
   "language": "python",
   "name": "python3"
  },
  "language_info": {
   "codemirror_mode": {
    "name": "ipython",
    "version": 3
   },
   "file_extension": ".py",
   "mimetype": "text/x-python",
   "name": "python",
   "nbconvert_exporter": "python",
   "pygments_lexer": "ipython3",
   "version": "3.10.11"
  }
 },
 "nbformat": 4,
 "nbformat_minor": 5
}
